{
 "cells": [
  {
   "cell_type": "markdown",
   "id": "c1d7f1e6",
   "metadata": {},
   "source": [
    "# libraries"
   ]
  },
  {
   "cell_type": "code",
   "execution_count": 1,
   "id": "d527f80e",
   "metadata": {},
   "outputs": [],
   "source": [
    "\n",
    "\n",
    "# pip install rarfile\n",
    "import pandas as pd\n",
    "import matplotlib.pyplot as plt\n",
    "# from zipfile import ZipFile, Path\n",
    "from rarfile import RarFile, Path\n",
    "from PIL import Image\n",
    "import numpy as np\n",
    "# import fnmatch"
   ]
  },
  {
   "cell_type": "markdown",
   "id": "6e09227f",
   "metadata": {},
   "source": [
    "# Binary DATA"
   ]
  },
  {
   "cell_type": "markdown",
   "id": "d6af3587",
   "metadata": {},
   "source": [
    "### if you have already run these cells, you can skip this section"
   ]
  },
  {
   "cell_type": "code",
   "execution_count": 9,
   "id": "93e25dda",
   "metadata": {},
   "outputs": [
    {
     "data": {
      "text/html": [
       "<div>\n",
       "<style scoped>\n",
       "    .dataframe tbody tr th:only-of-type {\n",
       "        vertical-align: middle;\n",
       "    }\n",
       "\n",
       "    .dataframe tbody tr th {\n",
       "        vertical-align: top;\n",
       "    }\n",
       "\n",
       "    .dataframe thead th {\n",
       "        text-align: right;\n",
       "    }\n",
       "</style>\n",
       "<table border=\"1\" class=\"dataframe\">\n",
       "  <thead>\n",
       "    <tr style=\"text-align: right;\">\n",
       "      <th></th>\n",
       "      <th>0</th>\n",
       "      <th>1</th>\n",
       "      <th>2</th>\n",
       "      <th>3</th>\n",
       "      <th>4</th>\n",
       "      <th>5</th>\n",
       "      <th>6</th>\n",
       "      <th>7</th>\n",
       "      <th>8</th>\n",
       "      <th>9</th>\n",
       "      <th>...</th>\n",
       "      <th>1015</th>\n",
       "      <th>1016</th>\n",
       "      <th>1017</th>\n",
       "      <th>1018</th>\n",
       "      <th>1019</th>\n",
       "      <th>1020</th>\n",
       "      <th>1021</th>\n",
       "      <th>1022</th>\n",
       "      <th>1023</th>\n",
       "      <th>1024</th>\n",
       "    </tr>\n",
       "  </thead>\n",
       "  <tbody>\n",
       "    <tr>\n",
       "      <th>0</th>\n",
       "      <td>92</td>\n",
       "      <td>92</td>\n",
       "      <td>95</td>\n",
       "      <td>95</td>\n",
       "      <td>93</td>\n",
       "      <td>95</td>\n",
       "      <td>91</td>\n",
       "      <td>87</td>\n",
       "      <td>92</td>\n",
       "      <td>96</td>\n",
       "      <td>...</td>\n",
       "      <td>55</td>\n",
       "      <td>54</td>\n",
       "      <td>54</td>\n",
       "      <td>56</td>\n",
       "      <td>56</td>\n",
       "      <td>56</td>\n",
       "      <td>57</td>\n",
       "      <td>58</td>\n",
       "      <td>55</td>\n",
       "      <td>9</td>\n",
       "    </tr>\n",
       "    <tr>\n",
       "      <th>0</th>\n",
       "      <td>124</td>\n",
       "      <td>123</td>\n",
       "      <td>121</td>\n",
       "      <td>125</td>\n",
       "      <td>119</td>\n",
       "      <td>121</td>\n",
       "      <td>127</td>\n",
       "      <td>123</td>\n",
       "      <td>124</td>\n",
       "      <td>124</td>\n",
       "      <td>...</td>\n",
       "      <td>115</td>\n",
       "      <td>121</td>\n",
       "      <td>125</td>\n",
       "      <td>124</td>\n",
       "      <td>120</td>\n",
       "      <td>117</td>\n",
       "      <td>116</td>\n",
       "      <td>121</td>\n",
       "      <td>121</td>\n",
       "      <td>2</td>\n",
       "    </tr>\n",
       "    <tr>\n",
       "      <th>0</th>\n",
       "      <td>139</td>\n",
       "      <td>138</td>\n",
       "      <td>136</td>\n",
       "      <td>137</td>\n",
       "      <td>140</td>\n",
       "      <td>139</td>\n",
       "      <td>141</td>\n",
       "      <td>139</td>\n",
       "      <td>141</td>\n",
       "      <td>137</td>\n",
       "      <td>...</td>\n",
       "      <td>99</td>\n",
       "      <td>99</td>\n",
       "      <td>101</td>\n",
       "      <td>100</td>\n",
       "      <td>98</td>\n",
       "      <td>96</td>\n",
       "      <td>97</td>\n",
       "      <td>95</td>\n",
       "      <td>96</td>\n",
       "      <td>9</td>\n",
       "    </tr>\n",
       "    <tr>\n",
       "      <th>0</th>\n",
       "      <td>61</td>\n",
       "      <td>53</td>\n",
       "      <td>78</td>\n",
       "      <td>79</td>\n",
       "      <td>77</td>\n",
       "      <td>74</td>\n",
       "      <td>69</td>\n",
       "      <td>67</td>\n",
       "      <td>46</td>\n",
       "      <td>36</td>\n",
       "      <td>...</td>\n",
       "      <td>88</td>\n",
       "      <td>73</td>\n",
       "      <td>69</td>\n",
       "      <td>69</td>\n",
       "      <td>77</td>\n",
       "      <td>87</td>\n",
       "      <td>78</td>\n",
       "      <td>72</td>\n",
       "      <td>81</td>\n",
       "      <td>1</td>\n",
       "    </tr>\n",
       "    <tr>\n",
       "      <th>0</th>\n",
       "      <td>110</td>\n",
       "      <td>91</td>\n",
       "      <td>117</td>\n",
       "      <td>128</td>\n",
       "      <td>113</td>\n",
       "      <td>128</td>\n",
       "      <td>140</td>\n",
       "      <td>124</td>\n",
       "      <td>130</td>\n",
       "      <td>130</td>\n",
       "      <td>...</td>\n",
       "      <td>111</td>\n",
       "      <td>105</td>\n",
       "      <td>111</td>\n",
       "      <td>115</td>\n",
       "      <td>105</td>\n",
       "      <td>117</td>\n",
       "      <td>123</td>\n",
       "      <td>117</td>\n",
       "      <td>111</td>\n",
       "      <td>8</td>\n",
       "    </tr>\n",
       "  </tbody>\n",
       "</table>\n",
       "<p>5 rows × 1025 columns</p>\n",
       "</div>"
      ],
      "text/plain": [
       "   0     1     2     3     4     5     6     7     8     9     ...  1015  \\\n",
       "0    92    92    95    95    93    95    91    87    92    96  ...    55   \n",
       "0   124   123   121   125   119   121   127   123   124   124  ...   115   \n",
       "0   139   138   136   137   140   139   141   139   141   137  ...    99   \n",
       "0    61    53    78    79    77    74    69    67    46    36  ...    88   \n",
       "0   110    91   117   128   113   128   140   124   130   130  ...   111   \n",
       "\n",
       "   1016  1017  1018  1019  1020  1021  1022  1023  1024  \n",
       "0    54    54    56    56    56    57    58    55     9  \n",
       "0   121   125   124   120   117   116   121   121     2  \n",
       "0    99   101   100    98    96    97    95    96     9  \n",
       "0    73    69    69    77    87    78    72    81     1  \n",
       "0   105   111   115   105   117   123   117   111     8  \n",
       "\n",
       "[5 rows x 1025 columns]"
      ]
     },
     "execution_count": 9,
     "metadata": {},
     "output_type": "execute_result"
    }
   ],
   "source": [
    "#reading Images from the zip file and concatenating them as a dataframe also adding related class numbers as a column to it\n",
    "\n",
    "\n",
    "DF_labels= pd.read_csv(\"trainLabels.csv\") \n",
    "\n",
    "with RarFile(\"ByteToImage.rar\") as zipfiles2:\n",
    "\n",
    "    #the first entry is the zipfile name\n",
    "    #we'll skip it\n",
    "    filelist2 = zipfiles2.namelist()[:-1]\n",
    "    \n",
    "    images_list = []\n",
    "    \n",
    "    for file_name in filelist2:\n",
    "        m= Image.open(zipfiles2.open(file_name)) \n",
    "        images_list.append(pd.DataFrame( np.append((np.asarray(m).reshape(-1,)),DF_labels[DF_labels[\"Id\"] == file_name[12:-4] ][\"Class\"].values) ).transpose())       \n",
    "    \n",
    "\n",
    "df = pd.concat(images_list)\n",
    "\n",
    "# at first I did a normalization on the data to make them be between 0 and 1 , But with some experiments I realized that\n",
    "# it's not nessecary and the model works well without any normalization so I commented it out.\n",
    "\n",
    "# df[df.columns[:-1]]= df[df.columns[:-1]]/256.\n",
    "\n",
    "df.head()"
   ]
  },
  {
   "cell_type": "code",
   "execution_count": 10,
   "id": "c8faf526",
   "metadata": {},
   "outputs": [
    {
     "data": {
      "image/png": "[encoded data removed]",
      "text/plain": [
       "<PIL.PngImagePlugin.PngImageFile image mode=L size=32x32 at 0x7F167649CCD0>"
      ]
     },
     "execution_count": 10,
     "metadata": {},
     "output_type": "execute_result"
    }
   ],
   "source": [
    "#showing a sample of images\n",
    "m"
   ]
  },
  {
   "cell_type": "code",
   "execution_count": 11,
   "id": "4d5d1c78",
   "metadata": {},
   "outputs": [],
   "source": [
    "#changing the name of the last column\n",
    "new_col = np.arange(df.columns[-1]).tolist()+[\"Class\"]\n",
    "df.columns = new_col"
   ]
  },
  {
   "cell_type": "code",
   "execution_count": 25,
   "id": "bb163681",
   "metadata": {},
   "outputs": [
    {
     "data": {
      "text/html": [
       "<div>\n",
       "<style scoped>\n",
       "    .dataframe tbody tr th:only-of-type {\n",
       "        vertical-align: middle;\n",
       "    }\n",
       "\n",
       "    .dataframe tbody tr th {\n",
       "        vertical-align: top;\n",
       "    }\n",
       "\n",
       "    .dataframe thead th {\n",
       "        text-align: right;\n",
       "    }\n",
       "</style>\n",
       "<table border=\"1\" class=\"dataframe\">\n",
       "  <thead>\n",
       "    <tr style=\"text-align: right;\">\n",
       "      <th></th>\n",
       "      <th>0</th>\n",
       "      <th>1</th>\n",
       "      <th>2</th>\n",
       "      <th>3</th>\n",
       "      <th>4</th>\n",
       "      <th>5</th>\n",
       "      <th>6</th>\n",
       "      <th>7</th>\n",
       "      <th>8</th>\n",
       "      <th>9</th>\n",
       "      <th>...</th>\n",
       "      <th>1015</th>\n",
       "      <th>1016</th>\n",
       "      <th>1017</th>\n",
       "      <th>1018</th>\n",
       "      <th>1019</th>\n",
       "      <th>1020</th>\n",
       "      <th>1021</th>\n",
       "      <th>1022</th>\n",
       "      <th>1023</th>\n",
       "      <th>Class</th>\n",
       "    </tr>\n",
       "  </thead>\n",
       "  <tbody>\n",
       "    <tr>\n",
       "      <th>0</th>\n",
       "      <td>92</td>\n",
       "      <td>92</td>\n",
       "      <td>95</td>\n",
       "      <td>95</td>\n",
       "      <td>93</td>\n",
       "      <td>95</td>\n",
       "      <td>91</td>\n",
       "      <td>87</td>\n",
       "      <td>92</td>\n",
       "      <td>96</td>\n",
       "      <td>...</td>\n",
       "      <td>55</td>\n",
       "      <td>54</td>\n",
       "      <td>54</td>\n",
       "      <td>56</td>\n",
       "      <td>56</td>\n",
       "      <td>56</td>\n",
       "      <td>57</td>\n",
       "      <td>58</td>\n",
       "      <td>55</td>\n",
       "      <td>9</td>\n",
       "    </tr>\n",
       "    <tr>\n",
       "      <th>0</th>\n",
       "      <td>124</td>\n",
       "      <td>123</td>\n",
       "      <td>121</td>\n",
       "      <td>125</td>\n",
       "      <td>119</td>\n",
       "      <td>121</td>\n",
       "      <td>127</td>\n",
       "      <td>123</td>\n",
       "      <td>124</td>\n",
       "      <td>124</td>\n",
       "      <td>...</td>\n",
       "      <td>115</td>\n",
       "      <td>121</td>\n",
       "      <td>125</td>\n",
       "      <td>124</td>\n",
       "      <td>120</td>\n",
       "      <td>117</td>\n",
       "      <td>116</td>\n",
       "      <td>121</td>\n",
       "      <td>121</td>\n",
       "      <td>2</td>\n",
       "    </tr>\n",
       "    <tr>\n",
       "      <th>0</th>\n",
       "      <td>139</td>\n",
       "      <td>138</td>\n",
       "      <td>136</td>\n",
       "      <td>137</td>\n",
       "      <td>140</td>\n",
       "      <td>139</td>\n",
       "      <td>141</td>\n",
       "      <td>139</td>\n",
       "      <td>141</td>\n",
       "      <td>137</td>\n",
       "      <td>...</td>\n",
       "      <td>99</td>\n",
       "      <td>99</td>\n",
       "      <td>101</td>\n",
       "      <td>100</td>\n",
       "      <td>98</td>\n",
       "      <td>96</td>\n",
       "      <td>97</td>\n",
       "      <td>95</td>\n",
       "      <td>96</td>\n",
       "      <td>9</td>\n",
       "    </tr>\n",
       "    <tr>\n",
       "      <th>0</th>\n",
       "      <td>61</td>\n",
       "      <td>53</td>\n",
       "      <td>78</td>\n",
       "      <td>79</td>\n",
       "      <td>77</td>\n",
       "      <td>74</td>\n",
       "      <td>69</td>\n",
       "      <td>67</td>\n",
       "      <td>46</td>\n",
       "      <td>36</td>\n",
       "      <td>...</td>\n",
       "      <td>88</td>\n",
       "      <td>73</td>\n",
       "      <td>69</td>\n",
       "      <td>69</td>\n",
       "      <td>77</td>\n",
       "      <td>87</td>\n",
       "      <td>78</td>\n",
       "      <td>72</td>\n",
       "      <td>81</td>\n",
       "      <td>1</td>\n",
       "    </tr>\n",
       "    <tr>\n",
       "      <th>0</th>\n",
       "      <td>110</td>\n",
       "      <td>91</td>\n",
       "      <td>117</td>\n",
       "      <td>128</td>\n",
       "      <td>113</td>\n",
       "      <td>128</td>\n",
       "      <td>140</td>\n",
       "      <td>124</td>\n",
       "      <td>130</td>\n",
       "      <td>130</td>\n",
       "      <td>...</td>\n",
       "      <td>111</td>\n",
       "      <td>105</td>\n",
       "      <td>111</td>\n",
       "      <td>115</td>\n",
       "      <td>105</td>\n",
       "      <td>117</td>\n",
       "      <td>123</td>\n",
       "      <td>117</td>\n",
       "      <td>111</td>\n",
       "      <td>8</td>\n",
       "    </tr>\n",
       "    <tr>\n",
       "      <th>...</th>\n",
       "      <td>...</td>\n",
       "      <td>...</td>\n",
       "      <td>...</td>\n",
       "      <td>...</td>\n",
       "      <td>...</td>\n",
       "      <td>...</td>\n",
       "      <td>...</td>\n",
       "      <td>...</td>\n",
       "      <td>...</td>\n",
       "      <td>...</td>\n",
       "      <td>...</td>\n",
       "      <td>...</td>\n",
       "      <td>...</td>\n",
       "      <td>...</td>\n",
       "      <td>...</td>\n",
       "      <td>...</td>\n",
       "      <td>...</td>\n",
       "      <td>...</td>\n",
       "      <td>...</td>\n",
       "      <td>...</td>\n",
       "      <td>...</td>\n",
       "    </tr>\n",
       "    <tr>\n",
       "      <th>0</th>\n",
       "      <td>95</td>\n",
       "      <td>99</td>\n",
       "      <td>96</td>\n",
       "      <td>97</td>\n",
       "      <td>115</td>\n",
       "      <td>118</td>\n",
       "      <td>113</td>\n",
       "      <td>128</td>\n",
       "      <td>121</td>\n",
       "      <td>118</td>\n",
       "      <td>...</td>\n",
       "      <td>116</td>\n",
       "      <td>113</td>\n",
       "      <td>112</td>\n",
       "      <td>111</td>\n",
       "      <td>113</td>\n",
       "      <td>109</td>\n",
       "      <td>108</td>\n",
       "      <td>104</td>\n",
       "      <td>113</td>\n",
       "      <td>4</td>\n",
       "    </tr>\n",
       "    <tr>\n",
       "      <th>0</th>\n",
       "      <td>107</td>\n",
       "      <td>141</td>\n",
       "      <td>131</td>\n",
       "      <td>124</td>\n",
       "      <td>110</td>\n",
       "      <td>121</td>\n",
       "      <td>125</td>\n",
       "      <td>128</td>\n",
       "      <td>138</td>\n",
       "      <td>128</td>\n",
       "      <td>...</td>\n",
       "      <td>35</td>\n",
       "      <td>18</td>\n",
       "      <td>19</td>\n",
       "      <td>12</td>\n",
       "      <td>18</td>\n",
       "      <td>18</td>\n",
       "      <td>14</td>\n",
       "      <td>0</td>\n",
       "      <td>21</td>\n",
       "      <td>4</td>\n",
       "    </tr>\n",
       "    <tr>\n",
       "      <th>0</th>\n",
       "      <td>135</td>\n",
       "      <td>133</td>\n",
       "      <td>106</td>\n",
       "      <td>131</td>\n",
       "      <td>134</td>\n",
       "      <td>116</td>\n",
       "      <td>118</td>\n",
       "      <td>138</td>\n",
       "      <td>134</td>\n",
       "      <td>120</td>\n",
       "      <td>...</td>\n",
       "      <td>51</td>\n",
       "      <td>50</td>\n",
       "      <td>51</td>\n",
       "      <td>51</td>\n",
       "      <td>49</td>\n",
       "      <td>48</td>\n",
       "      <td>42</td>\n",
       "      <td>49</td>\n",
       "      <td>45</td>\n",
       "      <td>4</td>\n",
       "    </tr>\n",
       "    <tr>\n",
       "      <th>0</th>\n",
       "      <td>124</td>\n",
       "      <td>127</td>\n",
       "      <td>126</td>\n",
       "      <td>113</td>\n",
       "      <td>124</td>\n",
       "      <td>128</td>\n",
       "      <td>127</td>\n",
       "      <td>129</td>\n",
       "      <td>120</td>\n",
       "      <td>128</td>\n",
       "      <td>...</td>\n",
       "      <td>60</td>\n",
       "      <td>41</td>\n",
       "      <td>18</td>\n",
       "      <td>34</td>\n",
       "      <td>80</td>\n",
       "      <td>79</td>\n",
       "      <td>83</td>\n",
       "      <td>88</td>\n",
       "      <td>85</td>\n",
       "      <td>4</td>\n",
       "    </tr>\n",
       "    <tr>\n",
       "      <th>0</th>\n",
       "      <td>125</td>\n",
       "      <td>122</td>\n",
       "      <td>101</td>\n",
       "      <td>127</td>\n",
       "      <td>123</td>\n",
       "      <td>134</td>\n",
       "      <td>147</td>\n",
       "      <td>111</td>\n",
       "      <td>127</td>\n",
       "      <td>111</td>\n",
       "      <td>...</td>\n",
       "      <td>70</td>\n",
       "      <td>66</td>\n",
       "      <td>66</td>\n",
       "      <td>73</td>\n",
       "      <td>79</td>\n",
       "      <td>73</td>\n",
       "      <td>77</td>\n",
       "      <td>78</td>\n",
       "      <td>75</td>\n",
       "      <td>4</td>\n",
       "    </tr>\n",
       "  </tbody>\n",
       "</table>\n",
       "<p>10860 rows × 1025 columns</p>\n",
       "</div>"
      ],
      "text/plain": [
       "      0    1    2    3    4    5    6    7    8    9  ...  1015  1016  1017  \\\n",
       "0    92   92   95   95   93   95   91   87   92   96  ...    55    54    54   \n",
       "0   124  123  121  125  119  121  127  123  124  124  ...   115   121   125   \n",
       "0   139  138  136  137  140  139  141  139  141  137  ...    99    99   101   \n",
       "0    61   53   78   79   77   74   69   67   46   36  ...    88    73    69   \n",
       "0   110   91  117  128  113  128  140  124  130  130  ...   111   105   111   \n",
       "..  ...  ...  ...  ...  ...  ...  ...  ...  ...  ...  ...   ...   ...   ...   \n",
       "0    95   99   96   97  115  118  113  128  121  118  ...   116   113   112   \n",
       "0   107  141  131  124  110  121  125  128  138  128  ...    35    18    19   \n",
       "0   135  133  106  131  134  116  118  138  134  120  ...    51    50    51   \n",
       "0   124  127  126  113  124  128  127  129  120  128  ...    60    41    18   \n",
       "0   125  122  101  127  123  134  147  111  127  111  ...    70    66    66   \n",
       "\n",
       "    1018  1019  1020  1021  1022  1023  Class  \n",
       "0     56    56    56    57    58    55      9  \n",
       "0    124   120   117   116   121   121      2  \n",
       "0    100    98    96    97    95    96      9  \n",
       "0     69    77    87    78    72    81      1  \n",
       "0    115   105   117   123   117   111      8  \n",
       "..   ...   ...   ...   ...   ...   ...    ...  \n",
       "0    111   113   109   108   104   113      4  \n",
       "0     12    18    18    14     0    21      4  \n",
       "0     51    49    48    42    49    45      4  \n",
       "0     34    80    79    83    88    85      4  \n",
       "0     73    79    73    77    78    75      4  \n",
       "\n",
       "[10860 rows x 1025 columns]"
      ]
     },
     "execution_count": 25,
     "metadata": {},
     "output_type": "execute_result"
    }
   ],
   "source": [
    "df"
   ]
  },
  {
   "cell_type": "code",
   "execution_count": 13,
   "id": "4077d882",
   "metadata": {},
   "outputs": [
    {
     "name": "stdout",
     "output_type": "stream",
     "text": [
      "num Total class  1  :  1533\n",
      "num Total class  2  :  2478\n",
      "num Total class  3  :  2942\n",
      "num Total class  4  :  475\n",
      "num Total class  5  :  42\n",
      "num Total class  6  :  751\n",
      "num Total class  7  :  398\n",
      "num Total class  8  :  1228\n",
      "num Total class  9  :  1013\n"
     ]
    }
   ],
   "source": [
    "#count of each class in the dataframe\n",
    "\n",
    "for i in range(9):\n",
    "    print(\"num Total class \",i+1,\" : \",sum(df[\"Class\"]==i+1))"
   ]
  },
  {
   "cell_type": "code",
   "execution_count": 26,
   "id": "bea1cc9e",
   "metadata": {},
   "outputs": [],
   "source": [
    "#saving the mentioned Dataframe\n",
    "\n",
    "filepath = \"Binary_DATA_FRAME.csv\"\n",
    "df.to_csv(filepath)  "
   ]
  },
  {
   "cell_type": "markdown",
   "id": "7ddbe442",
   "metadata": {},
   "source": [
    "# SPLIT"
   ]
  },
  {
   "cell_type": "code",
   "execution_count": 3,
   "id": "ff947bb4",
   "metadata": {},
   "outputs": [
    {
     "name": "stderr",
     "output_type": "stream",
     "text": [
      "/home/erfan_wsl/.local/lib/python3.10/site-packages/pyspark/sql/pandas/conversion.py:474: FutureWarning: iteritems is deprecated and will be removed in a future version. Use .items instead.\n",
      "  for column, series in pdf.iteritems():\n",
      "/home/erfan_wsl/.local/lib/python3.10/site-packages/pyspark/sql/pandas/conversion.py:486: FutureWarning: iteritems is deprecated and will be removed in a future version. Use .items instead.\n",
      "  for column, series in pdf.iteritems():\n"
     ]
    }
   ],
   "source": [
    "#initializing and starting a pyspark session and transform pandas dataframe to spark dataframe\n",
    "\n",
    "from pyspark.sql import SparkSession #Import the pyspark\n",
    "from pyspark.conf import SparkConf #Import the SparkConf\n",
    "from pyspark.context import SparkContext #Import the SparkContext\n",
    "import time\n",
    "from pyspark.sql import SparkSession\n",
    "\n",
    "DF = pd.read_csv(\"Binary_DATA_FRAME.csv\") \n",
    "DF = DF.drop('Unnamed: 0', axis=1)\n",
    "df = DF\n",
    "conf = SparkConf()\n",
    "conf.setMaster(\"local\").setAppName(\"HW2_q2\") \n",
    "\n",
    "sc = SparkContext.getOrCreate(conf=conf)\n",
    "\n",
    "#Create PySpark SparkSession\n",
    "spark= SparkSession.builder.master(\"local\").getOrCreate()\n",
    "\n",
    "sparkDF=spark.createDataFrame(df) \n",
    "# sparkDF.printSchema()\n",
    "# sparkDF.show()\n"
   ]
  },
  {
   "cell_type": "code",
   "execution_count": 4,
   "id": "1e4e6761",
   "metadata": {},
   "outputs": [
    {
     "data": {
      "text/html": [
       "\n",
       "            <div>\n",
       "                <p><b>SparkSession - in-memory</b></p>\n",
       "                \n",
       "        <div>\n",
       "            <p><b>SparkContext</b></p>\n",
       "\n",
       "            <p><a href=\"http://172.18.90.205:4040\">Spark UI</a></p>\n",
       "\n",
       "            <dl>\n",
       "              <dt>Version</dt>\n",
       "                <dd><code>v3.3.1</code></dd>\n",
       "              <dt>Master</dt>\n",
       "                <dd><code>local</code></dd>\n",
       "              <dt>AppName</dt>\n",
       "                <dd><code>HW2_q2</code></dd>\n",
       "            </dl>\n",
       "        </div>\n",
       "        \n",
       "            </div>\n",
       "        "
      ],
      "text/plain": [
       "<pyspark.sql.session.SparkSession at 0x7f4d3cef6560>"
      ]
     },
     "execution_count": 4,
     "metadata": {},
     "output_type": "execute_result"
    }
   ],
   "source": [
    "spark"
   ]
  },
  {
   "cell_type": "code",
   "execution_count": 5,
   "id": "c0eb0a24",
   "metadata": {},
   "outputs": [],
   "source": [
    "#spliting the dataframe to TRAIN,TEST,VALID \n",
    "\n",
    "TRAIN,TEST,VALID = sparkDF.randomSplit([0.85,0.1,0.05])"
   ]
  },
  {
   "cell_type": "code",
   "execution_count": 6,
   "id": "50430ba1",
   "metadata": {},
   "outputs": [
    {
     "name": "stdout",
     "output_type": "stream",
     "text": [
      "23/01/01 19:37:50 WARN package: Truncated the string representation of a plan since it was too large. This behavior can be adjusted by setting 'spark.sql.debug.maxToStringFields'.\n",
      "23/01/01 19:37:51 WARN TaskSetManager: Stage 0 contains a task of very large size (21780 KiB). The maximum recommended task size is 1000 KiB.\n"
     ]
    },
    {
     "name": "stderr",
     "output_type": "stream",
     "text": [
      "                                                                                \r"
     ]
    },
    {
     "name": "stdout",
     "output_type": "stream",
     "text": [
      "num TRAIN class  1  :  1315\n",
      "num TRAIN class  2  :  2097\n",
      "num TRAIN class  3  :  2539\n",
      "num TRAIN class  4  :  395\n",
      "num TRAIN class  5  :  39\n",
      "num TRAIN class  6  :  653\n",
      "num TRAIN class  7  :  335\n",
      "num TRAIN class  8  :  1041\n",
      "num TRAIN class  9  :  867\n"
     ]
    }
   ],
   "source": [
    "# count of each class in the TRAIN dataframe\n",
    "\n",
    "TRAIN_pd = TRAIN.select(\"*\").toPandas()\n",
    "for i in range(9):\n",
    "    print(\"num TRAIN class \",i+1,\" : \",sum(TRAIN_pd[\"Class\"]==i+1))"
   ]
  },
  {
   "cell_type": "code",
   "execution_count": 7,
   "id": "9b18ada1",
   "metadata": {},
   "outputs": [
    {
     "name": "stdout",
     "output_type": "stream",
     "text": [
      "23/01/01 19:38:06 WARN TaskSetManager: Stage 1 contains a task of very large size (21780 KiB). The maximum recommended task size is 1000 KiB.\n"
     ]
    },
    {
     "name": "stderr",
     "output_type": "stream",
     "text": [
      "                                                                                \r"
     ]
    },
    {
     "name": "stdout",
     "output_type": "stream",
     "text": [
      "num TEST class  1  :  139\n",
      "num TEST class  2  :  248\n",
      "num TEST class  3  :  278\n",
      "num TEST class  4  :  42\n",
      "num TEST class  5  :  2\n",
      "num TEST class  6  :  72\n",
      "num TEST class  7  :  40\n",
      "num TEST class  8  :  127\n",
      "num TEST class  9  :  89\n"
     ]
    }
   ],
   "source": [
    "# count of each class in the TEST dataframe\n",
    "\n",
    "TEST_pd = TEST.select(\"*\").toPandas()\n",
    "for i in range(9):\n",
    "    print(\"num TEST class \",i+1,\" : \",sum(TEST_pd[\"Class\"]==i+1))"
   ]
  },
  {
   "cell_type": "code",
   "execution_count": 8,
   "id": "62b25743",
   "metadata": {},
   "outputs": [
    {
     "name": "stdout",
     "output_type": "stream",
     "text": [
      "23/01/01 19:38:14 WARN TaskSetManager: Stage 2 contains a task of very large size (21780 KiB). The maximum recommended task size is 1000 KiB.\n"
     ]
    },
    {
     "name": "stderr",
     "output_type": "stream",
     "text": [
      "                                                                                \r"
     ]
    },
    {
     "name": "stdout",
     "output_type": "stream",
     "text": [
      "num VALID class  1  :  79\n",
      "num VALID class  2  :  133\n",
      "num VALID class  3  :  125\n",
      "num VALID class  4  :  38\n",
      "num VALID class  5  :  1\n",
      "num VALID class  6  :  26\n",
      "num VALID class  7  :  23\n",
      "num VALID class  8  :  60\n",
      "num VALID class  9  :  57\n"
     ]
    }
   ],
   "source": [
    "#count of each class in the VALID dataframe\n",
    "\n",
    "VALID_pd = VALID.select(\"*\").toPandas()\n",
    "for i in range(9):\n",
    "    print(\"num VALID class \",i+1,\" : \",sum(VALID_pd[\"Class\"]==i+1))"
   ]
  },
  {
   "cell_type": "code",
   "execution_count": 9,
   "id": "6b21cd61",
   "metadata": {},
   "outputs": [
    {
     "data": {
      "text/html": [
       "<div>\n",
       "<style scoped>\n",
       "    .dataframe tbody tr th:only-of-type {\n",
       "        vertical-align: middle;\n",
       "    }\n",
       "\n",
       "    .dataframe tbody tr th {\n",
       "        vertical-align: top;\n",
       "    }\n",
       "\n",
       "    .dataframe thead th {\n",
       "        text-align: right;\n",
       "    }\n",
       "</style>\n",
       "<table border=\"1\" class=\"dataframe\">\n",
       "  <thead>\n",
       "    <tr style=\"text-align: right;\">\n",
       "      <th></th>\n",
       "      <th>0</th>\n",
       "      <th>1</th>\n",
       "      <th>2</th>\n",
       "      <th>3</th>\n",
       "      <th>4</th>\n",
       "      <th>5</th>\n",
       "      <th>6</th>\n",
       "      <th>7</th>\n",
       "      <th>8</th>\n",
       "      <th>9</th>\n",
       "      <th>...</th>\n",
       "      <th>1015</th>\n",
       "      <th>1016</th>\n",
       "      <th>1017</th>\n",
       "      <th>1018</th>\n",
       "      <th>1019</th>\n",
       "      <th>1020</th>\n",
       "      <th>1021</th>\n",
       "      <th>1022</th>\n",
       "      <th>1023</th>\n",
       "      <th>Class</th>\n",
       "    </tr>\n",
       "  </thead>\n",
       "  <tbody>\n",
       "    <tr>\n",
       "      <th>0</th>\n",
       "      <td>0</td>\n",
       "      <td>13</td>\n",
       "      <td>21</td>\n",
       "      <td>30</td>\n",
       "      <td>35</td>\n",
       "      <td>7</td>\n",
       "      <td>5</td>\n",
       "      <td>0</td>\n",
       "      <td>2</td>\n",
       "      <td>0</td>\n",
       "      <td>...</td>\n",
       "      <td>52</td>\n",
       "      <td>35</td>\n",
       "      <td>36</td>\n",
       "      <td>40</td>\n",
       "      <td>42</td>\n",
       "      <td>42</td>\n",
       "      <td>42</td>\n",
       "      <td>44</td>\n",
       "      <td>42</td>\n",
       "      <td>1</td>\n",
       "    </tr>\n",
       "    <tr>\n",
       "      <th>1</th>\n",
       "      <td>30</td>\n",
       "      <td>42</td>\n",
       "      <td>47</td>\n",
       "      <td>62</td>\n",
       "      <td>60</td>\n",
       "      <td>37</td>\n",
       "      <td>41</td>\n",
       "      <td>37</td>\n",
       "      <td>38</td>\n",
       "      <td>40</td>\n",
       "      <td>...</td>\n",
       "      <td>97</td>\n",
       "      <td>89</td>\n",
       "      <td>93</td>\n",
       "      <td>95</td>\n",
       "      <td>88</td>\n",
       "      <td>71</td>\n",
       "      <td>73</td>\n",
       "      <td>78</td>\n",
       "      <td>75</td>\n",
       "      <td>1</td>\n",
       "    </tr>\n",
       "    <tr>\n",
       "      <th>2</th>\n",
       "      <td>37</td>\n",
       "      <td>42</td>\n",
       "      <td>63</td>\n",
       "      <td>46</td>\n",
       "      <td>63</td>\n",
       "      <td>48</td>\n",
       "      <td>44</td>\n",
       "      <td>56</td>\n",
       "      <td>52</td>\n",
       "      <td>58</td>\n",
       "      <td>...</td>\n",
       "      <td>65</td>\n",
       "      <td>67</td>\n",
       "      <td>66</td>\n",
       "      <td>65</td>\n",
       "      <td>62</td>\n",
       "      <td>64</td>\n",
       "      <td>64</td>\n",
       "      <td>67</td>\n",
       "      <td>66</td>\n",
       "      <td>1</td>\n",
       "    </tr>\n",
       "    <tr>\n",
       "      <th>3</th>\n",
       "      <td>45</td>\n",
       "      <td>43</td>\n",
       "      <td>42</td>\n",
       "      <td>45</td>\n",
       "      <td>44</td>\n",
       "      <td>48</td>\n",
       "      <td>36</td>\n",
       "      <td>39</td>\n",
       "      <td>40</td>\n",
       "      <td>37</td>\n",
       "      <td>...</td>\n",
       "      <td>83</td>\n",
       "      <td>74</td>\n",
       "      <td>66</td>\n",
       "      <td>74</td>\n",
       "      <td>75</td>\n",
       "      <td>80</td>\n",
       "      <td>79</td>\n",
       "      <td>76</td>\n",
       "      <td>57</td>\n",
       "      <td>1</td>\n",
       "    </tr>\n",
       "    <tr>\n",
       "      <th>4</th>\n",
       "      <td>45</td>\n",
       "      <td>51</td>\n",
       "      <td>50</td>\n",
       "      <td>58</td>\n",
       "      <td>64</td>\n",
       "      <td>57</td>\n",
       "      <td>59</td>\n",
       "      <td>55</td>\n",
       "      <td>48</td>\n",
       "      <td>43</td>\n",
       "      <td>...</td>\n",
       "      <td>83</td>\n",
       "      <td>85</td>\n",
       "      <td>80</td>\n",
       "      <td>83</td>\n",
       "      <td>78</td>\n",
       "      <td>79</td>\n",
       "      <td>80</td>\n",
       "      <td>65</td>\n",
       "      <td>63</td>\n",
       "      <td>1</td>\n",
       "    </tr>\n",
       "    <tr>\n",
       "      <th>...</th>\n",
       "      <td>...</td>\n",
       "      <td>...</td>\n",
       "      <td>...</td>\n",
       "      <td>...</td>\n",
       "      <td>...</td>\n",
       "      <td>...</td>\n",
       "      <td>...</td>\n",
       "      <td>...</td>\n",
       "      <td>...</td>\n",
       "      <td>...</td>\n",
       "      <td>...</td>\n",
       "      <td>...</td>\n",
       "      <td>...</td>\n",
       "      <td>...</td>\n",
       "      <td>...</td>\n",
       "      <td>...</td>\n",
       "      <td>...</td>\n",
       "      <td>...</td>\n",
       "      <td>...</td>\n",
       "      <td>...</td>\n",
       "      <td>...</td>\n",
       "    </tr>\n",
       "    <tr>\n",
       "      <th>537</th>\n",
       "      <td>152</td>\n",
       "      <td>153</td>\n",
       "      <td>151</td>\n",
       "      <td>151</td>\n",
       "      <td>150</td>\n",
       "      <td>152</td>\n",
       "      <td>152</td>\n",
       "      <td>148</td>\n",
       "      <td>148</td>\n",
       "      <td>147</td>\n",
       "      <td>...</td>\n",
       "      <td>103</td>\n",
       "      <td>99</td>\n",
       "      <td>106</td>\n",
       "      <td>106</td>\n",
       "      <td>107</td>\n",
       "      <td>103</td>\n",
       "      <td>106</td>\n",
       "      <td>103</td>\n",
       "      <td>103</td>\n",
       "      <td>2</td>\n",
       "    </tr>\n",
       "    <tr>\n",
       "      <th>538</th>\n",
       "      <td>153</td>\n",
       "      <td>138</td>\n",
       "      <td>138</td>\n",
       "      <td>155</td>\n",
       "      <td>160</td>\n",
       "      <td>165</td>\n",
       "      <td>148</td>\n",
       "      <td>159</td>\n",
       "      <td>139</td>\n",
       "      <td>135</td>\n",
       "      <td>...</td>\n",
       "      <td>153</td>\n",
       "      <td>0</td>\n",
       "      <td>90</td>\n",
       "      <td>168</td>\n",
       "      <td>0</td>\n",
       "      <td>53</td>\n",
       "      <td>160</td>\n",
       "      <td>0</td>\n",
       "      <td>38</td>\n",
       "      <td>7</td>\n",
       "    </tr>\n",
       "    <tr>\n",
       "      <th>539</th>\n",
       "      <td>164</td>\n",
       "      <td>131</td>\n",
       "      <td>149</td>\n",
       "      <td>149</td>\n",
       "      <td>171</td>\n",
       "      <td>152</td>\n",
       "      <td>147</td>\n",
       "      <td>144</td>\n",
       "      <td>138</td>\n",
       "      <td>133</td>\n",
       "      <td>...</td>\n",
       "      <td>72</td>\n",
       "      <td>12</td>\n",
       "      <td>0</td>\n",
       "      <td>38</td>\n",
       "      <td>17</td>\n",
       "      <td>7</td>\n",
       "      <td>31</td>\n",
       "      <td>92</td>\n",
       "      <td>118</td>\n",
       "      <td>7</td>\n",
       "    </tr>\n",
       "    <tr>\n",
       "      <th>540</th>\n",
       "      <td>164</td>\n",
       "      <td>159</td>\n",
       "      <td>146</td>\n",
       "      <td>166</td>\n",
       "      <td>169</td>\n",
       "      <td>159</td>\n",
       "      <td>170</td>\n",
       "      <td>160</td>\n",
       "      <td>173</td>\n",
       "      <td>167</td>\n",
       "      <td>...</td>\n",
       "      <td>36</td>\n",
       "      <td>36</td>\n",
       "      <td>0</td>\n",
       "      <td>0</td>\n",
       "      <td>0</td>\n",
       "      <td>0</td>\n",
       "      <td>0</td>\n",
       "      <td>1</td>\n",
       "      <td>14</td>\n",
       "      <td>8</td>\n",
       "    </tr>\n",
       "    <tr>\n",
       "      <th>541</th>\n",
       "      <td>175</td>\n",
       "      <td>149</td>\n",
       "      <td>147</td>\n",
       "      <td>157</td>\n",
       "      <td>169</td>\n",
       "      <td>127</td>\n",
       "      <td>179</td>\n",
       "      <td>158</td>\n",
       "      <td>149</td>\n",
       "      <td>161</td>\n",
       "      <td>...</td>\n",
       "      <td>254</td>\n",
       "      <td>210</td>\n",
       "      <td>200</td>\n",
       "      <td>195</td>\n",
       "      <td>198</td>\n",
       "      <td>189</td>\n",
       "      <td>186</td>\n",
       "      <td>183</td>\n",
       "      <td>185</td>\n",
       "      <td>7</td>\n",
       "    </tr>\n",
       "  </tbody>\n",
       "</table>\n",
       "<p>542 rows × 1025 columns</p>\n",
       "</div>"
      ],
      "text/plain": [
       "       0    1    2    3    4    5    6    7    8    9  ...  1015  1016  1017  \\\n",
       "0      0   13   21   30   35    7    5    0    2    0  ...    52    35    36   \n",
       "1     30   42   47   62   60   37   41   37   38   40  ...    97    89    93   \n",
       "2     37   42   63   46   63   48   44   56   52   58  ...    65    67    66   \n",
       "3     45   43   42   45   44   48   36   39   40   37  ...    83    74    66   \n",
       "4     45   51   50   58   64   57   59   55   48   43  ...    83    85    80   \n",
       "..   ...  ...  ...  ...  ...  ...  ...  ...  ...  ...  ...   ...   ...   ...   \n",
       "537  152  153  151  151  150  152  152  148  148  147  ...   103    99   106   \n",
       "538  153  138  138  155  160  165  148  159  139  135  ...   153     0    90   \n",
       "539  164  131  149  149  171  152  147  144  138  133  ...    72    12     0   \n",
       "540  164  159  146  166  169  159  170  160  173  167  ...    36    36     0   \n",
       "541  175  149  147  157  169  127  179  158  149  161  ...   254   210   200   \n",
       "\n",
       "     1018  1019  1020  1021  1022  1023  Class  \n",
       "0      40    42    42    42    44    42      1  \n",
       "1      95    88    71    73    78    75      1  \n",
       "2      65    62    64    64    67    66      1  \n",
       "3      74    75    80    79    76    57      1  \n",
       "4      83    78    79    80    65    63      1  \n",
       "..    ...   ...   ...   ...   ...   ...    ...  \n",
       "537   106   107   103   106   103   103      2  \n",
       "538   168     0    53   160     0    38      7  \n",
       "539    38    17     7    31    92   118      7  \n",
       "540     0     0     0     0     1    14      8  \n",
       "541   195   198   189   186   183   185      7  \n",
       "\n",
       "[542 rows x 1025 columns]"
      ]
     },
     "execution_count": 9,
     "metadata": {},
     "output_type": "execute_result"
    }
   ],
   "source": [
    "VALID_pd"
   ]
  },
  {
   "cell_type": "code",
   "execution_count": 10,
   "id": "241926ac",
   "metadata": {},
   "outputs": [],
   "source": [
    "# TRAIN,TEST,VALID shuffling\n",
    "\n",
    "from pyspark.sql.functions import rand \n",
    "\n",
    "TRAIN = TRAIN.orderBy(rand())\n",
    "TEST = TEST.orderBy(rand())\n",
    "VALID = VALID.orderBy(rand())"
   ]
  },
  {
   "cell_type": "code",
   "execution_count": null,
   "id": "926318fb",
   "metadata": {},
   "outputs": [],
   "source": []
  },
  {
   "cell_type": "markdown",
   "id": "067214e3",
   "metadata": {},
   "source": [
    "# Random Forest"
   ]
  },
  {
   "cell_type": "code",
   "execution_count": 11,
   "id": "d7c36e7a",
   "metadata": {},
   "outputs": [
    {
     "name": "stdout",
     "output_type": "stream",
     "text": [
      "23/01/01 19:38:38 WARN TaskSetManager: Stage 3 contains a task of very large size (21780 KiB). The maximum recommended task size is 1000 KiB.\n"
     ]
    },
    {
     "name": "stderr",
     "output_type": "stream",
     "text": [
      "                                                                                \r"
     ]
    },
    {
     "name": "stdout",
     "output_type": "stream",
     "text": [
      "Training Dataset Count: 9281\n",
      "23/01/01 19:38:40 WARN TaskSetManager: Stage 6 contains a task of very large size (21780 KiB). The maximum recommended task size is 1000 KiB.\n"
     ]
    },
    {
     "name": "stderr",
     "output_type": "stream",
     "text": [
      "                                                                                \r"
     ]
    },
    {
     "name": "stdout",
     "output_type": "stream",
     "text": [
      "Test Dataset Count: 1037\n",
      "23/01/01 19:38:42 WARN TaskSetManager: Stage 9 contains a task of very large size (21780 KiB). The maximum recommended task size is 1000 KiB.\n"
     ]
    },
    {
     "name": "stderr",
     "output_type": "stream",
     "text": [
      "\r",
      "[Stage 9:>                                                          (0 + 1) / 1]\r"
     ]
    },
    {
     "name": "stdout",
     "output_type": "stream",
     "text": [
      "Validation Dataset Count: 542\n"
     ]
    },
    {
     "name": "stderr",
     "output_type": "stream",
     "text": [
      "\r",
      "                                                                                \r"
     ]
    }
   ],
   "source": [
    "\n",
    "print(\"Training Dataset Count: \" + str(TRAIN.count()))\n",
    "print(\"Test Dataset Count: \" + str(TEST.count()))\n",
    "print(\"Validation Dataset Count: \" + str(VALID.count()))"
   ]
  },
  {
   "cell_type": "code",
   "execution_count": 12,
   "id": "0071463a",
   "metadata": {},
   "outputs": [],
   "source": [
    "#adding a features column which contains all the columns as a single list, except labels column, to all dataframes\n",
    "\n",
    "from pyspark.ml.feature import StringIndexer, VectorAssembler\n",
    "\n",
    "\n",
    "input_cols=VALID_pd.columns[:-1]\n",
    "output_cols=\"features\"\n",
    "\n",
    "assembler = VectorAssembler(inputCols=input_cols.to_list(), outputCol=output_cols)\n",
    "TRAIN = assembler.transform(TRAIN)\n",
    "TEST = assembler.transform(TEST)\n",
    "VALID = assembler.transform(VALID)\n",
    "\n"
   ]
  },
  {
   "cell_type": "code",
   "execution_count": 13,
   "id": "eae03f1c",
   "metadata": {
    "scrolled": false
   },
   "outputs": [
    {
     "name": "stdout",
     "output_type": "stream",
     "text": [
      "23/01/01 19:39:04 WARN TaskSetManager: Stage 12 contains a task of very large size (21780 KiB). The maximum recommended task size is 1000 KiB.\n"
     ]
    },
    {
     "name": "stderr",
     "output_type": "stream",
     "text": [
      "                                                                                \r"
     ]
    },
    {
     "name": "stdout",
     "output_type": "stream",
     "text": [
      "23/01/01 19:39:07 WARN TaskSetManager: Stage 13 contains a task of very large size (21780 KiB). The maximum recommended task size is 1000 KiB.\n"
     ]
    },
    {
     "name": "stderr",
     "output_type": "stream",
     "text": [
      "                                                                                \r"
     ]
    },
    {
     "data": {
      "text/html": [
       "<div>\n",
       "<style scoped>\n",
       "    .dataframe tbody tr th:only-of-type {\n",
       "        vertical-align: middle;\n",
       "    }\n",
       "\n",
       "    .dataframe tbody tr th {\n",
       "        vertical-align: top;\n",
       "    }\n",
       "\n",
       "    .dataframe thead th {\n",
       "        text-align: right;\n",
       "    }\n",
       "</style>\n",
       "<table border=\"1\" class=\"dataframe\">\n",
       "  <thead>\n",
       "    <tr style=\"text-align: right;\">\n",
       "      <th></th>\n",
       "      <th>0</th>\n",
       "      <th>1</th>\n",
       "      <th>2</th>\n",
       "      <th>3</th>\n",
       "      <th>4</th>\n",
       "      <th>5</th>\n",
       "      <th>6</th>\n",
       "      <th>7</th>\n",
       "      <th>8</th>\n",
       "      <th>9</th>\n",
       "      <th>...</th>\n",
       "      <th>1016</th>\n",
       "      <th>1017</th>\n",
       "      <th>1018</th>\n",
       "      <th>1019</th>\n",
       "      <th>1020</th>\n",
       "      <th>1021</th>\n",
       "      <th>1022</th>\n",
       "      <th>1023</th>\n",
       "      <th>Class</th>\n",
       "      <th>features</th>\n",
       "    </tr>\n",
       "  </thead>\n",
       "  <tbody>\n",
       "    <tr>\n",
       "      <th>0</th>\n",
       "      <td>118</td>\n",
       "      <td>122</td>\n",
       "      <td>125</td>\n",
       "      <td>124</td>\n",
       "      <td>117</td>\n",
       "      <td>120</td>\n",
       "      <td>121</td>\n",
       "      <td>126</td>\n",
       "      <td>124</td>\n",
       "      <td>128</td>\n",
       "      <td>...</td>\n",
       "      <td>127</td>\n",
       "      <td>129</td>\n",
       "      <td>128</td>\n",
       "      <td>130</td>\n",
       "      <td>130</td>\n",
       "      <td>126</td>\n",
       "      <td>122</td>\n",
       "      <td>120</td>\n",
       "      <td>2</td>\n",
       "      <td>[118.0, 122.0, 125.0, 124.0, 117.0, 120.0, 121...</td>\n",
       "    </tr>\n",
       "    <tr>\n",
       "      <th>1</th>\n",
       "      <td>131</td>\n",
       "      <td>131</td>\n",
       "      <td>131</td>\n",
       "      <td>132</td>\n",
       "      <td>132</td>\n",
       "      <td>131</td>\n",
       "      <td>133</td>\n",
       "      <td>135</td>\n",
       "      <td>136</td>\n",
       "      <td>136</td>\n",
       "      <td>...</td>\n",
       "      <td>112</td>\n",
       "      <td>107</td>\n",
       "      <td>104</td>\n",
       "      <td>110</td>\n",
       "      <td>108</td>\n",
       "      <td>105</td>\n",
       "      <td>103</td>\n",
       "      <td>109</td>\n",
       "      <td>2</td>\n",
       "      <td>[131.0, 131.0, 131.0, 132.0, 132.0, 131.0, 133...</td>\n",
       "    </tr>\n",
       "    <tr>\n",
       "      <th>2</th>\n",
       "      <td>101</td>\n",
       "      <td>93</td>\n",
       "      <td>97</td>\n",
       "      <td>93</td>\n",
       "      <td>88</td>\n",
       "      <td>99</td>\n",
       "      <td>102</td>\n",
       "      <td>102</td>\n",
       "      <td>95</td>\n",
       "      <td>85</td>\n",
       "      <td>...</td>\n",
       "      <td>61</td>\n",
       "      <td>62</td>\n",
       "      <td>71</td>\n",
       "      <td>62</td>\n",
       "      <td>48</td>\n",
       "      <td>46</td>\n",
       "      <td>43</td>\n",
       "      <td>41</td>\n",
       "      <td>1</td>\n",
       "      <td>[101.0, 93.0, 97.0, 93.0, 88.0, 99.0, 102.0, 1...</td>\n",
       "    </tr>\n",
       "    <tr>\n",
       "      <th>3</th>\n",
       "      <td>121</td>\n",
       "      <td>126</td>\n",
       "      <td>122</td>\n",
       "      <td>114</td>\n",
       "      <td>113</td>\n",
       "      <td>122</td>\n",
       "      <td>108</td>\n",
       "      <td>108</td>\n",
       "      <td>120</td>\n",
       "      <td>99</td>\n",
       "      <td>...</td>\n",
       "      <td>56</td>\n",
       "      <td>68</td>\n",
       "      <td>70</td>\n",
       "      <td>62</td>\n",
       "      <td>59</td>\n",
       "      <td>73</td>\n",
       "      <td>66</td>\n",
       "      <td>62</td>\n",
       "      <td>2</td>\n",
       "      <td>[121.0, 126.0, 122.0, 114.0, 113.0, 122.0, 108...</td>\n",
       "    </tr>\n",
       "    <tr>\n",
       "      <th>4</th>\n",
       "      <td>107</td>\n",
       "      <td>111</td>\n",
       "      <td>109</td>\n",
       "      <td>111</td>\n",
       "      <td>112</td>\n",
       "      <td>106</td>\n",
       "      <td>111</td>\n",
       "      <td>114</td>\n",
       "      <td>114</td>\n",
       "      <td>111</td>\n",
       "      <td>...</td>\n",
       "      <td>108</td>\n",
       "      <td>109</td>\n",
       "      <td>105</td>\n",
       "      <td>107</td>\n",
       "      <td>113</td>\n",
       "      <td>109</td>\n",
       "      <td>115</td>\n",
       "      <td>116</td>\n",
       "      <td>2</td>\n",
       "      <td>[107.0, 111.0, 109.0, 111.0, 112.0, 106.0, 111...</td>\n",
       "    </tr>\n",
       "    <tr>\n",
       "      <th>...</th>\n",
       "      <td>...</td>\n",
       "      <td>...</td>\n",
       "      <td>...</td>\n",
       "      <td>...</td>\n",
       "      <td>...</td>\n",
       "      <td>...</td>\n",
       "      <td>...</td>\n",
       "      <td>...</td>\n",
       "      <td>...</td>\n",
       "      <td>...</td>\n",
       "      <td>...</td>\n",
       "      <td>...</td>\n",
       "      <td>...</td>\n",
       "      <td>...</td>\n",
       "      <td>...</td>\n",
       "      <td>...</td>\n",
       "      <td>...</td>\n",
       "      <td>...</td>\n",
       "      <td>...</td>\n",
       "      <td>...</td>\n",
       "      <td>...</td>\n",
       "    </tr>\n",
       "    <tr>\n",
       "      <th>537</th>\n",
       "      <td>127</td>\n",
       "      <td>131</td>\n",
       "      <td>129</td>\n",
       "      <td>129</td>\n",
       "      <td>124</td>\n",
       "      <td>127</td>\n",
       "      <td>131</td>\n",
       "      <td>127</td>\n",
       "      <td>128</td>\n",
       "      <td>131</td>\n",
       "      <td>...</td>\n",
       "      <td>75</td>\n",
       "      <td>73</td>\n",
       "      <td>77</td>\n",
       "      <td>75</td>\n",
       "      <td>75</td>\n",
       "      <td>73</td>\n",
       "      <td>76</td>\n",
       "      <td>77</td>\n",
       "      <td>6</td>\n",
       "      <td>[127.0, 131.0, 129.0, 129.0, 124.0, 127.0, 131...</td>\n",
       "    </tr>\n",
       "    <tr>\n",
       "      <th>538</th>\n",
       "      <td>111</td>\n",
       "      <td>108</td>\n",
       "      <td>108</td>\n",
       "      <td>101</td>\n",
       "      <td>101</td>\n",
       "      <td>102</td>\n",
       "      <td>105</td>\n",
       "      <td>102</td>\n",
       "      <td>101</td>\n",
       "      <td>113</td>\n",
       "      <td>...</td>\n",
       "      <td>121</td>\n",
       "      <td>124</td>\n",
       "      <td>123</td>\n",
       "      <td>128</td>\n",
       "      <td>131</td>\n",
       "      <td>132</td>\n",
       "      <td>128</td>\n",
       "      <td>131</td>\n",
       "      <td>3</td>\n",
       "      <td>[111.0, 108.0, 108.0, 101.0, 101.0, 102.0, 105...</td>\n",
       "    </tr>\n",
       "    <tr>\n",
       "      <th>539</th>\n",
       "      <td>118</td>\n",
       "      <td>122</td>\n",
       "      <td>133</td>\n",
       "      <td>117</td>\n",
       "      <td>113</td>\n",
       "      <td>118</td>\n",
       "      <td>131</td>\n",
       "      <td>128</td>\n",
       "      <td>119</td>\n",
       "      <td>130</td>\n",
       "      <td>...</td>\n",
       "      <td>118</td>\n",
       "      <td>117</td>\n",
       "      <td>122</td>\n",
       "      <td>121</td>\n",
       "      <td>126</td>\n",
       "      <td>120</td>\n",
       "      <td>121</td>\n",
       "      <td>119</td>\n",
       "      <td>3</td>\n",
       "      <td>[118.0, 122.0, 133.0, 117.0, 113.0, 118.0, 131...</td>\n",
       "    </tr>\n",
       "    <tr>\n",
       "      <th>540</th>\n",
       "      <td>133</td>\n",
       "      <td>119</td>\n",
       "      <td>115</td>\n",
       "      <td>126</td>\n",
       "      <td>130</td>\n",
       "      <td>132</td>\n",
       "      <td>124</td>\n",
       "      <td>129</td>\n",
       "      <td>124</td>\n",
       "      <td>132</td>\n",
       "      <td>...</td>\n",
       "      <td>131</td>\n",
       "      <td>128</td>\n",
       "      <td>114</td>\n",
       "      <td>118</td>\n",
       "      <td>129</td>\n",
       "      <td>130</td>\n",
       "      <td>117</td>\n",
       "      <td>116</td>\n",
       "      <td>3</td>\n",
       "      <td>[133.0, 119.0, 115.0, 126.0, 130.0, 132.0, 124...</td>\n",
       "    </tr>\n",
       "    <tr>\n",
       "      <th>541</th>\n",
       "      <td>117</td>\n",
       "      <td>112</td>\n",
       "      <td>115</td>\n",
       "      <td>110</td>\n",
       "      <td>122</td>\n",
       "      <td>112</td>\n",
       "      <td>106</td>\n",
       "      <td>112</td>\n",
       "      <td>102</td>\n",
       "      <td>108</td>\n",
       "      <td>...</td>\n",
       "      <td>105</td>\n",
       "      <td>104</td>\n",
       "      <td>103</td>\n",
       "      <td>107</td>\n",
       "      <td>105</td>\n",
       "      <td>105</td>\n",
       "      <td>96</td>\n",
       "      <td>92</td>\n",
       "      <td>6</td>\n",
       "      <td>[117.0, 112.0, 115.0, 110.0, 122.0, 112.0, 106...</td>\n",
       "    </tr>\n",
       "  </tbody>\n",
       "</table>\n",
       "<p>542 rows × 1026 columns</p>\n",
       "</div>"
      ],
      "text/plain": [
       "       0    1    2    3    4    5    6    7    8    9  ...  1016  1017  1018  \\\n",
       "0    118  122  125  124  117  120  121  126  124  128  ...   127   129   128   \n",
       "1    131  131  131  132  132  131  133  135  136  136  ...   112   107   104   \n",
       "2    101   93   97   93   88   99  102  102   95   85  ...    61    62    71   \n",
       "3    121  126  122  114  113  122  108  108  120   99  ...    56    68    70   \n",
       "4    107  111  109  111  112  106  111  114  114  111  ...   108   109   105   \n",
       "..   ...  ...  ...  ...  ...  ...  ...  ...  ...  ...  ...   ...   ...   ...   \n",
       "537  127  131  129  129  124  127  131  127  128  131  ...    75    73    77   \n",
       "538  111  108  108  101  101  102  105  102  101  113  ...   121   124   123   \n",
       "539  118  122  133  117  113  118  131  128  119  130  ...   118   117   122   \n",
       "540  133  119  115  126  130  132  124  129  124  132  ...   131   128   114   \n",
       "541  117  112  115  110  122  112  106  112  102  108  ...   105   104   103   \n",
       "\n",
       "     1019  1020  1021  1022  1023  Class  \\\n",
       "0     130   130   126   122   120      2   \n",
       "1     110   108   105   103   109      2   \n",
       "2      62    48    46    43    41      1   \n",
       "3      62    59    73    66    62      2   \n",
       "4     107   113   109   115   116      2   \n",
       "..    ...   ...   ...   ...   ...    ...   \n",
       "537    75    75    73    76    77      6   \n",
       "538   128   131   132   128   131      3   \n",
       "539   121   126   120   121   119      3   \n",
       "540   118   129   130   117   116      3   \n",
       "541   107   105   105    96    92      6   \n",
       "\n",
       "                                              features  \n",
       "0    [118.0, 122.0, 125.0, 124.0, 117.0, 120.0, 121...  \n",
       "1    [131.0, 131.0, 131.0, 132.0, 132.0, 131.0, 133...  \n",
       "2    [101.0, 93.0, 97.0, 93.0, 88.0, 99.0, 102.0, 1...  \n",
       "3    [121.0, 126.0, 122.0, 114.0, 113.0, 122.0, 108...  \n",
       "4    [107.0, 111.0, 109.0, 111.0, 112.0, 106.0, 111...  \n",
       "..                                                 ...  \n",
       "537  [127.0, 131.0, 129.0, 129.0, 124.0, 127.0, 131...  \n",
       "538  [111.0, 108.0, 108.0, 101.0, 101.0, 102.0, 105...  \n",
       "539  [118.0, 122.0, 133.0, 117.0, 113.0, 118.0, 131...  \n",
       "540  [133.0, 119.0, 115.0, 126.0, 130.0, 132.0, 124...  \n",
       "541  [117.0, 112.0, 115.0, 110.0, 122.0, 112.0, 106...  \n",
       "\n",
       "[542 rows x 1026 columns]"
      ]
     },
     "execution_count": 13,
     "metadata": {},
     "output_type": "execute_result"
    }
   ],
   "source": [
    "# you can see the last column here\n",
    "\n",
    "VALID.select(\"*\").toPandas()\n"
   ]
  },
  {
   "cell_type": "markdown",
   "id": "ec0a58bd",
   "metadata": {},
   "source": [
    "# changing the maxDepth"
   ]
  },
  {
   "cell_type": "code",
   "execution_count": 14,
   "id": "466b8735",
   "metadata": {
    "scrolled": true
   },
   "outputs": [
    {
     "name": "stdout",
     "output_type": "stream",
     "text": [
      "23/01/01 19:41:48 WARN TaskSetManager: Stage 16 contains a task of very large size (21780 KiB). The maximum recommended task size is 1000 KiB.\n"
     ]
    },
    {
     "name": "stderr",
     "output_type": "stream",
     "text": [
      "                                                                                \r"
     ]
    },
    {
     "name": "stdout",
     "output_type": "stream",
     "text": [
      "23/01/01 19:41:51 WARN TaskSetManager: Stage 17 contains a task of very large size (21780 KiB). The maximum recommended task size is 1000 KiB.\n"
     ]
    },
    {
     "name": "stderr",
     "output_type": "stream",
     "text": [
      "\r",
      "[Stage 17:>                                                         (0 + 1) / 1]\r"
     ]
    },
    {
     "name": "stdout",
     "output_type": "stream",
     "text": [
      "23/01/01 19:42:05 WARN TaskSetManager: Stage 18 contains a task of very large size (21780 KiB). The maximum recommended task size is 1000 KiB.\n"
     ]
    },
    {
     "name": "stderr",
     "output_type": "stream",
     "text": [
      "                                                                                \r"
     ]
    },
    {
     "name": "stdout",
     "output_type": "stream",
     "text": [
      "23/01/01 19:42:07 WARN TaskSetManager: Stage 21 contains a task of very large size (21780 KiB). The maximum recommended task size is 1000 KiB.\n"
     ]
    },
    {
     "name": "stderr",
     "output_type": "stream",
     "text": [
      "                                                                                \r"
     ]
    },
    {
     "name": "stdout",
     "output_type": "stream",
     "text": [
      "23/01/01 19:42:08 WARN TaskSetManager: Stage 22 contains a task of very large size (21780 KiB). The maximum recommended task size is 1000 KiB.\n"
     ]
    },
    {
     "name": "stderr",
     "output_type": "stream",
     "text": [
      "                                                                                \r"
     ]
    },
    {
     "name": "stdout",
     "output_type": "stream",
     "text": [
      "23/01/01 19:42:26 WARN TaskSetManager: Stage 39 contains a task of very large size (21780 KiB). The maximum recommended task size is 1000 KiB.\n"
     ]
    },
    {
     "name": "stderr",
     "output_type": "stream",
     "text": [
      "                                                                                \r"
     ]
    },
    {
     "name": "stdout",
     "output_type": "stream",
     "text": [
      "23/01/01 19:42:27 WARN TaskSetManager: Stage 40 contains a task of very large size (21780 KiB). The maximum recommended task size is 1000 KiB.\n"
     ]
    },
    {
     "name": "stderr",
     "output_type": "stream",
     "text": [
      "\r",
      "[Stage 40:>                                                         (0 + 1) / 1]\r"
     ]
    },
    {
     "name": "stdout",
     "output_type": "stream",
     "text": [
      "23/01/01 19:42:48 WARN TaskSetManager: Stage 41 contains a task of very large size (21780 KiB). The maximum recommended task size is 1000 KiB.\n"
     ]
    },
    {
     "name": "stderr",
     "output_type": "stream",
     "text": [
      "                                                                                \r"
     ]
    },
    {
     "name": "stdout",
     "output_type": "stream",
     "text": [
      "23/01/01 19:42:49 WARN TaskSetManager: Stage 42 contains a task of very large size (21780 KiB). The maximum recommended task size is 1000 KiB.\n"
     ]
    },
    {
     "name": "stderr",
     "output_type": "stream",
     "text": [
      "\r",
      "[Stage 42:>                                                         (0 + 1) / 1]\r"
     ]
    },
    {
     "name": "stdout",
     "output_type": "stream",
     "text": [
      "23/01/01 19:43:02 WARN TaskSetManager: Stage 43 contains a task of very large size (21780 KiB). The maximum recommended task size is 1000 KiB.\n"
     ]
    },
    {
     "name": "stderr",
     "output_type": "stream",
     "text": [
      "                                                                                \r"
     ]
    },
    {
     "name": "stdout",
     "output_type": "stream",
     "text": [
      "23/01/01 19:43:03 WARN TaskSetManager: Stage 46 contains a task of very large size (21780 KiB). The maximum recommended task size is 1000 KiB.\n"
     ]
    },
    {
     "name": "stderr",
     "output_type": "stream",
     "text": [
      "                                                                                \r"
     ]
    },
    {
     "name": "stdout",
     "output_type": "stream",
     "text": [
      "23/01/01 19:43:05 WARN TaskSetManager: Stage 47 contains a task of very large size (21780 KiB). The maximum recommended task size is 1000 KiB.\n"
     ]
    },
    {
     "name": "stderr",
     "output_type": "stream",
     "text": [
      "                                                                                \r"
     ]
    },
    {
     "name": "stdout",
     "output_type": "stream",
     "text": [
      "23/01/01 19:43:16 WARN TaskSetManager: Stage 67 contains a task of very large size (21780 KiB). The maximum recommended task size is 1000 KiB.\n"
     ]
    },
    {
     "name": "stderr",
     "output_type": "stream",
     "text": [
      "                                                                                \r"
     ]
    },
    {
     "name": "stdout",
     "output_type": "stream",
     "text": [
      "23/01/01 19:43:17 WARN TaskSetManager: Stage 68 contains a task of very large size (21780 KiB). The maximum recommended task size is 1000 KiB.\n"
     ]
    },
    {
     "name": "stderr",
     "output_type": "stream",
     "text": [
      "\r",
      "[Stage 68:>                                                         (0 + 1) / 1]\r"
     ]
    },
    {
     "name": "stdout",
     "output_type": "stream",
     "text": [
      "23/01/01 19:43:35 WARN TaskSetManager: Stage 69 contains a task of very large size (21780 KiB). The maximum recommended task size is 1000 KiB.\n"
     ]
    },
    {
     "name": "stderr",
     "output_type": "stream",
     "text": [
      "                                                                                \r"
     ]
    },
    {
     "name": "stdout",
     "output_type": "stream",
     "text": [
      "23/01/01 19:43:37 WARN TaskSetManager: Stage 70 contains a task of very large size (21780 KiB). The maximum recommended task size is 1000 KiB.\n"
     ]
    },
    {
     "name": "stderr",
     "output_type": "stream",
     "text": [
      "\r",
      "[Stage 70:>                                                         (0 + 1) / 1]\r"
     ]
    },
    {
     "name": "stdout",
     "output_type": "stream",
     "text": [
      "23/01/01 19:43:50 WARN TaskSetManager: Stage 71 contains a task of very large size (21780 KiB). The maximum recommended task size is 1000 KiB.\n"
     ]
    },
    {
     "name": "stderr",
     "output_type": "stream",
     "text": [
      "                                                                                \r"
     ]
    },
    {
     "name": "stdout",
     "output_type": "stream",
     "text": [
      "23/01/01 19:43:51 WARN TaskSetManager: Stage 74 contains a task of very large size (21780 KiB). The maximum recommended task size is 1000 KiB.\n"
     ]
    },
    {
     "name": "stderr",
     "output_type": "stream",
     "text": [
      "                                                                                \r"
     ]
    },
    {
     "name": "stdout",
     "output_type": "stream",
     "text": [
      "23/01/01 19:43:53 WARN TaskSetManager: Stage 75 contains a task of very large size (21780 KiB). The maximum recommended task size is 1000 KiB.\n"
     ]
    },
    {
     "name": "stderr",
     "output_type": "stream",
     "text": [
      "                                                                                \r"
     ]
    },
    {
     "name": "stdout",
     "output_type": "stream",
     "text": [
      "23/01/01 19:44:05 WARN TaskSetManager: Stage 98 contains a task of very large size (21780 KiB). The maximum recommended task size is 1000 KiB.\n"
     ]
    },
    {
     "name": "stderr",
     "output_type": "stream",
     "text": [
      "                                                                                \r"
     ]
    },
    {
     "name": "stdout",
     "output_type": "stream",
     "text": [
      "23/01/01 19:44:06 WARN TaskSetManager: Stage 99 contains a task of very large size (21780 KiB). The maximum recommended task size is 1000 KiB.\n"
     ]
    },
    {
     "name": "stderr",
     "output_type": "stream",
     "text": [
      "\r",
      "[Stage 99:>                                                         (0 + 1) / 1]\r"
     ]
    },
    {
     "name": "stdout",
     "output_type": "stream",
     "text": [
      "23/01/01 19:44:23 WARN TaskSetManager: Stage 100 contains a task of very large size (21780 KiB). The maximum recommended task size is 1000 KiB.\n"
     ]
    },
    {
     "name": "stderr",
     "output_type": "stream",
     "text": [
      "                                                                                \r"
     ]
    },
    {
     "name": "stdout",
     "output_type": "stream",
     "text": [
      "23/01/01 19:44:25 WARN TaskSetManager: Stage 101 contains a task of very large size (21780 KiB). The maximum recommended task size is 1000 KiB.\n"
     ]
    },
    {
     "name": "stderr",
     "output_type": "stream",
     "text": [
      "\r",
      "[Stage 101:>                                                        (0 + 1) / 1]\r"
     ]
    },
    {
     "name": "stdout",
     "output_type": "stream",
     "text": [
      "23/01/01 19:44:37 WARN TaskSetManager: Stage 102 contains a task of very large size (21780 KiB). The maximum recommended task size is 1000 KiB.\n"
     ]
    },
    {
     "name": "stderr",
     "output_type": "stream",
     "text": [
      "                                                                                \r"
     ]
    },
    {
     "name": "stdout",
     "output_type": "stream",
     "text": [
      "23/01/01 19:44:39 WARN TaskSetManager: Stage 105 contains a task of very large size (21780 KiB). The maximum recommended task size is 1000 KiB.\n"
     ]
    },
    {
     "name": "stderr",
     "output_type": "stream",
     "text": [
      "                                                                                \r"
     ]
    },
    {
     "name": "stdout",
     "output_type": "stream",
     "text": [
      "23/01/01 19:44:40 WARN TaskSetManager: Stage 106 contains a task of very large size (21780 KiB). The maximum recommended task size is 1000 KiB.\n"
     ]
    },
    {
     "name": "stderr",
     "output_type": "stream",
     "text": [
      "                                                                                \r"
     ]
    },
    {
     "name": "stdout",
     "output_type": "stream",
     "text": [
      "23/01/01 19:44:53 WARN TaskSetManager: Stage 132 contains a task of very large size (21780 KiB). The maximum recommended task size is 1000 KiB.\n"
     ]
    },
    {
     "name": "stderr",
     "output_type": "stream",
     "text": [
      "                                                                                \r"
     ]
    },
    {
     "name": "stdout",
     "output_type": "stream",
     "text": [
      "23/01/01 19:44:54 WARN TaskSetManager: Stage 133 contains a task of very large size (21780 KiB). The maximum recommended task size is 1000 KiB.\n"
     ]
    },
    {
     "name": "stderr",
     "output_type": "stream",
     "text": [
      "\r",
      "[Stage 133:>                                                        (0 + 1) / 1]\r"
     ]
    },
    {
     "name": "stdout",
     "output_type": "stream",
     "text": [
      "23/01/01 19:45:11 WARN TaskSetManager: Stage 134 contains a task of very large size (21780 KiB). The maximum recommended task size is 1000 KiB.\n"
     ]
    },
    {
     "name": "stderr",
     "output_type": "stream",
     "text": [
      "                                                                                \r"
     ]
    },
    {
     "name": "stdout",
     "output_type": "stream",
     "text": [
      "23/01/01 19:45:12 WARN TaskSetManager: Stage 135 contains a task of very large size (21780 KiB). The maximum recommended task size is 1000 KiB.\n"
     ]
    },
    {
     "name": "stderr",
     "output_type": "stream",
     "text": [
      "\r",
      "[Stage 135:>                                                        (0 + 1) / 1]\r"
     ]
    },
    {
     "name": "stdout",
     "output_type": "stream",
     "text": [
      "23/01/01 19:45:25 WARN TaskSetManager: Stage 136 contains a task of very large size (21780 KiB). The maximum recommended task size is 1000 KiB.\n"
     ]
    },
    {
     "name": "stderr",
     "output_type": "stream",
     "text": [
      "                                                                                \r"
     ]
    },
    {
     "name": "stdout",
     "output_type": "stream",
     "text": [
      "23/01/01 19:45:27 WARN TaskSetManager: Stage 139 contains a task of very large size (21780 KiB). The maximum recommended task size is 1000 KiB.\n"
     ]
    },
    {
     "name": "stderr",
     "output_type": "stream",
     "text": [
      "                                                                                \r"
     ]
    },
    {
     "name": "stdout",
     "output_type": "stream",
     "text": [
      "23/01/01 19:45:28 WARN TaskSetManager: Stage 140 contains a task of very large size (21780 KiB). The maximum recommended task size is 1000 KiB.\n"
     ]
    },
    {
     "name": "stderr",
     "output_type": "stream",
     "text": [
      "                                                                                \r"
     ]
    },
    {
     "name": "stdout",
     "output_type": "stream",
     "text": [
      "23/01/01 19:45:40 WARN DAGScheduler: Broadcasting large task binary with size 1079.3 KiB\n"
     ]
    },
    {
     "name": "stderr",
     "output_type": "stream",
     "text": [
      "                                                                                \r"
     ]
    },
    {
     "name": "stdout",
     "output_type": "stream",
     "text": [
      "23/01/01 19:45:42 WARN TaskSetManager: Stage 169 contains a task of very large size (21780 KiB). The maximum recommended task size is 1000 KiB.\n"
     ]
    },
    {
     "name": "stderr",
     "output_type": "stream",
     "text": [
      "                                                                                \r"
     ]
    },
    {
     "name": "stdout",
     "output_type": "stream",
     "text": [
      "23/01/01 19:45:45 WARN TaskSetManager: Stage 170 contains a task of very large size (21780 KiB). The maximum recommended task size is 1000 KiB.\n"
     ]
    },
    {
     "name": "stderr",
     "output_type": "stream",
     "text": [
      "\r",
      "[Stage 170:>                                                        (0 + 1) / 1]\r"
     ]
    },
    {
     "name": "stdout",
     "output_type": "stream",
     "text": [
      "23/01/01 19:46:09 WARN TaskSetManager: Stage 171 contains a task of very large size (21780 KiB). The maximum recommended task size is 1000 KiB.\n"
     ]
    },
    {
     "name": "stderr",
     "output_type": "stream",
     "text": [
      "                                                                                \r"
     ]
    },
    {
     "name": "stdout",
     "output_type": "stream",
     "text": [
      "23/01/01 19:46:11 WARN TaskSetManager: Stage 172 contains a task of very large size (21780 KiB). The maximum recommended task size is 1000 KiB.\n"
     ]
    },
    {
     "name": "stderr",
     "output_type": "stream",
     "text": [
      "\r",
      "[Stage 172:>                                                        (0 + 1) / 1]\r"
     ]
    },
    {
     "name": "stdout",
     "output_type": "stream",
     "text": [
      "23/01/01 19:46:28 WARN TaskSetManager: Stage 173 contains a task of very large size (21780 KiB). The maximum recommended task size is 1000 KiB.\n"
     ]
    },
    {
     "name": "stderr",
     "output_type": "stream",
     "text": [
      "                                                                                \r"
     ]
    },
    {
     "name": "stdout",
     "output_type": "stream",
     "text": [
      "23/01/01 19:46:30 WARN TaskSetManager: Stage 176 contains a task of very large size (21780 KiB). The maximum recommended task size is 1000 KiB.\n"
     ]
    },
    {
     "name": "stderr",
     "output_type": "stream",
     "text": [
      "                                                                                \r"
     ]
    },
    {
     "name": "stdout",
     "output_type": "stream",
     "text": [
      "23/01/01 19:46:32 WARN TaskSetManager: Stage 177 contains a task of very large size (21780 KiB). The maximum recommended task size is 1000 KiB.\n"
     ]
    },
    {
     "name": "stderr",
     "output_type": "stream",
     "text": [
      "                                                                                \r"
     ]
    },
    {
     "name": "stdout",
     "output_type": "stream",
     "text": [
      "23/01/01 19:46:44 WARN DAGScheduler: Broadcasting large task binary with size 1079.3 KiB\n",
      "23/01/01 19:46:45 WARN DAGScheduler: Broadcasting large task binary with size 1256.3 KiB\n"
     ]
    },
    {
     "name": "stderr",
     "output_type": "stream",
     "text": [
      "                                                                                \r"
     ]
    },
    {
     "name": "stdout",
     "output_type": "stream",
     "text": [
      "23/01/01 19:46:48 WARN TaskSetManager: Stage 209 contains a task of very large size (21780 KiB). The maximum recommended task size is 1000 KiB.\n"
     ]
    },
    {
     "name": "stderr",
     "output_type": "stream",
     "text": [
      "                                                                                \r"
     ]
    },
    {
     "name": "stdout",
     "output_type": "stream",
     "text": [
      "23/01/01 19:46:50 WARN TaskSetManager: Stage 210 contains a task of very large size (21780 KiB). The maximum recommended task size is 1000 KiB.\n"
     ]
    },
    {
     "name": "stderr",
     "output_type": "stream",
     "text": [
      "\r",
      "[Stage 210:>                                                        (0 + 1) / 1]\r"
     ]
    },
    {
     "name": "stdout",
     "output_type": "stream",
     "text": [
      "23/01/01 19:46:53 WARN TaskSetManager: Stage 211 contains a task of very large size (21780 KiB). The maximum recommended task size is 1000 KiB.\n"
     ]
    },
    {
     "name": "stderr",
     "output_type": "stream",
     "text": [
      "                                                                                \r"
     ]
    },
    {
     "name": "stdout",
     "output_type": "stream",
     "text": [
      "23/01/01 19:46:55 WARN TaskSetManager: Stage 212 contains a task of very large size (21780 KiB). The maximum recommended task size is 1000 KiB.\n"
     ]
    },
    {
     "name": "stderr",
     "output_type": "stream",
     "text": [
      "\r",
      "[Stage 212:>                                                        (0 + 1) / 1]\r"
     ]
    },
    {
     "name": "stdout",
     "output_type": "stream",
     "text": [
      "+-----+----------+\n",
      "|Class|prediction|\n",
      "+-----+----------+\n",
      "|    2|       3.0|\n",
      "|    2|       2.0|\n",
      "|    1|       1.0|\n",
      "|    1|       1.0|\n",
      "|    2|       2.0|\n",
      "|    1|       4.0|\n",
      "|    7|       1.0|\n",
      "|    3|       3.0|\n",
      "|    8|       8.0|\n",
      "|    2|       2.0|\n",
      "+-----+----------+\n",
      "only showing top 10 rows\n",
      "\n"
     ]
    },
    {
     "name": "stderr",
     "output_type": "stream",
     "text": [
      "\r",
      "                                                                                \r"
     ]
    }
   ],
   "source": [
    "#building and training a random forest classifier with numTrees=10, maxDepth=3,4,5,6,7,8\n",
    "\n",
    "from pyspark.ml.classification import RandomForestClassifier\n",
    "predictions = []\n",
    "for dep in range(3,9):\n",
    "    rf = RandomForestClassifier(numTrees=10, maxDepth= dep ,featuresCol = \"features\", labelCol = \"Class\")\n",
    "    rfModel = rf.fit(TRAIN)\n",
    "    predictions.append( rfModel.transform(TEST) )\n",
    "\n",
    "predictions[0].select(\"Class\", \"prediction\").show(10)\n",
    "\n",
    "\n"
   ]
  },
  {
   "cell_type": "code",
   "execution_count": 15,
   "id": "486f7c89",
   "metadata": {},
   "outputs": [
    {
     "name": "stdout",
     "output_type": "stream",
     "text": [
      "23/01/01 20:03:01 WARN TaskSetManager: Stage 215 contains a task of very large size (21780 KiB). The maximum recommended task size is 1000 KiB.\n"
     ]
    },
    {
     "name": "stderr",
     "output_type": "stream",
     "text": [
      "                                                                                \r"
     ]
    },
    {
     "name": "stdout",
     "output_type": "stream",
     "text": [
      "23/01/01 20:03:03 WARN TaskSetManager: Stage 216 contains a task of very large size (21780 KiB). The maximum recommended task size is 1000 KiB.\n"
     ]
    },
    {
     "name": "stderr",
     "output_type": "stream",
     "text": [
      "                                                                                \r"
     ]
    },
    {
     "name": "stdout",
     "output_type": "stream",
     "text": [
      "23/01/01 20:03:05 WARN TaskSetManager: Stage 220 contains a task of very large size (21780 KiB). The maximum recommended task size is 1000 KiB.\n"
     ]
    },
    {
     "name": "stderr",
     "output_type": "stream",
     "text": [
      "                                                                                \r"
     ]
    },
    {
     "name": "stdout",
     "output_type": "stream",
     "text": [
      "23/01/01 20:03:07 WARN TaskSetManager: Stage 221 contains a task of very large size (21780 KiB). The maximum recommended task size is 1000 KiB.\n"
     ]
    },
    {
     "name": "stderr",
     "output_type": "stream",
     "text": [
      "                                                                                \r"
     ]
    },
    {
     "name": "stdout",
     "output_type": "stream",
     "text": [
      "23/01/01 20:03:09 WARN TaskSetManager: Stage 225 contains a task of very large size (21780 KiB). The maximum recommended task size is 1000 KiB.\n"
     ]
    },
    {
     "name": "stderr",
     "output_type": "stream",
     "text": [
      "                                                                                \r"
     ]
    },
    {
     "name": "stdout",
     "output_type": "stream",
     "text": [
      "23/01/01 20:03:11 WARN TaskSetManager: Stage 226 contains a task of very large size (21780 KiB). The maximum recommended task size is 1000 KiB.\n"
     ]
    },
    {
     "name": "stderr",
     "output_type": "stream",
     "text": [
      "                                                                                \r"
     ]
    },
    {
     "name": "stdout",
     "output_type": "stream",
     "text": [
      "23/01/01 20:03:13 WARN TaskSetManager: Stage 230 contains a task of very large size (21780 KiB). The maximum recommended task size is 1000 KiB.\n"
     ]
    },
    {
     "name": "stderr",
     "output_type": "stream",
     "text": [
      "                                                                                \r"
     ]
    },
    {
     "name": "stdout",
     "output_type": "stream",
     "text": [
      "23/01/01 20:03:14 WARN TaskSetManager: Stage 231 contains a task of very large size (21780 KiB). The maximum recommended task size is 1000 KiB.\n"
     ]
    },
    {
     "name": "stderr",
     "output_type": "stream",
     "text": [
      "                                                                                \r"
     ]
    },
    {
     "name": "stdout",
     "output_type": "stream",
     "text": [
      "23/01/01 20:03:16 WARN TaskSetManager: Stage 235 contains a task of very large size (21780 KiB). The maximum recommended task size is 1000 KiB.\n"
     ]
    },
    {
     "name": "stderr",
     "output_type": "stream",
     "text": [
      "                                                                                \r"
     ]
    },
    {
     "name": "stdout",
     "output_type": "stream",
     "text": [
      "23/01/01 20:03:18 WARN TaskSetManager: Stage 236 contains a task of very large size (21780 KiB). The maximum recommended task size is 1000 KiB.\n"
     ]
    },
    {
     "name": "stderr",
     "output_type": "stream",
     "text": [
      "                                                                                \r"
     ]
    },
    {
     "name": "stdout",
     "output_type": "stream",
     "text": [
      "23/01/01 20:03:20 WARN TaskSetManager: Stage 240 contains a task of very large size (21780 KiB). The maximum recommended task size is 1000 KiB.\n"
     ]
    },
    {
     "name": "stderr",
     "output_type": "stream",
     "text": [
      "                                                                                \r"
     ]
    },
    {
     "name": "stdout",
     "output_type": "stream",
     "text": [
      "23/01/01 20:03:22 WARN TaskSetManager: Stage 241 contains a task of very large size (21780 KiB). The maximum recommended task size is 1000 KiB.\n"
     ]
    },
    {
     "name": "stderr",
     "output_type": "stream",
     "text": [
      "\r",
      "[Stage 241:>                                                        (0 + 1) / 1]\r"
     ]
    },
    {
     "name": "stdout",
     "output_type": "stream",
     "text": [
      "Accuracy = [0.6489341263539413, 0.7981002363107618, 0.8329948886868613, 0.8716081250208865, 0.9025088943788263, 0.9124999524000985]\n"
     ]
    },
    {
     "name": "stderr",
     "output_type": "stream",
     "text": [
      "\r",
      "                                                                                \r"
     ]
    }
   ],
   "source": [
    "# calculating the accuracy \n",
    "\n",
    "from pyspark.ml.evaluation import MulticlassClassificationEvaluator\n",
    "accuracy=[]\n",
    "for p in predictions:\n",
    "    evaluator = MulticlassClassificationEvaluator(labelCol=\"Class\", predictionCol=\"prediction\")\n",
    "    accuracy.append(evaluator.evaluate(p))\n",
    "    \n",
    "print(\"Accuracy = %s\" % (accuracy))\n",
    "# print(\"Test Error = %s\" % (1.0 - accuracy))\n",
    "\n",
    "\n"
   ]
  },
  {
   "cell_type": "code",
   "execution_count": 16,
   "id": "8890fa56",
   "metadata": {},
   "outputs": [],
   "source": [
    "DEPTH_TREES = [3, 4, 5, 6, 7, 8]"
   ]
  },
  {
   "cell_type": "code",
   "execution_count": 18,
   "id": "f2676895",
   "metadata": {},
   "outputs": [
    {
     "data": {
      "image/png": "[encoded data removed]",
      "text/plain": [
       "<Figure size 432x288 with 1 Axes>"
      ]
     },
     "metadata": {
      "needs_background": "light"
     },
     "output_type": "display_data"
    }
   ],
   "source": [
    "# plotting the the accuracy of models for each DEPTH_trees in experiments\n",
    "\n",
    "plt.plot(DEPTH_TREES, accuracy,\"mo-\")\n",
    "plt.title(\"Accuracy vs Depth of Trees\")\n",
    "plt.xlabel(\"Depth of Trees\")\n",
    "plt.ylabel(\"Accuracy\")\n",
    "plt.savefig(\"Accuracy vs DEPTH_trees.png\")\n",
    "\n",
    "# so according to this result we choose DEPTH_trees = 8"
   ]
  },
  {
   "cell_type": "code",
   "execution_count": 22,
   "id": "bc380f32",
   "metadata": {},
   "outputs": [],
   "source": [
    "# choosing the best_depth\n",
    "best_depth = DEPTH_TREES[np.argmax(accuracy)]"
   ]
  },
  {
   "cell_type": "code",
   "execution_count": 39,
   "id": "f9c606b3",
   "metadata": {
    "collapsed": true
   },
   "outputs": [
    {
     "name": "stdout",
     "output_type": "stream",
     "text": [
      "23/01/01 18:09:30 WARN TaskSetManager: Stage 109 contains a task of very large size (21780 KiB). The maximum recommended task size is 1000 KiB.\n"
     ]
    },
    {
     "name": "stderr",
     "output_type": "stream",
     "text": [
      "                                                                                \r"
     ]
    },
    {
     "name": "stdout",
     "output_type": "stream",
     "text": [
      "23/01/01 18:09:32 WARN TaskSetManager: Stage 110 contains a task of very large size (21780 KiB). The maximum recommended task size is 1000 KiB.\n"
     ]
    },
    {
     "name": "stderr",
     "output_type": "stream",
     "text": [
      "\r",
      "[Stage 110:>                                                        (0 + 1) / 1]\r"
     ]
    },
    {
     "name": "stdout",
     "output_type": "stream",
     "text": [
      "23/01/01 18:09:35 WARN DAGScheduler: Broadcasting large task binary with size 1123.0 KiB\n"
     ]
    },
    {
     "name": "stderr",
     "output_type": "stream",
     "text": [
      "\r",
      "[Stage 112:>                                                        (0 + 1) / 1]\r",
      "\r",
      "                                                                                \r"
     ]
    },
    {
     "name": "stdout",
     "output_type": "stream",
     "text": [
      "23/01/01 18:09:36 WARN DAGScheduler: Broadcasting large task binary with size 1123.0 KiB\n"
     ]
    },
    {
     "name": "stderr",
     "output_type": "stream",
     "text": [
      "/home/erfan_wsl/.local/lib/python3.10/site-packages/pyspark/sql/context.py:157: FutureWarning: Deprecated in 3.0.0. Use SparkSession.builder.getOrCreate() instead.\n",
      "  warnings.warn(\n"
     ]
    },
    {
     "name": "stdout",
     "output_type": "stream",
     "text": [
      "23/01/01 18:09:37 WARN DAGScheduler: Broadcasting large task binary with size 1258.3 KiB\n",
      "23/01/01 18:09:37 WARN DAGScheduler: Broadcasting large task binary with size 1267.9 KiB\n",
      "[[136.   2.   0.   1.   0.   2.   2.   0.   9.]\n",
      " [ 11. 233.   1.   0.   0.   2.   0.   0.   9.]\n",
      " [  0.   0. 329.   0.   0.   0.   0.   0.   0.]\n",
      " [  3.   0.   4.  35.   0.   0.   0.   0.   0.]\n",
      " [  3.   0.   0.   1.   0.   0.   0.   0.   0.]\n",
      " [ 19.   3.   0.   0.   0.  29.   0.   0.  18.]\n",
      " [  0.   0.   0.   0.   0.   0.  31.   0.   4.]\n",
      " [ 12.   3.   0.   2.   0.   1.   1.  85.   7.]\n",
      " [  7.   6.   2.   7.   0.   4.   0.   0.  79.]]\n"
     ]
    }
   ],
   "source": [
    "# # obtaining the confusion matrix\n",
    "\n",
    "# from pyspark.mllib.evaluation import MulticlassMetrics\n",
    "# from pyspark.sql.types import FloatType\n",
    "# import pyspark.sql.functions as F\n",
    "\n",
    "# preds_and_labels = predictions.select(['prediction','Class']).withColumn('Class', F.col('Class').cast(FloatType())).orderBy('prediction')\n",
    "# preds_and_labels = preds_and_labels.select(['prediction','Class'])\n",
    "# metrics = MulticlassMetrics(preds_and_labels.rdd.map(tuple))\n",
    "# print(metrics.confusionMatrix().toArray())"
   ]
  },
  {
   "cell_type": "code",
   "execution_count": 40,
   "id": "437ef2f4",
   "metadata": {
    "collapsed": true
   },
   "outputs": [
    {
     "name": "stdout",
     "output_type": "stream",
     "text": [
      "Summary Stats\n",
      "\n",
      "Precision = [0.7120418848167539, 0.9433198380566802, 0.9791666666666666, 0.7608695652173914, 0.0, 0.7631578947368421, 0.9117647058823529, 1.0, 0.626984126984127]\n",
      "\n",
      "Recall = [0.8947368421052632, 0.91015625, 1.0, 0.8333333333333334, 0.0, 0.42028985507246375, 0.8857142857142857, 0.7657657657657657, 0.7523809523809524]\n",
      "\n",
      "F1 Score = [0.793002915451895, 0.9264413518886679, 0.9894736842105264, 0.7954545454545455, 0.0, 0.5420560747663552, 0.8985507246376812, 0.8673469387755102, 0.683982683982684]\n",
      "\n",
      "True Positive Rate = [0.8947368421052632, 0.91015625, 1.0, 0.8333333333333334, 0.0, 0.42028985507246375, 0.8857142857142857, 0.7657657657657657, 0.7523809523809524]\n",
      "\n",
      "False Positive Rate = [0.05783385909568875, 0.01652892561983471, 0.00904392764857881, 0.010367577756833177, 0.0, 0.008704061895551257, 0.0028089887640449437, 0.0, 0.047094188376753505]\n"
     ]
    }
   ],
   "source": [
    "# # Overall statistics\n",
    "# # calculating precision, recall, f1Score, True Positive Rate, False Positive Rate\n",
    "# # mean of these metrics have been calculated just for num_trees=30 becuase it has the best result in accuracy\n",
    "\n",
    "# precision = []\n",
    "# recall = []\n",
    "# f1Score = []\n",
    "# tpr = []\n",
    "# fpr = []\n",
    "\n",
    "# for i in range(9):\n",
    "#     precision.append(metrics.precision(i+1.) )\n",
    "#     recall.append(metrics.recall(i+1.) )\n",
    "#     f1Score.append(metrics.fMeasure(i+1.) )\n",
    "#     tpr.append(metrics.truePositiveRate(i+1.) )\n",
    "#     fpr.append(metrics.falsePositiveRate(i+1.) )\n",
    "# print(\"Summary Stats\")\n",
    "# print(\"\\nPrecision = %s\" % precision)\n",
    "# print(\"\\nRecall = %s\" % recall)\n",
    "# print(\"\\nF1 Score = %s\" % f1Score)\n",
    "# print(\"\\nTrue Positive Rate = %s\" % tpr)\n",
    "# print(\"\\nFalse Positive Rate = %s\" % fpr)\n",
    "\n",
    "\n"
   ]
  },
  {
   "cell_type": "code",
   "execution_count": 41,
   "id": "b0babba5",
   "metadata": {
    "collapsed": true
   },
   "outputs": [
    {
     "name": "stdout",
     "output_type": "stream",
     "text": [
      "Summary mean Stats\n",
      "\n",
      "Precision = 0.7441449647067571\n",
      "\n",
      "Recall = 0.718041920485785\n",
      "\n",
      "F1 Score = 0.7218121021297628\n",
      "\n",
      "True Positive Rate = 0.718041920485785\n",
      "\n",
      "False Positive Rate = 0.016931281017476128\n"
     ]
    }
   ],
   "source": [
    "# # calculaing the means for all the above metrics \n",
    "\n",
    "# precision_m = np.mean(precision)\n",
    "# recall_m = np.mean(recall)\n",
    "# f1Score_m = np.mean(f1Score)\n",
    "# tpr_m = np.mean(tpr)\n",
    "# fpr_m = np.mean(fpr)\n",
    "\n",
    "# print(\"Summary mean Stats\")\n",
    "# print(\"\\nPrecision = %s\" % precision_m)\n",
    "# print(\"\\nRecall = %s\" % recall_m)\n",
    "# print(\"\\nF1 Score = %s\" % f1Score_m)\n",
    "# print(\"\\nTrue Positive Rate = %s\" % tpr_m)\n",
    "# print(\"\\nFalse Positive Rate = %s\" % fpr_m)\n",
    "\n",
    "\n"
   ]
  },
  {
   "cell_type": "markdown",
   "id": "86b5dfed",
   "metadata": {},
   "source": [
    "# changing the Max bins"
   ]
  },
  {
   "cell_type": "code",
   "execution_count": 26,
   "id": "8deafbe8",
   "metadata": {
    "scrolled": true
   },
   "outputs": [
    {
     "name": "stdout",
     "output_type": "stream",
     "text": [
      "23/01/01 20:20:59 WARN TaskSetManager: Stage 429 contains a task of very large size (21780 KiB). The maximum recommended task size is 1000 KiB.\n"
     ]
    },
    {
     "name": "stderr",
     "output_type": "stream",
     "text": [
      "                                                                                \r"
     ]
    },
    {
     "name": "stdout",
     "output_type": "stream",
     "text": [
      "23/01/01 20:21:01 WARN TaskSetManager: Stage 430 contains a task of very large size (21780 KiB). The maximum recommended task size is 1000 KiB.\n"
     ]
    },
    {
     "name": "stderr",
     "output_type": "stream",
     "text": [
      "\r",
      "[Stage 430:>                                                        (0 + 1) / 1]\r"
     ]
    },
    {
     "name": "stdout",
     "output_type": "stream",
     "text": [
      "23/01/01 20:21:14 WARN TaskSetManager: Stage 431 contains a task of very large size (21780 KiB). The maximum recommended task size is 1000 KiB.\n"
     ]
    },
    {
     "name": "stderr",
     "output_type": "stream",
     "text": [
      "                                                                                \r"
     ]
    },
    {
     "name": "stdout",
     "output_type": "stream",
     "text": [
      "23/01/01 20:21:16 WARN TaskSetManager: Stage 434 contains a task of very large size (21780 KiB). The maximum recommended task size is 1000 KiB.\n"
     ]
    },
    {
     "name": "stderr",
     "output_type": "stream",
     "text": [
      "                                                                                \r"
     ]
    },
    {
     "name": "stdout",
     "output_type": "stream",
     "text": [
      "23/01/01 20:21:17 WARN TaskSetManager: Stage 435 contains a task of very large size (21780 KiB). The maximum recommended task size is 1000 KiB.\n"
     ]
    },
    {
     "name": "stderr",
     "output_type": "stream",
     "text": [
      "                                                                                \r"
     ]
    },
    {
     "name": "stdout",
     "output_type": "stream",
     "text": [
      "23/01/01 20:21:30 WARN DAGScheduler: Broadcasting large task binary with size 1187.8 KiB\n",
      "23/01/01 20:21:31 WARN TaskSetManager: Stage 467 contains a task of very large size (21780 KiB). The maximum recommended task size is 1000 KiB.\n"
     ]
    },
    {
     "name": "stderr",
     "output_type": "stream",
     "text": [
      "                                                                                \r"
     ]
    },
    {
     "name": "stdout",
     "output_type": "stream",
     "text": [
      "23/01/01 20:21:32 WARN TaskSetManager: Stage 468 contains a task of very large size (21780 KiB). The maximum recommended task size is 1000 KiB.\n"
     ]
    },
    {
     "name": "stderr",
     "output_type": "stream",
     "text": [
      "\r",
      "[Stage 468:>                                                        (0 + 1) / 1]\r"
     ]
    },
    {
     "name": "stdout",
     "output_type": "stream",
     "text": [
      "23/01/01 20:21:49 WARN TaskSetManager: Stage 469 contains a task of very large size (21780 KiB). The maximum recommended task size is 1000 KiB.\n"
     ]
    },
    {
     "name": "stderr",
     "output_type": "stream",
     "text": [
      "                                                                                \r"
     ]
    },
    {
     "name": "stdout",
     "output_type": "stream",
     "text": [
      "23/01/01 20:21:51 WARN TaskSetManager: Stage 470 contains a task of very large size (21780 KiB). The maximum recommended task size is 1000 KiB.\n"
     ]
    },
    {
     "name": "stderr",
     "output_type": "stream",
     "text": [
      "\r",
      "[Stage 470:>                                                        (0 + 1) / 1]\r"
     ]
    },
    {
     "name": "stdout",
     "output_type": "stream",
     "text": [
      "23/01/01 20:22:04 WARN TaskSetManager: Stage 471 contains a task of very large size (21780 KiB). The maximum recommended task size is 1000 KiB.\n"
     ]
    },
    {
     "name": "stderr",
     "output_type": "stream",
     "text": [
      "                                                                                \r"
     ]
    },
    {
     "name": "stdout",
     "output_type": "stream",
     "text": [
      "23/01/01 20:22:06 WARN TaskSetManager: Stage 474 contains a task of very large size (21780 KiB). The maximum recommended task size is 1000 KiB.\n"
     ]
    },
    {
     "name": "stderr",
     "output_type": "stream",
     "text": [
      "                                                                                \r"
     ]
    },
    {
     "name": "stdout",
     "output_type": "stream",
     "text": [
      "23/01/01 20:22:08 WARN TaskSetManager: Stage 475 contains a task of very large size (21780 KiB). The maximum recommended task size is 1000 KiB.\n"
     ]
    },
    {
     "name": "stderr",
     "output_type": "stream",
     "text": [
      "                                                                                \r"
     ]
    },
    {
     "name": "stdout",
     "output_type": "stream",
     "text": [
      "23/01/01 20:22:20 WARN DAGScheduler: Broadcasting large task binary with size 1194.4 KiB\n",
      "23/01/01 20:22:21 WARN TaskSetManager: Stage 507 contains a task of very large size (21780 KiB). The maximum recommended task size is 1000 KiB.\n"
     ]
    },
    {
     "name": "stderr",
     "output_type": "stream",
     "text": [
      "                                                                                \r"
     ]
    },
    {
     "name": "stdout",
     "output_type": "stream",
     "text": [
      "23/01/01 20:22:22 WARN TaskSetManager: Stage 508 contains a task of very large size (21780 KiB). The maximum recommended task size is 1000 KiB.\n"
     ]
    },
    {
     "name": "stderr",
     "output_type": "stream",
     "text": [
      "\r",
      "[Stage 508:>                                                        (0 + 1) / 1]\r"
     ]
    },
    {
     "name": "stdout",
     "output_type": "stream",
     "text": [
      "23/01/01 20:22:40 WARN TaskSetManager: Stage 509 contains a task of very large size (21780 KiB). The maximum recommended task size is 1000 KiB.\n"
     ]
    },
    {
     "name": "stderr",
     "output_type": "stream",
     "text": [
      "                                                                                \r"
     ]
    },
    {
     "name": "stdout",
     "output_type": "stream",
     "text": [
      "23/01/01 20:22:42 WARN TaskSetManager: Stage 510 contains a task of very large size (21780 KiB). The maximum recommended task size is 1000 KiB.\n"
     ]
    },
    {
     "name": "stderr",
     "output_type": "stream",
     "text": [
      "\r",
      "[Stage 510:>                                                        (0 + 1) / 1]\r"
     ]
    },
    {
     "name": "stdout",
     "output_type": "stream",
     "text": [
      "23/01/01 20:22:55 WARN TaskSetManager: Stage 511 contains a task of very large size (21780 KiB). The maximum recommended task size is 1000 KiB.\n"
     ]
    },
    {
     "name": "stderr",
     "output_type": "stream",
     "text": [
      "                                                                                \r"
     ]
    },
    {
     "name": "stdout",
     "output_type": "stream",
     "text": [
      "23/01/01 20:22:57 WARN TaskSetManager: Stage 514 contains a task of very large size (21780 KiB). The maximum recommended task size is 1000 KiB.\n"
     ]
    },
    {
     "name": "stderr",
     "output_type": "stream",
     "text": [
      "                                                                                \r"
     ]
    },
    {
     "name": "stdout",
     "output_type": "stream",
     "text": [
      "23/01/01 20:22:59 WARN TaskSetManager: Stage 515 contains a task of very large size (21780 KiB). The maximum recommended task size is 1000 KiB.\n"
     ]
    },
    {
     "name": "stderr",
     "output_type": "stream",
     "text": [
      "                                                                                \r"
     ]
    },
    {
     "name": "stdout",
     "output_type": "stream",
     "text": [
      "23/01/01 20:23:11 WARN DAGScheduler: Broadcasting large task binary with size 1190.2 KiB\n",
      "23/01/01 20:23:12 WARN TaskSetManager: Stage 547 contains a task of very large size (21780 KiB). The maximum recommended task size is 1000 KiB.\n"
     ]
    },
    {
     "name": "stderr",
     "output_type": "stream",
     "text": [
      "                                                                                \r"
     ]
    },
    {
     "name": "stdout",
     "output_type": "stream",
     "text": [
      "23/01/01 20:23:14 WARN TaskSetManager: Stage 548 contains a task of very large size (21780 KiB). The maximum recommended task size is 1000 KiB.\n"
     ]
    },
    {
     "name": "stderr",
     "output_type": "stream",
     "text": [
      "\r",
      "[Stage 548:>                                                        (0 + 1) / 1]\r"
     ]
    },
    {
     "name": "stdout",
     "output_type": "stream",
     "text": [
      "23/01/01 20:23:32 WARN TaskSetManager: Stage 549 contains a task of very large size (21780 KiB). The maximum recommended task size is 1000 KiB.\n"
     ]
    },
    {
     "name": "stderr",
     "output_type": "stream",
     "text": [
      "                                                                                \r"
     ]
    },
    {
     "name": "stdout",
     "output_type": "stream",
     "text": [
      "23/01/01 20:23:34 WARN TaskSetManager: Stage 550 contains a task of very large size (21780 KiB). The maximum recommended task size is 1000 KiB.\n"
     ]
    },
    {
     "name": "stderr",
     "output_type": "stream",
     "text": [
      "\r",
      "[Stage 550:>                                                        (0 + 1) / 1]\r"
     ]
    },
    {
     "name": "stdout",
     "output_type": "stream",
     "text": [
      "23/01/01 20:23:48 WARN TaskSetManager: Stage 551 contains a task of very large size (21780 KiB). The maximum recommended task size is 1000 KiB.\n"
     ]
    },
    {
     "name": "stderr",
     "output_type": "stream",
     "text": [
      "                                                                                \r"
     ]
    },
    {
     "name": "stdout",
     "output_type": "stream",
     "text": [
      "23/01/01 20:23:50 WARN TaskSetManager: Stage 554 contains a task of very large size (21780 KiB). The maximum recommended task size is 1000 KiB.\n"
     ]
    },
    {
     "name": "stderr",
     "output_type": "stream",
     "text": [
      "                                                                                \r"
     ]
    },
    {
     "name": "stdout",
     "output_type": "stream",
     "text": [
      "23/01/01 20:23:51 WARN TaskSetManager: Stage 555 contains a task of very large size (21780 KiB). The maximum recommended task size is 1000 KiB.\n"
     ]
    },
    {
     "name": "stderr",
     "output_type": "stream",
     "text": [
      "                                                                                \r"
     ]
    },
    {
     "name": "stdout",
     "output_type": "stream",
     "text": [
      "23/01/01 20:24:04 WARN DAGScheduler: Broadcasting large task binary with size 1079.3 KiB\n",
      "23/01/01 20:24:05 WARN DAGScheduler: Broadcasting large task binary with size 1256.3 KiB\n"
     ]
    },
    {
     "name": "stderr",
     "output_type": "stream",
     "text": [
      "\r",
      "[Stage 586:>                                                        (0 + 1) / 1]\r",
      "\r",
      "                                                                                \r"
     ]
    },
    {
     "name": "stdout",
     "output_type": "stream",
     "text": [
      "23/01/01 20:24:07 WARN TaskSetManager: Stage 587 contains a task of very large size (21780 KiB). The maximum recommended task size is 1000 KiB.\n"
     ]
    },
    {
     "name": "stderr",
     "output_type": "stream",
     "text": [
      "                                                                                \r"
     ]
    },
    {
     "name": "stdout",
     "output_type": "stream",
     "text": [
      "23/01/01 20:24:09 WARN TaskSetManager: Stage 588 contains a task of very large size (21780 KiB). The maximum recommended task size is 1000 KiB.\n"
     ]
    },
    {
     "name": "stderr",
     "output_type": "stream",
     "text": [
      "\r",
      "[Stage 588:>                                                        (0 + 1) / 1]\r"
     ]
    },
    {
     "name": "stdout",
     "output_type": "stream",
     "text": [
      "23/01/01 20:24:11 WARN TaskSetManager: Stage 589 contains a task of very large size (21780 KiB). The maximum recommended task size is 1000 KiB.\n"
     ]
    },
    {
     "name": "stderr",
     "output_type": "stream",
     "text": [
      "                                                                                \r"
     ]
    },
    {
     "name": "stdout",
     "output_type": "stream",
     "text": [
      "23/01/01 20:24:13 WARN TaskSetManager: Stage 590 contains a task of very large size (21780 KiB). The maximum recommended task size is 1000 KiB.\n"
     ]
    },
    {
     "name": "stderr",
     "output_type": "stream",
     "text": [
      "\r",
      "[Stage 590:>                                                        (0 + 1) / 1]\r"
     ]
    },
    {
     "name": "stdout",
     "output_type": "stream",
     "text": [
      "23/01/01 20:24:15 WARN DAGScheduler: Broadcasting large task binary with size 1026.9 KiB\n",
      "+-----+----------+\n",
      "|Class|prediction|\n",
      "+-----+----------+\n",
      "|    2|       2.0|\n",
      "|    2|       2.0|\n",
      "|    1|       1.0|\n",
      "|    1|       1.0|\n",
      "|    2|       2.0|\n",
      "|    1|       1.0|\n",
      "|    7|       7.0|\n",
      "|    3|       3.0|\n",
      "|    8|       8.0|\n",
      "|    2|       2.0|\n",
      "+-----+----------+\n",
      "only showing top 10 rows\n",
      "\n"
     ]
    },
    {
     "name": "stderr",
     "output_type": "stream",
     "text": [
      "\r",
      "                                                                                \r"
     ]
    }
   ],
   "source": [
    "#building and training a random forest classifier with numTrees=10, maxDepth=best_depth, Max bins=4, 8, 16, 32\n",
    "\n",
    "from pyspark.ml.classification import RandomForestClassifier\n",
    "predictions = []\n",
    "BINS = [4,8,16,32]\n",
    "for bins in BINS:\n",
    "    rf = RandomForestClassifier(numTrees=10, maxDepth= best_depth , maxBins=bins ,featuresCol = \"features\", labelCol = \"Class\")\n",
    "    rfModel = rf.fit(TRAIN)\n",
    "    predictions.append( rfModel.transform(TEST) )\n",
    "\n",
    "predictions[0].select(\"Class\", \"prediction\").show(10)\n",
    "\n",
    "\n"
   ]
  },
  {
   "cell_type": "code",
   "execution_count": 27,
   "id": "524cd008",
   "metadata": {},
   "outputs": [
    {
     "name": "stdout",
     "output_type": "stream",
     "text": [
      "23/01/01 20:24:16 WARN TaskSetManager: Stage 593 contains a task of very large size (21780 KiB). The maximum recommended task size is 1000 KiB.\n"
     ]
    },
    {
     "name": "stderr",
     "output_type": "stream",
     "text": [
      "                                                                                \r"
     ]
    },
    {
     "name": "stdout",
     "output_type": "stream",
     "text": [
      "23/01/01 20:24:18 WARN TaskSetManager: Stage 594 contains a task of very large size (21780 KiB). The maximum recommended task size is 1000 KiB.\n"
     ]
    },
    {
     "name": "stderr",
     "output_type": "stream",
     "text": [
      "\r",
      "[Stage 594:>                                                        (0 + 1) / 1]\r"
     ]
    },
    {
     "name": "stdout",
     "output_type": "stream",
     "text": [
      "23/01/01 20:24:20 WARN DAGScheduler: Broadcasting large task binary with size 1044.0 KiB\n"
     ]
    },
    {
     "name": "stderr",
     "output_type": "stream",
     "text": [
      "\r",
      "                                                                                \r"
     ]
    },
    {
     "name": "stdout",
     "output_type": "stream",
     "text": [
      "23/01/01 20:24:20 WARN TaskSetManager: Stage 598 contains a task of very large size (21780 KiB). The maximum recommended task size is 1000 KiB.\n"
     ]
    },
    {
     "name": "stderr",
     "output_type": "stream",
     "text": [
      "                                                                                \r"
     ]
    },
    {
     "name": "stdout",
     "output_type": "stream",
     "text": [
      "23/01/01 20:24:22 WARN TaskSetManager: Stage 599 contains a task of very large size (21780 KiB). The maximum recommended task size is 1000 KiB.\n"
     ]
    },
    {
     "name": "stderr",
     "output_type": "stream",
     "text": [
      "\r",
      "[Stage 599:>                                                        (0 + 1) / 1]\r"
     ]
    },
    {
     "name": "stdout",
     "output_type": "stream",
     "text": [
      "23/01/01 20:24:23 WARN DAGScheduler: Broadcasting large task binary with size 1019.0 KiB\n"
     ]
    },
    {
     "name": "stderr",
     "output_type": "stream",
     "text": [
      "\r",
      "                                                                                \r"
     ]
    },
    {
     "name": "stdout",
     "output_type": "stream",
     "text": [
      "23/01/01 20:24:24 WARN TaskSetManager: Stage 603 contains a task of very large size (21780 KiB). The maximum recommended task size is 1000 KiB.\n"
     ]
    },
    {
     "name": "stderr",
     "output_type": "stream",
     "text": [
      "                                                                                \r"
     ]
    },
    {
     "name": "stdout",
     "output_type": "stream",
     "text": [
      "23/01/01 20:24:25 WARN TaskSetManager: Stage 604 contains a task of very large size (21780 KiB). The maximum recommended task size is 1000 KiB.\n"
     ]
    },
    {
     "name": "stderr",
     "output_type": "stream",
     "text": [
      "                                                                                \r"
     ]
    },
    {
     "name": "stdout",
     "output_type": "stream",
     "text": [
      "23/01/01 20:24:28 WARN TaskSetManager: Stage 608 contains a task of very large size (21780 KiB). The maximum recommended task size is 1000 KiB.\n"
     ]
    },
    {
     "name": "stderr",
     "output_type": "stream",
     "text": [
      "                                                                                \r"
     ]
    },
    {
     "name": "stdout",
     "output_type": "stream",
     "text": [
      "23/01/01 20:24:30 WARN TaskSetManager: Stage 609 contains a task of very large size (21780 KiB). The maximum recommended task size is 1000 KiB.\n"
     ]
    },
    {
     "name": "stderr",
     "output_type": "stream",
     "text": [
      "\r",
      "[Stage 609:>                                                        (0 + 1) / 1]\r"
     ]
    },
    {
     "name": "stdout",
     "output_type": "stream",
     "text": [
      "Accuracy = [0.9111364303901102, 0.9106564637358802, 0.9124603107791924, 0.9124999524000985]\n"
     ]
    },
    {
     "name": "stderr",
     "output_type": "stream",
     "text": [
      "\r",
      "                                                                                \r"
     ]
    }
   ],
   "source": [
    "# calculating the accuracy \n",
    "\n",
    "from pyspark.ml.evaluation import MulticlassClassificationEvaluator\n",
    "accuracy=[]\n",
    "for p in predictions:\n",
    "    evaluator = MulticlassClassificationEvaluator(labelCol=\"Class\", predictionCol=\"prediction\")\n",
    "    accuracy.append(evaluator.evaluate(p))\n",
    "    \n",
    "print(\"Accuracy = %s\" % (accuracy))\n",
    "# print(\"Test Error = %s\" % (1.0 - accuracy))\n",
    "\n",
    "\n"
   ]
  },
  {
   "cell_type": "code",
   "execution_count": 28,
   "id": "a2fe23fa",
   "metadata": {},
   "outputs": [
    {
     "data": {
      "image/png": "[encoded data removed]",
      "text/plain": [
       "<Figure size 432x288 with 1 Axes>"
      ]
     },
     "metadata": {
      "needs_background": "light"
     },
     "output_type": "display_data"
    }
   ],
   "source": [
    "# plotting the the accuracy of models for each maxBins in experiments\n",
    "\n",
    "plt.plot(BINS, accuracy,\"mo-\")\n",
    "plt.title(\"Accuracy vs num Bins\")\n",
    "plt.xlabel(\"maxBins\")\n",
    "plt.ylabel(\"Accuracy\")\n",
    "plt.savefig(\"Accuracy vs maxBins.png\")\n"
   ]
  },
  {
   "cell_type": "code",
   "execution_count": null,
   "id": "509b5e3a",
   "metadata": {},
   "outputs": [],
   "source": []
  },
  {
   "cell_type": "code",
   "execution_count": null,
   "id": "42cca0b8",
   "metadata": {},
   "outputs": [],
   "source": []
  }
 ],
 "metadata": {
  "kernelspec": {
   "display_name": "Python 3 (ipykernel)",
   "language": "python",
   "name": "python3"
  },
  "language_info": {
   "codemirror_mode": {
    "name": "ipython",
    "version": 3
   },
   "file_extension": ".py",
   "mimetype": "text/x-python",
   "name": "python",
   "nbconvert_exporter": "python",
   "pygments_lexer": "ipython3",
   "version": "3.10.6"
  }
 },
 "nbformat": 4,
 "nbformat_minor": 5
}
