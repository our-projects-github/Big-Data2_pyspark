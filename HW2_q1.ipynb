{
 "cells": [
  {
   "cell_type": "markdown",
   "id": "2ef5dc3a",
   "metadata": {},
   "source": [
    "# libraries"
   ]
  },
  {
   "cell_type": "code",
   "execution_count": 2,
   "id": "929dbac0",
   "metadata": {},
   "outputs": [
    {
     "name": "stdout",
     "output_type": "stream",
     "text": [
      "Defaulting to user installation because normal site-packages is not writeable\n",
      "Requirement already satisfied: rarfile in /home/erfan_wsl/.local/lib/python3.10/site-packages (4.0)\n",
      "Note: you may need to restart the kernel to use updated packages.\n"
     ]
    }
   ],
   "source": [
    "# pip install rarfile"
   ]
  },
  {
   "cell_type": "code",
   "execution_count": 1,
   "id": "d2cdb6ef",
   "metadata": {},
   "outputs": [],
   "source": [
    "import pandas as pd\n",
    "import matplotlib.pyplot as plt\n",
    "# from zipfile import ZipFile, Path\n",
    "from rarfile import RarFile, Path\n",
    "from PIL import Image\n",
    "import numpy as np\n",
    "# import fnmatch"
   ]
  },
  {
   "cell_type": "markdown",
   "id": "b8bd8662",
   "metadata": {},
   "source": [
    "# Creating dataframes and saving them as csv files"
   ]
  },
  {
   "cell_type": "markdown",
   "id": "92bd2ccf",
   "metadata": {},
   "source": [
    "### if you have already run these cells, you can skip this section"
   ]
  },
  {
   "cell_type": "code",
   "execution_count": 25,
   "id": "b6e8ce49",
   "metadata": {
    "scrolled": true
   },
   "outputs": [],
   "source": [
    "#reading csv files from the zip file and concatenating them as a dataframe also creating related class numbers dataframe\n",
    "DF_labels= pd.read_csv(\"trainLabels.csv\") \n",
    "data=[]\n",
    "class_df = []\n",
    "with RarFile(\"ASM_Features.rar\") as zipfiles:\n",
    "\n",
    "    #the last entry is the zipfile name\n",
    "    #we'll skip it\n",
    "    filelist = zipfiles.namelist()[:-1]\n",
    "        \n",
    "    for file_name in filelist:\n",
    "        filelist = zipfiles.namelist()[:-1]\n",
    "\n",
    "        data.append(pd.read_csv(zipfiles.open(file_name)))\n",
    "        class_df.append( DF_labels[DF_labels[\"Id\"] == file_name[13:-4] ][\"Class\"].values[0] )\n",
    "\n",
    "        \n",
    "df = pd.concat(data)\n",
    "class_df = pd.DataFrame(class_df,columns=[\"Class\",])\n"
   ]
  },
  {
   "cell_type": "code",
   "execution_count": 69,
   "id": "4f617331",
   "metadata": {},
   "outputs": [
    {
     "data": {
      "text/html": [
       "<div>\n",
       "<style scoped>\n",
       "    .dataframe tbody tr th:only-of-type {\n",
       "        vertical-align: middle;\n",
       "    }\n",
       "\n",
       "    .dataframe tbody tr th {\n",
       "        vertical-align: top;\n",
       "    }\n",
       "\n",
       "    .dataframe thead th {\n",
       "        text-align: right;\n",
       "    }\n",
       "</style>\n",
       "<table border=\"1\" class=\"dataframe\">\n",
       "  <thead>\n",
       "    <tr style=\"text-align: right;\">\n",
       "      <th></th>\n",
       "      <th>Class</th>\n",
       "    </tr>\n",
       "  </thead>\n",
       "  <tbody>\n",
       "    <tr>\n",
       "      <th>0</th>\n",
       "      <td>9</td>\n",
       "    </tr>\n",
       "    <tr>\n",
       "      <th>1</th>\n",
       "      <td>2</td>\n",
       "    </tr>\n",
       "    <tr>\n",
       "      <th>2</th>\n",
       "      <td>9</td>\n",
       "    </tr>\n",
       "    <tr>\n",
       "      <th>3</th>\n",
       "      <td>1</td>\n",
       "    </tr>\n",
       "    <tr>\n",
       "      <th>4</th>\n",
       "      <td>8</td>\n",
       "    </tr>\n",
       "    <tr>\n",
       "      <th>...</th>\n",
       "      <td>...</td>\n",
       "    </tr>\n",
       "    <tr>\n",
       "      <th>10863</th>\n",
       "      <td>4</td>\n",
       "    </tr>\n",
       "    <tr>\n",
       "      <th>10864</th>\n",
       "      <td>4</td>\n",
       "    </tr>\n",
       "    <tr>\n",
       "      <th>10865</th>\n",
       "      <td>4</td>\n",
       "    </tr>\n",
       "    <tr>\n",
       "      <th>10866</th>\n",
       "      <td>4</td>\n",
       "    </tr>\n",
       "    <tr>\n",
       "      <th>10867</th>\n",
       "      <td>4</td>\n",
       "    </tr>\n",
       "  </tbody>\n",
       "</table>\n",
       "<p>10868 rows × 1 columns</p>\n",
       "</div>"
      ],
      "text/plain": [
       "       Class\n",
       "0          9\n",
       "1          2\n",
       "2          9\n",
       "3          1\n",
       "4          8\n",
       "...      ...\n",
       "10863      4\n",
       "10864      4\n",
       "10865      4\n",
       "10866      4\n",
       "10867      4\n",
       "\n",
       "[10868 rows x 1 columns]"
      ]
     },
     "execution_count": 69,
     "metadata": {},
     "output_type": "execute_result"
    }
   ],
   "source": [
    "class_df "
   ]
  },
  {
   "cell_type": "code",
   "execution_count": 28,
   "id": "67b26893",
   "metadata": {},
   "outputs": [
    {
     "data": {
      "text/html": [
       "<div>\n",
       "<style scoped>\n",
       "    .dataframe tbody tr th:only-of-type {\n",
       "        vertical-align: middle;\n",
       "    }\n",
       "\n",
       "    .dataframe tbody tr th {\n",
       "        vertical-align: top;\n",
       "    }\n",
       "\n",
       "    .dataframe thead th {\n",
       "        text-align: right;\n",
       "    }\n",
       "</style>\n",
       "<table border=\"1\" class=\"dataframe\">\n",
       "  <thead>\n",
       "    <tr style=\"text-align: right;\">\n",
       "      <th></th>\n",
       "      <th>Unnamed: 0</th>\n",
       "      <th>OPcodes</th>\n",
       "      <th>count</th>\n",
       "    </tr>\n",
       "  </thead>\n",
       "  <tbody>\n",
       "    <tr>\n",
       "      <th>0</th>\n",
       "      <td>0</td>\n",
       "      <td>db</td>\n",
       "      <td>1366877</td>\n",
       "    </tr>\n",
       "    <tr>\n",
       "      <th>1</th>\n",
       "      <td>1</td>\n",
       "      <td>mov</td>\n",
       "      <td>5295</td>\n",
       "    </tr>\n",
       "    <tr>\n",
       "      <th>2</th>\n",
       "      <td>2</td>\n",
       "      <td>push</td>\n",
       "      <td>3208</td>\n",
       "    </tr>\n",
       "    <tr>\n",
       "      <th>3</th>\n",
       "      <td>3</td>\n",
       "      <td>call</td>\n",
       "      <td>1533</td>\n",
       "    </tr>\n",
       "    <tr>\n",
       "      <th>4</th>\n",
       "      <td>4</td>\n",
       "      <td>jmp</td>\n",
       "      <td>730</td>\n",
       "    </tr>\n",
       "    <tr>\n",
       "      <th>...</th>\n",
       "      <td>...</td>\n",
       "      <td>...</td>\n",
       "      <td>...</td>\n",
       "    </tr>\n",
       "    <tr>\n",
       "      <th>64</th>\n",
       "      <td>64</td>\n",
       "      <td>movzx</td>\n",
       "      <td>1</td>\n",
       "    </tr>\n",
       "    <tr>\n",
       "      <th>65</th>\n",
       "      <td>65</td>\n",
       "      <td>fst</td>\n",
       "      <td>1</td>\n",
       "    </tr>\n",
       "    <tr>\n",
       "      <th>66</th>\n",
       "      <td>66</td>\n",
       "      <td>mul</td>\n",
       "      <td>1</td>\n",
       "    </tr>\n",
       "    <tr>\n",
       "      <th>67</th>\n",
       "      <td>67</td>\n",
       "      <td>jge</td>\n",
       "      <td>1</td>\n",
       "    </tr>\n",
       "    <tr>\n",
       "      <th>68</th>\n",
       "      <td>68</td>\n",
       "      <td>ja</td>\n",
       "      <td>1</td>\n",
       "    </tr>\n",
       "  </tbody>\n",
       "</table>\n",
       "<p>507499 rows × 3 columns</p>\n",
       "</div>"
      ],
      "text/plain": [
       "   Unnamed: 0 OPcodes    count\n",
       "0           0      db  1366877\n",
       "1           1     mov     5295\n",
       "2           2    push     3208\n",
       "3           3    call     1533\n",
       "4           4     jmp      730\n",
       "..        ...     ...      ...\n",
       "64         64   movzx        1\n",
       "65         65     fst        1\n",
       "66         66     mul        1\n",
       "67         67     jge        1\n",
       "68         68      ja        1\n",
       "\n",
       "[507499 rows x 3 columns]"
      ]
     },
     "execution_count": 28,
     "metadata": {},
     "output_type": "execute_result"
    }
   ],
   "source": [
    "df"
   ]
  },
  {
   "cell_type": "code",
   "execution_count": 30,
   "id": "4a0aa889",
   "metadata": {},
   "outputs": [],
   "source": [
    "#extracting all the unique OPcodes from all the files\n",
    "col = df['OPcodes'].unique()\n",
    "# d = pd.DataFrame(0, index=np.arange(1), columns=col)"
   ]
  },
  {
   "cell_type": "code",
   "execution_count": 148,
   "id": "f3cbdbef",
   "metadata": {
    "collapsed": true
   },
   "outputs": [
    {
     "data": {
      "text/plain": [
       "['db',\n",
       " 'mov',\n",
       " 'push',\n",
       " 'call',\n",
       " 'jmp',\n",
       " 'test',\n",
       " 'cmp',\n",
       " 'sub',\n",
       " 'add',\n",
       " 'jz',\n",
       " 'pop',\n",
       " 'align',\n",
       " 'dd',\n",
       " 'xor',\n",
       " 'jge',\n",
       " 'lea',\n",
       " 'jle',\n",
       " 'retn',\n",
       " 'or',\n",
       " 'shl',\n",
       " 'and',\n",
       " 'jnz',\n",
       " 'imul',\n",
       " 'sar',\n",
       " 'jl',\n",
       " 'jg',\n",
       " 'neg',\n",
       " 'dec',\n",
       " 'inc',\n",
       " 'shr',\n",
       " 'stmxcsr',\n",
       " 'setnl',\n",
       " 'adc',\n",
       " 'dw',\n",
       " 'jb',\n",
       " 'unicode',\n",
       " 'not',\n",
       " 'movzx',\n",
       " 'mul',\n",
       " 'jbe',\n",
       " 'jnb',\n",
       " 'ja',\n",
       " 'div',\n",
       " 'sbb',\n",
       " 'lock',\n",
       " 'rcr',\n",
       " 'rcl',\n",
       " 'rep',\n",
       " 'les',\n",
       " 'movlps',\n",
       " 'int',\n",
       " 'xchg',\n",
       " 'retf',\n",
       " 'arpl',\n",
       " 'out',\n",
       " 'ror',\n",
       " 'in',\n",
       " 'repne',\n",
       " 'enter',\n",
       " 'lds',\n",
       " 'jnp',\n",
       " 'loop',\n",
       " 'fcomp',\n",
       " 'fimul',\n",
       " 'js',\n",
       " 'loopne',\n",
       " 'jo',\n",
       " 'jns',\n",
       " 'movsx',\n",
       " 'fcom',\n",
       " 'bound',\n",
       " 'fistp',\n",
       " 'fdiv',\n",
       " 'fsub',\n",
       " 'jp',\n",
       " 'sal',\n",
       " 'aad',\n",
       " 'fsubr',\n",
       " 'rol',\n",
       " 'fld',\n",
       " 'fstp',\n",
       " 'pinsrw',\n",
       " 'setz',\n",
       " 'seto',\n",
       " 'idiv',\n",
       " 'setnz',\n",
       " 'rclsid',\n",
       " 'fnstcw',\n",
       " 'riid',\n",
       " 'jno',\n",
       " 'fild',\n",
       " 'extrn',\n",
       " 'vmovhps',\n",
       " 's',\n",
       " 'fnstsw',\n",
       " 'fadd',\n",
       " 'fst',\n",
       " 'fmul',\n",
       " 'fdivr',\n",
       " 'fucomp',\n",
       " 'fucom',\n",
       " 'fxch',\n",
       " 'faddp',\n",
       " 'fmulp',\n",
       " 'aam',\n",
       " 'retnw',\n",
       " 'fisttp',\n",
       " 'fisub',\n",
       " 'jecxz',\n",
       " 'ficom',\n",
       " 'fidivr',\n",
       " 'ficomp',\n",
       " 'fidiv',\n",
       " 'fbstp',\n",
       " 'fldenv',\n",
       " 'fldcw',\n",
       " 'fsubp',\n",
       " 'movs',\n",
       " 'lfs',\n",
       " 'frstor',\n",
       " 'fcmovne',\n",
       " 'xabort',\n",
       " 'fnstenv',\n",
       " 'fcomip',\n",
       " 'xorps',\n",
       " 'fbld',\n",
       " 'fcmovnu',\n",
       " 'fiadd',\n",
       " 'cmovg',\n",
       " 'ffreep',\n",
       " 'paddb',\n",
       " 'fisubr',\n",
       " 'fnsave',\n",
       " 'repe',\n",
       " 'offset',\n",
       " 'fcmovnb',\n",
       " 'ht',\n",
       " 'loope',\n",
       " 'fist',\n",
       " 'fstsw',\n",
       " 'fdivrp',\n",
       " 'fsave',\n",
       " 'fdivp',\n",
       " 'shrd',\n",
       " 'fcomi',\n",
       " 'packsswb',\n",
       " 'punpckhdq',\n",
       " 'movups',\n",
       " 'scas',\n",
       " 'vpcmpeqb',\n",
       " 'fsubrp',\n",
       " 'vpermq',\n",
       " 'vmovsd',\n",
       " 'orps',\n",
       " 'ffree',\n",
       " 'fcmovb',\n",
       " 'setl',\n",
       " 'shld',\n",
       " 'fstcw',\n",
       " 'setnle',\n",
       " 'pclsid',\n",
       " 'pqit',\n",
       " 'pv',\n",
       " 'ppenumfmtetc',\n",
       " 'lgs',\n",
       " 'setle',\n",
       " 'dwhkl',\n",
       " 'ldmxcsr',\n",
       " 'name',\n",
       " 'psubq',\n",
       " 'bsr',\n",
       " 'bsf',\n",
       " 'cmovnz',\n",
       " 'cmovb',\n",
       " 'subps',\n",
       " 'fucomip',\n",
       " 'por',\n",
       " 'cmps',\n",
       " 'retfw',\n",
       " 'rcpps',\n",
       " 'wait',\n",
       " 'setbe',\n",
       " 'fucomi',\n",
       " 'fcmovnbe',\n",
       " 'outs',\n",
       " 'movdqa',\n",
       " 'bt',\n",
       " 'bts',\n",
       " 'pxor',\n",
       " 'movapd',\n",
       " 'movd',\n",
       " 'paddq',\n",
       " 'bswap',\n",
       " 'pmuludq',\n",
       " 'movq',\n",
       " 'pshufd',\n",
       " 'pand',\n",
       " 'psrlq',\n",
       " 'punpckldq',\n",
       " 'pcmpeqd',\n",
       " 'bit',\n",
       " 'psrldq',\n",
       " 'cmovz',\n",
       " 'deterministic',\n",
       " 'bits',\n",
       " 'cmpxchg',\n",
       " 'andnps',\n",
       " 'paddusw',\n",
       " 'psubsb',\n",
       " 'setb',\n",
       " 'fcmovu',\n",
       " 'andpd',\n",
       " 'psllq',\n",
       " 'cmpltpd',\n",
       " 'ucomisd',\n",
       " 'psubd',\n",
       " 'cmpnlepd',\n",
       " 'subsd',\n",
       " 'orpd',\n",
       " 'addsd',\n",
       " 'cmova',\n",
       " 'cmovbe',\n",
       " 'punpcklwd',\n",
       " 'btr',\n",
       " 'setnb',\n",
       " 'h',\n",
       " 'edge',\n",
       " 'hhk',\n",
       " 'setnbe',\n",
       " 'psrlw',\n",
       " 'punpcklbw',\n",
       " 'psllw',\n",
       " 'pmullw',\n",
       " 'psubsw',\n",
       " 'paddw',\n",
       " 'packuswb',\n",
       " 'punpckhbw',\n",
       " 'punpckhwd',\n",
       " 'paddsw',\n",
       " 'psubw',\n",
       " 'pmulhw',\n",
       " 'xadd',\n",
       " 'clsid',\n",
       " 'landing',\n",
       " 'pcmpgtd',\n",
       " 'nop',\n",
       " 'dir',\n",
       " 'movlpd',\n",
       " 'mulsd',\n",
       " 'pextrw',\n",
       " 'mulpd',\n",
       " 'movsd',\n",
       " 'xorpd',\n",
       " 'pmovmskb',\n",
       " 'addpd',\n",
       " 'unpcklpd',\n",
       " 'pmaxsw',\n",
       " 'divsd',\n",
       " 'cdq',\n",
       " 'fcmove',\n",
       " 'pcmpgtb',\n",
       " 'vdivps',\n",
       " 'vmread',\n",
       " 'btc',\n",
       " 'set',\n",
       " 'clear',\n",
       " 'pavgb',\n",
       " 'pavgusb',\n",
       " 'pmaddwd',\n",
       " 'psubusb',\n",
       " 'psraw',\n",
       " 'pcmpeqb',\n",
       " 'paddd',\n",
       " 'packssdw',\n",
       " 'pfadd',\n",
       " 'psubb',\n",
       " 'psrad',\n",
       " 'movntq',\n",
       " 'pfmul',\n",
       " 'paddusb',\n",
       " 'pminub',\n",
       " 'pmaxub',\n",
       " 'pmulhuw',\n",
       " 'movaps',\n",
       " 'prefetchnta',\n",
       " 'pfsub',\n",
       " 'cmovns',\n",
       " 'cmovl',\n",
       " 'pcmpgtw',\n",
       " 'prefetch',\n",
       " 'pshufw',\n",
       " 'cmovle',\n",
       " 'pswapd',\n",
       " 'shufps',\n",
       " 'pandn',\n",
       " 'psrld',\n",
       " 'psubusw',\n",
       " 'cmovge',\n",
       " 'cmovs',\n",
       " 'addps',\n",
       " 'pfacc',\n",
       " 'mulps',\n",
       " 'pfsubr',\n",
       " 'pslld',\n",
       " 'pminsw',\n",
       " 'movntps',\n",
       " 'unpcklps',\n",
       " 'movss',\n",
       " 'sets',\n",
       " 'paddsb',\n",
       " 'pcmpeqw',\n",
       " 'cmovnb',\n",
       " 'psadbw',\n",
       " 'fcmovbe',\n",
       " 'sqrtps',\n",
       " 'setnp',\n",
       " 'xlat',\n",
       " 'vsqrtps',\n",
       " 'svts',\n",
       " 'sldt',\n",
       " 'iid',\n",
       " 'sz',\n",
       " 'psz',\n",
       " 'lods',\n",
       " 'vrcpss',\n",
       " 'signature',\n",
       " 'cmpeqps',\n",
       " 'vpsrad',\n",
       " 'vpcmpgtw',\n",
       " 'proto',\n",
       " 'addr',\n",
       " 'minps',\n",
       " 'vpunpckldq',\n",
       " 'unpckhps',\n",
       " 'stos',\n",
       " 'values',\n",
       " 'ucomiss',\n",
       " 'cmovp',\n",
       " 'lar',\n",
       " 'setns',\n",
       " 'andps',\n",
       " 'scasb',\n",
       " 'hnt',\n",
       " 'clc',\n",
       " 'comiss',\n",
       " 'rguid',\n",
       " 'pperrinfo',\n",
       " 'lgdt',\n",
       " 'vminsd',\n",
       " 'vmovdqu',\n",
       " 'fldz',\n",
       " 'cmovnp',\n",
       " 'vmptrld',\n",
       " 'enterw',\n",
       " 'vmovdqa',\n",
       " 'cmpneqpd',\n",
       " 'jcxz',\n",
       " 'vpunpcklqdq',\n",
       " 'cmovo',\n",
       " 'maxps',\n",
       " 'setno',\n",
       " 'plpal',\n",
       " 'table',\n",
       " 'ppv',\n",
       " 'ho',\n",
       " 'cy',\n",
       " 'invalid',\n",
       " 'vpcmpeqw',\n",
       " 'capabilities',\n",
       " 'rsts',\n",
       " 'hwinsta',\n",
       " 'rsqrtps',\n",
       " 'hwnd',\n",
       " 'leave',\n",
       " 'format',\n",
       " 'dy',\n",
       " 'vpsrld',\n",
       " 'ppshf',\n",
       " 'pvarg',\n",
       " 'ppidl',\n",
       " 'sgdt',\n",
       " 'vpsllq',\n",
       " 'maskmovq',\n",
       " 'color',\n",
       " 'pslldq',\n",
       " 'movdqu',\n",
       " 'pshuflw',\n",
       " 'pshufhw',\n",
       " 'punpcklqdq',\n",
       " 'divps',\n",
       " 'punpckhqdq',\n",
       " 'item',\n",
       " 'mulss',\n",
       " 'subss',\n",
       " 'divss',\n",
       " 'setp',\n",
       " 'addss',\n",
       " 'ins',\n",
       " 'dict',\n",
       " 'rop',\n",
       " 'cmovno',\n",
       " 'is',\n",
       " 'cp',\n",
       " 'seconds',\n",
       " 'rsldt',\n",
       " 'cmpps',\n",
       " 'vpmulhuw',\n",
       " 'lp',\n",
       " 'image',\n",
       " 'movmskps',\n",
       " 'vpacksswb',\n",
       " 'movlhps',\n",
       " 'vmwrite',\n",
       " 'vpsubb',\n",
       " 'phmx',\n",
       " 'lpfn',\n",
       " 'hmod',\n",
       " 'vdivsd',\n",
       " 'vmovups',\n",
       " 'certificates',\n",
       " 'movhps',\n",
       " 'svldt',\n",
       " 'lss',\n",
       " 'psizl',\n",
       " 'vsqrtsd',\n",
       " 'pavgw',\n",
       " 'vaddsd',\n",
       " 'vaddss',\n",
       " 'rc',\n",
       " 'movhlps',\n",
       " 'certificate',\n",
       " 'cert',\n",
       " 'clflush',\n",
       " 'unpckhpd',\n",
       " 'cmpeqsd',\n",
       " 'subpd',\n",
       " 'fstenv',\n",
       " 'char',\n",
       " 'chars',\n",
       " 'pptlib',\n",
       " 'loopw',\n",
       " 'vaddps',\n",
       " 'vpsllw',\n",
       " 'fps',\n",
       " 'movnti',\n",
       " 'comisd',\n",
       " 'shufpd',\n",
       " 'hdc',\n",
       " 'insertps',\n",
       " 'pextrd',\n",
       " 'extractps',\n",
       " 'pinsrd',\n",
       " 'minss',\n",
       " 'maxss',\n",
       " 'packusdw',\n",
       " 'pblendvb',\n",
       " 'pextrb',\n",
       " 'roundps',\n",
       " 'cmpltps',\n",
       " 'pminuw',\n",
       " 'pmovzxwd',\n",
       " 'pshufb',\n",
       " 'pmovzxbd',\n",
       " 'ptest',\n",
       " 'cmpleps',\n",
       " 'pminud',\n",
       " 'cmpeqss',\n",
       " 'fxsave',\n",
       " 'hbm',\n",
       " 'xbegin',\n",
       " 'sqrtsd',\n",
       " 'sqrtss',\n",
       " 'andnpd',\n",
       " 'minsd',\n",
       " 'cmpltsd',\n",
       " 'cmpnlesd',\n",
       " 'rcpss',\n",
       " 'cmplesd',\n",
       " 'movmskpd',\n",
       " 'pterm',\n",
       " 'pinit',\n",
       " 'bstr',\n",
       " 'x',\n",
       " 'y',\n",
       " 'vpaddusb',\n",
       " 'popa',\n",
       " 'buf',\n",
       " 'hugexp',\n",
       " 'vals',\n",
       " 'valid',\n",
       " 'wctab',\n",
       " 'pcinit',\n",
       " 'npows',\n",
       " 'initlocks',\n",
       " 'init',\n",
       " 'mods',\n",
       " 'nomem',\n",
       " 'vpshufhw',\n",
       " 'vpshuflw',\n",
       " 'accept',\n",
       " 'sendto',\n",
       " 'recv',\n",
       " 'select',\n",
       " 'send',\n",
       " 'connect',\n",
       " 'socket',\n",
       " 'recvfrom',\n",
       " 'vpunpckhbw',\n",
       " 'optval',\n",
       " 'himl',\n",
       " 'vorpd',\n",
       " 'fn',\n",
       " 'vdivpd',\n",
       " 'vpsubusb',\n",
       " 'vsubsd',\n",
       " 'vmovapd',\n",
       " 'retries',\n",
       " 'vpmaddwd',\n",
       " 'cmpsw',\n",
       " 'vandnpd',\n",
       " 'vmovddup',\n",
       " 'vaddsubpd',\n",
       " 'cmc',\n",
       " 'pabsw',\n",
       " 'vpaddsb',\n",
       " 'vmovntsd',\n",
       " 'vpaddusw',\n",
       " 'type',\n",
       " 'charset',\n",
       " 'hostshort',\n",
       " 'fd',\n",
       " 'fptc',\n",
       " 'lpsz',\n",
       " 'pvar',\n",
       " 'lpraststat',\n",
       " 'prgbq',\n",
       " 'hpal',\n",
       " 'ui',\n",
       " 'presbits',\n",
       " 'loopwe',\n",
       " 'pusha',\n",
       " 'vmovd',\n",
       " 'vsqrtpd',\n",
       " 'vpunpckhdq',\n",
       " 'vpextrw',\n",
       " 'prefetchw',\n",
       " 'to',\n",
       " 'audio',\n",
       " 'sample',\n",
       " 'vmptrst',\n",
       " 'pfrcp',\n",
       " 'pfcmpge',\n",
       " 'pfrsqrt',\n",
       " 'pfcmpgt',\n",
       " 'rsqrtss',\n",
       " 'femms',\n",
       " 'pfpnacc',\n",
       " 'pfnacc',\n",
       " 'pfcmpeq',\n",
       " 'pfmax',\n",
       " 'cmpneqps',\n",
       " 'pfmin',\n",
       " 'dq',\n",
       " 'lidt',\n",
       " 'movntdq',\n",
       " 'vmulps',\n",
       " 'vpcext',\n",
       " 'hwo',\n",
       " 'hwi',\n",
       " 'vpsrlq',\n",
       " 'vcomisd',\n",
       " 'vpunpckhwd',\n",
       " 'vmovsldup',\n",
       " 'plimit',\n",
       " 'vpaddd',\n",
       " 'minutes',\n",
       " 'parms',\n",
       " 'addsubpd',\n",
       " 'seems',\n",
       " 'vucomiss',\n",
       " 'arglist',\n",
       " 'vpaddw',\n",
       " 'xsaveopt',\n",
       " 'loopwne',\n",
       " 'vmovss',\n",
       " 'vmovntps',\n",
       " 'will',\n",
       " 'timeout',\n",
       " 'bytes',\n",
       " 'logarithm',\n",
       " 'vpunpckhqdq',\n",
       " 'vpcmpgtd',\n",
       " 'str',\n",
       " 'lddqu',\n",
       " 'phaddd',\n",
       " 'phaddw',\n",
       " 'allows',\n",
       " 'does',\n",
       " 'shall',\n",
       " 'palignr',\n",
       " 'lldt',\n",
       " 'verw',\n",
       " 'vcmppd',\n",
       " 'vpclmulqdq',\n",
       " 'points',\n",
       " 'pwh',\n",
       " 'lsl',\n",
       " 'separaters',\n",
       " 'evenexp',\n",
       " 'vhsubps',\n",
       " 'data',\n",
       " 'program',\n",
       " 'block',\n",
       " 'memotected',\n",
       " 'popf',\n",
       " 'vpackuswb',\n",
       " 'start',\n",
       " 'sec',\n",
       " 'vmulss',\n",
       " 'vshufpd',\n",
       " 'vpandn',\n",
       " 'pb',\n",
       " 'vpunpcklwd',\n",
       " 'pc',\n",
       " 'pptl',\n",
       " 'being',\n",
       " 'lcid',\n",
       " 'vpackssdw',\n",
       " 'ans',\n",
       " 'years',\n",
       " 'ptlib',\n",
       " 'vmovupd',\n",
       " 'vpcmpgtb',\n",
       " 'for',\n",
       " 'rect',\n",
       " 'cld',\n",
       " 'phsubd',\n",
       " 'bmp',\n",
       " 'ucb',\n",
       " 'vmaxsd',\n",
       " 'fcompp',\n",
       " 'fucompp',\n",
       " 'file',\n",
       " 'vmaxpd',\n",
       " 'gain',\n",
       " 'setcachedevice',\n",
       " 'under',\n",
       " 'vpinsrw',\n",
       " 'drive',\n",
       " 'button',\n",
       " 'degrees',\n",
       " 'vminss',\n",
       " 'vmovaps',\n",
       " 'vsubps',\n",
       " 'pmaddubsw',\n",
       " 'vshufps',\n",
       " 'vxorps',\n",
       " 'vunpcklps',\n",
       " 'vunpckhps',\n",
       " 'vpmullw',\n",
       " 'vblendps',\n",
       " 'vpermilps',\n",
       " 'pmulhrsw',\n",
       " 'movhpd',\n",
       " 'psignw',\n",
       " 'outsd',\n",
       " 'aaa',\n",
       " 'sidt',\n",
       " 'vpmulhw',\n",
       " 'vmovntpd',\n",
       " 'vpmaxub',\n",
       " 'sysexit',\n",
       " 'lpx',\n",
       " 'hbr',\n",
       " 'vrsqrtss',\n",
       " 'rdrand',\n",
       " 'profile',\n",
       " 'vpaddq',\n",
       " 'syskind',\n",
       " 'xrstor',\n",
       " 'pdm',\n",
       " 'buttons',\n",
       " 'device',\n",
       " 'kbps',\n",
       " 'power',\n",
       " 'end',\n",
       " 'proxy',\n",
       " 'vsubpd',\n",
       " 'hcur',\n",
       " 'uint',\n",
       " 'container',\n",
       " 'string',\n",
       " 'vhsubpd',\n",
       " 'log',\n",
       " 'vpaddb',\n",
       " 'vcmpps',\n",
       " 'vpsadbw',\n",
       " 'vdivss',\n",
       " 'vmovlhps',\n",
       " 'vpunpcklbw',\n",
       " 'vmaxss',\n",
       " 'topic',\n",
       " 'dfd',\n",
       " 'vmovntdq',\n",
       " 'vpsubd',\n",
       " 'vpaddsw',\n",
       " 'vunpcklpd',\n",
       " 'options',\n",
       " 'pt',\n",
       " 'pmxcd',\n",
       " 'lprect',\n",
       " 'vcmpss',\n",
       " 'mpsadbw',\n",
       " 'phminposuw',\n",
       " 'vpxor',\n",
       " 'vpcmpeqd',\n",
       " 'daa',\n",
       " 'vpsrlw',\n",
       " 'stosd']"
      ]
     },
     "execution_count": 148,
     "metadata": {},
     "output_type": "execute_result"
    }
   ],
   "source": [
    "col.tolist() "
   ]
  },
  {
   "cell_type": "code",
   "execution_count": 31,
   "id": "1f54c125",
   "metadata": {
    "scrolled": true
   },
   "outputs": [
    {
     "name": "stdout",
     "output_type": "stream",
     "text": [
      "out67\n",
      "out2\n"
     ]
    },
    {
     "data": {
      "text/html": [
       "<div>\n",
       "<style scoped>\n",
       "    .dataframe tbody tr th:only-of-type {\n",
       "        vertical-align: middle;\n",
       "    }\n",
       "\n",
       "    .dataframe tbody tr th {\n",
       "        vertical-align: top;\n",
       "    }\n",
       "\n",
       "    .dataframe thead th {\n",
       "        text-align: right;\n",
       "    }\n",
       "</style>\n",
       "<table border=\"1\" class=\"dataframe\">\n",
       "  <thead>\n",
       "    <tr style=\"text-align: right;\">\n",
       "      <th></th>\n",
       "      <th>db</th>\n",
       "      <th>mov</th>\n",
       "      <th>push</th>\n",
       "      <th>call</th>\n",
       "      <th>jmp</th>\n",
       "      <th>test</th>\n",
       "      <th>cmp</th>\n",
       "      <th>sub</th>\n",
       "      <th>add</th>\n",
       "      <th>jz</th>\n",
       "      <th>...</th>\n",
       "      <th>pmxcd</th>\n",
       "      <th>lprect</th>\n",
       "      <th>vcmpss</th>\n",
       "      <th>mpsadbw</th>\n",
       "      <th>phminposuw</th>\n",
       "      <th>vpxor</th>\n",
       "      <th>vpcmpeqd</th>\n",
       "      <th>daa</th>\n",
       "      <th>vpsrlw</th>\n",
       "      <th>stosd</th>\n",
       "    </tr>\n",
       "  </thead>\n",
       "  <tbody>\n",
       "    <tr>\n",
       "      <th>0</th>\n",
       "      <td>1366877</td>\n",
       "      <td>5295</td>\n",
       "      <td>3208</td>\n",
       "      <td>1533</td>\n",
       "      <td>730</td>\n",
       "      <td>674</td>\n",
       "      <td>672</td>\n",
       "      <td>648</td>\n",
       "      <td>622</td>\n",
       "      <td>557</td>\n",
       "      <td>...</td>\n",
       "      <td>0</td>\n",
       "      <td>0</td>\n",
       "      <td>0</td>\n",
       "      <td>0</td>\n",
       "      <td>0</td>\n",
       "      <td>0</td>\n",
       "      <td>0</td>\n",
       "      <td>0</td>\n",
       "      <td>0</td>\n",
       "      <td>0</td>\n",
       "    </tr>\n",
       "    <tr>\n",
       "      <th>0</th>\n",
       "      <td>63354</td>\n",
       "      <td>2190</td>\n",
       "      <td>569</td>\n",
       "      <td>333</td>\n",
       "      <td>47</td>\n",
       "      <td>48</td>\n",
       "      <td>218</td>\n",
       "      <td>216</td>\n",
       "      <td>323</td>\n",
       "      <td>54</td>\n",
       "      <td>...</td>\n",
       "      <td>0</td>\n",
       "      <td>0</td>\n",
       "      <td>0</td>\n",
       "      <td>0</td>\n",
       "      <td>0</td>\n",
       "      <td>0</td>\n",
       "      <td>0</td>\n",
       "      <td>0</td>\n",
       "      <td>0</td>\n",
       "      <td>0</td>\n",
       "    </tr>\n",
       "    <tr>\n",
       "      <th>0</th>\n",
       "      <td>1226</td>\n",
       "      <td>31</td>\n",
       "      <td>442</td>\n",
       "      <td>125</td>\n",
       "      <td>1</td>\n",
       "      <td>73</td>\n",
       "      <td>127</td>\n",
       "      <td>91</td>\n",
       "      <td>32</td>\n",
       "      <td>44</td>\n",
       "      <td>...</td>\n",
       "      <td>0</td>\n",
       "      <td>0</td>\n",
       "      <td>0</td>\n",
       "      <td>0</td>\n",
       "      <td>0</td>\n",
       "      <td>0</td>\n",
       "      <td>0</td>\n",
       "      <td>0</td>\n",
       "      <td>0</td>\n",
       "      <td>0</td>\n",
       "    </tr>\n",
       "    <tr>\n",
       "      <th>0</th>\n",
       "      <td>105</td>\n",
       "      <td>89</td>\n",
       "      <td>81</td>\n",
       "      <td>53</td>\n",
       "      <td>12</td>\n",
       "      <td>14</td>\n",
       "      <td>15</td>\n",
       "      <td>5</td>\n",
       "      <td>11</td>\n",
       "      <td>13</td>\n",
       "      <td>...</td>\n",
       "      <td>0</td>\n",
       "      <td>0</td>\n",
       "      <td>0</td>\n",
       "      <td>0</td>\n",
       "      <td>0</td>\n",
       "      <td>0</td>\n",
       "      <td>0</td>\n",
       "      <td>0</td>\n",
       "      <td>0</td>\n",
       "      <td>0</td>\n",
       "    </tr>\n",
       "    <tr>\n",
       "      <th>0</th>\n",
       "      <td>5752</td>\n",
       "      <td>2535</td>\n",
       "      <td>402</td>\n",
       "      <td>194</td>\n",
       "      <td>72</td>\n",
       "      <td>6</td>\n",
       "      <td>182</td>\n",
       "      <td>363</td>\n",
       "      <td>427</td>\n",
       "      <td>78</td>\n",
       "      <td>...</td>\n",
       "      <td>0</td>\n",
       "      <td>0</td>\n",
       "      <td>0</td>\n",
       "      <td>0</td>\n",
       "      <td>0</td>\n",
       "      <td>0</td>\n",
       "      <td>0</td>\n",
       "      <td>0</td>\n",
       "      <td>0</td>\n",
       "      <td>0</td>\n",
       "    </tr>\n",
       "  </tbody>\n",
       "</table>\n",
       "<p>5 rows × 719 columns</p>\n",
       "</div>"
      ],
      "text/plain": [
       "        db   mov  push  call  jmp test  cmp  sub  add   jz  ... pmxcd lprect  \\\n",
       "0  1366877  5295  3208  1533  730  674  672  648  622  557  ...     0      0   \n",
       "0    63354  2190   569   333   47   48  218  216  323   54  ...     0      0   \n",
       "0     1226    31   442   125    1   73  127   91   32   44  ...     0      0   \n",
       "0      105    89    81    53   12   14   15    5   11   13  ...     0      0   \n",
       "0     5752  2535   402   194   72    6  182  363  427   78  ...     0      0   \n",
       "\n",
       "  vcmpss mpsadbw phminposuw vpxor vpcmpeqd daa vpsrlw stosd  \n",
       "0      0       0          0     0        0   0      0     0  \n",
       "0      0       0          0     0        0   0      0     0  \n",
       "0      0       0          0     0        0   0      0     0  \n",
       "0      0       0          0     0        0   0      0     0  \n",
       "0      0       0          0     0        0   0      0     0  \n",
       "\n",
       "[5 rows x 719 columns]"
      ]
     },
     "execution_count": 31,
     "metadata": {},
     "output_type": "execute_result"
    }
   ],
   "source": [
    "# creating a data frame which it's columns are all the unique OPcodes and each row contains the count of OPcodes for\n",
    "# an specific file \n",
    "\n",
    "data2=[]\n",
    "\n",
    "with RarFile(\"ASM_Features.rar\") as zipfiles:\n",
    "    \n",
    "    #the last entry is the zipfile name\n",
    "    #we'll skip it\n",
    "    filelist = zipfiles.namelist()[:-1]\n",
    "    for count,file_name in enumerate(filelist):\n",
    "\n",
    "        temp = pd.read_csv(zipfiles.open(file_name))\n",
    "        tempt = temp.drop('Unnamed: 0', axis=1).transpose()\n",
    "        tempt.columns= tempt[0:1].values[0]\n",
    "        tempt = tempt.drop([\"OPcodes\"])            \n",
    "        DATA_FRAME= pd.DataFrame(0, index=np.arange(1), columns=col)\n",
    "        DATA_FRAME[tempt.columns]=tempt.values\n",
    "        data2.append(DATA_FRAME)\n",
    "        print(count,end=\"\\r\")\n",
    "\n",
    "print(\"out\")\n",
    "DATA_FRAME = pd.concat(data2)\n",
    "print(\"out2\")\n",
    "\n",
    "DATA_FRAME.head()"
   ]
  },
  {
   "cell_type": "code",
   "execution_count": 222,
   "id": "367b41bb",
   "metadata": {
    "collapsed": true
   },
   "outputs": [
    {
     "data": {
      "text/html": [
       "<div>\n",
       "<style scoped>\n",
       "    .dataframe tbody tr th:only-of-type {\n",
       "        vertical-align: middle;\n",
       "    }\n",
       "\n",
       "    .dataframe tbody tr th {\n",
       "        vertical-align: top;\n",
       "    }\n",
       "\n",
       "    .dataframe thead th {\n",
       "        text-align: right;\n",
       "    }\n",
       "</style>\n",
       "<table border=\"1\" class=\"dataframe\">\n",
       "  <thead>\n",
       "    <tr style=\"text-align: right;\">\n",
       "      <th></th>\n",
       "      <th>db</th>\n",
       "      <th>mov</th>\n",
       "      <th>push</th>\n",
       "      <th>call</th>\n",
       "      <th>jmp</th>\n",
       "      <th>test</th>\n",
       "      <th>cmp</th>\n",
       "      <th>sub</th>\n",
       "      <th>add</th>\n",
       "      <th>jz</th>\n",
       "      <th>...</th>\n",
       "      <th>pmxcd</th>\n",
       "      <th>lprect</th>\n",
       "      <th>vcmpss</th>\n",
       "      <th>mpsadbw</th>\n",
       "      <th>phminposuw</th>\n",
       "      <th>vpxor</th>\n",
       "      <th>vpcmpeqd</th>\n",
       "      <th>daa</th>\n",
       "      <th>vpsrlw</th>\n",
       "      <th>stosd</th>\n",
       "    </tr>\n",
       "  </thead>\n",
       "  <tbody>\n",
       "    <tr>\n",
       "      <th>0</th>\n",
       "      <td>1366877</td>\n",
       "      <td>5295</td>\n",
       "      <td>3208</td>\n",
       "      <td>1533</td>\n",
       "      <td>730</td>\n",
       "      <td>674</td>\n",
       "      <td>672</td>\n",
       "      <td>648</td>\n",
       "      <td>622</td>\n",
       "      <td>557</td>\n",
       "      <td>...</td>\n",
       "      <td>0</td>\n",
       "      <td>0</td>\n",
       "      <td>0</td>\n",
       "      <td>0</td>\n",
       "      <td>0</td>\n",
       "      <td>0</td>\n",
       "      <td>0</td>\n",
       "      <td>0</td>\n",
       "      <td>0</td>\n",
       "      <td>0</td>\n",
       "    </tr>\n",
       "    <tr>\n",
       "      <th>0</th>\n",
       "      <td>63354</td>\n",
       "      <td>2190</td>\n",
       "      <td>569</td>\n",
       "      <td>333</td>\n",
       "      <td>47</td>\n",
       "      <td>48</td>\n",
       "      <td>218</td>\n",
       "      <td>216</td>\n",
       "      <td>323</td>\n",
       "      <td>54</td>\n",
       "      <td>...</td>\n",
       "      <td>0</td>\n",
       "      <td>0</td>\n",
       "      <td>0</td>\n",
       "      <td>0</td>\n",
       "      <td>0</td>\n",
       "      <td>0</td>\n",
       "      <td>0</td>\n",
       "      <td>0</td>\n",
       "      <td>0</td>\n",
       "      <td>0</td>\n",
       "    </tr>\n",
       "    <tr>\n",
       "      <th>0</th>\n",
       "      <td>1226</td>\n",
       "      <td>31</td>\n",
       "      <td>442</td>\n",
       "      <td>125</td>\n",
       "      <td>1</td>\n",
       "      <td>73</td>\n",
       "      <td>127</td>\n",
       "      <td>91</td>\n",
       "      <td>32</td>\n",
       "      <td>44</td>\n",
       "      <td>...</td>\n",
       "      <td>0</td>\n",
       "      <td>0</td>\n",
       "      <td>0</td>\n",
       "      <td>0</td>\n",
       "      <td>0</td>\n",
       "      <td>0</td>\n",
       "      <td>0</td>\n",
       "      <td>0</td>\n",
       "      <td>0</td>\n",
       "      <td>0</td>\n",
       "    </tr>\n",
       "    <tr>\n",
       "      <th>0</th>\n",
       "      <td>105</td>\n",
       "      <td>89</td>\n",
       "      <td>81</td>\n",
       "      <td>53</td>\n",
       "      <td>12</td>\n",
       "      <td>14</td>\n",
       "      <td>15</td>\n",
       "      <td>5</td>\n",
       "      <td>11</td>\n",
       "      <td>13</td>\n",
       "      <td>...</td>\n",
       "      <td>0</td>\n",
       "      <td>0</td>\n",
       "      <td>0</td>\n",
       "      <td>0</td>\n",
       "      <td>0</td>\n",
       "      <td>0</td>\n",
       "      <td>0</td>\n",
       "      <td>0</td>\n",
       "      <td>0</td>\n",
       "      <td>0</td>\n",
       "    </tr>\n",
       "    <tr>\n",
       "      <th>0</th>\n",
       "      <td>5752</td>\n",
       "      <td>2535</td>\n",
       "      <td>402</td>\n",
       "      <td>194</td>\n",
       "      <td>72</td>\n",
       "      <td>6</td>\n",
       "      <td>182</td>\n",
       "      <td>363</td>\n",
       "      <td>427</td>\n",
       "      <td>78</td>\n",
       "      <td>...</td>\n",
       "      <td>0</td>\n",
       "      <td>0</td>\n",
       "      <td>0</td>\n",
       "      <td>0</td>\n",
       "      <td>0</td>\n",
       "      <td>0</td>\n",
       "      <td>0</td>\n",
       "      <td>0</td>\n",
       "      <td>0</td>\n",
       "      <td>0</td>\n",
       "    </tr>\n",
       "    <tr>\n",
       "      <th>...</th>\n",
       "      <td>...</td>\n",
       "      <td>...</td>\n",
       "      <td>...</td>\n",
       "      <td>...</td>\n",
       "      <td>...</td>\n",
       "      <td>...</td>\n",
       "      <td>...</td>\n",
       "      <td>...</td>\n",
       "      <td>...</td>\n",
       "      <td>...</td>\n",
       "      <td>...</td>\n",
       "      <td>...</td>\n",
       "      <td>...</td>\n",
       "      <td>...</td>\n",
       "      <td>...</td>\n",
       "      <td>...</td>\n",
       "      <td>...</td>\n",
       "      <td>...</td>\n",
       "      <td>...</td>\n",
       "      <td>...</td>\n",
       "      <td>...</td>\n",
       "    </tr>\n",
       "    <tr>\n",
       "      <th>0</th>\n",
       "      <td>264480</td>\n",
       "      <td>152</td>\n",
       "      <td>284</td>\n",
       "      <td>91</td>\n",
       "      <td>2</td>\n",
       "      <td>24</td>\n",
       "      <td>39</td>\n",
       "      <td>46</td>\n",
       "      <td>126</td>\n",
       "      <td>11</td>\n",
       "      <td>...</td>\n",
       "      <td>0</td>\n",
       "      <td>0</td>\n",
       "      <td>0</td>\n",
       "      <td>0</td>\n",
       "      <td>0</td>\n",
       "      <td>0</td>\n",
       "      <td>0</td>\n",
       "      <td>0</td>\n",
       "      <td>0</td>\n",
       "      <td>0</td>\n",
       "    </tr>\n",
       "    <tr>\n",
       "      <th>0</th>\n",
       "      <td>41915</td>\n",
       "      <td>281</td>\n",
       "      <td>462</td>\n",
       "      <td>112</td>\n",
       "      <td>286</td>\n",
       "      <td>40</td>\n",
       "      <td>78</td>\n",
       "      <td>100</td>\n",
       "      <td>158</td>\n",
       "      <td>36</td>\n",
       "      <td>...</td>\n",
       "      <td>0</td>\n",
       "      <td>0</td>\n",
       "      <td>0</td>\n",
       "      <td>0</td>\n",
       "      <td>0</td>\n",
       "      <td>0</td>\n",
       "      <td>0</td>\n",
       "      <td>0</td>\n",
       "      <td>0</td>\n",
       "      <td>0</td>\n",
       "    </tr>\n",
       "    <tr>\n",
       "      <th>0</th>\n",
       "      <td>44679</td>\n",
       "      <td>134</td>\n",
       "      <td>248</td>\n",
       "      <td>35</td>\n",
       "      <td>149</td>\n",
       "      <td>3</td>\n",
       "      <td>45</td>\n",
       "      <td>21</td>\n",
       "      <td>71</td>\n",
       "      <td>4</td>\n",
       "      <td>...</td>\n",
       "      <td>0</td>\n",
       "      <td>0</td>\n",
       "      <td>0</td>\n",
       "      <td>0</td>\n",
       "      <td>0</td>\n",
       "      <td>0</td>\n",
       "      <td>0</td>\n",
       "      <td>0</td>\n",
       "      <td>0</td>\n",
       "      <td>0</td>\n",
       "    </tr>\n",
       "    <tr>\n",
       "      <th>0</th>\n",
       "      <td>75982</td>\n",
       "      <td>512</td>\n",
       "      <td>879</td>\n",
       "      <td>33</td>\n",
       "      <td>1360</td>\n",
       "      <td>78</td>\n",
       "      <td>107</td>\n",
       "      <td>192</td>\n",
       "      <td>270</td>\n",
       "      <td>17</td>\n",
       "      <td>...</td>\n",
       "      <td>0</td>\n",
       "      <td>0</td>\n",
       "      <td>0</td>\n",
       "      <td>0</td>\n",
       "      <td>0</td>\n",
       "      <td>0</td>\n",
       "      <td>0</td>\n",
       "      <td>0</td>\n",
       "      <td>0</td>\n",
       "      <td>0</td>\n",
       "    </tr>\n",
       "    <tr>\n",
       "      <th>0</th>\n",
       "      <td>67654</td>\n",
       "      <td>474</td>\n",
       "      <td>826</td>\n",
       "      <td>33</td>\n",
       "      <td>1287</td>\n",
       "      <td>72</td>\n",
       "      <td>112</td>\n",
       "      <td>165</td>\n",
       "      <td>238</td>\n",
       "      <td>17</td>\n",
       "      <td>...</td>\n",
       "      <td>0</td>\n",
       "      <td>0</td>\n",
       "      <td>0</td>\n",
       "      <td>0</td>\n",
       "      <td>0</td>\n",
       "      <td>0</td>\n",
       "      <td>0</td>\n",
       "      <td>0</td>\n",
       "      <td>0</td>\n",
       "      <td>0</td>\n",
       "    </tr>\n",
       "  </tbody>\n",
       "</table>\n",
       "<p>10868 rows × 719 columns</p>\n",
       "</div>"
      ],
      "text/plain": [
       "         db   mov  push  call   jmp test  cmp  sub  add   jz  ... pmxcd  \\\n",
       "0   1366877  5295  3208  1533   730  674  672  648  622  557  ...     0   \n",
       "0     63354  2190   569   333    47   48  218  216  323   54  ...     0   \n",
       "0      1226    31   442   125     1   73  127   91   32   44  ...     0   \n",
       "0       105    89    81    53    12   14   15    5   11   13  ...     0   \n",
       "0      5752  2535   402   194    72    6  182  363  427   78  ...     0   \n",
       "..      ...   ...   ...   ...   ...  ...  ...  ...  ...  ...  ...   ...   \n",
       "0    264480   152   284    91     2   24   39   46  126   11  ...     0   \n",
       "0     41915   281   462   112   286   40   78  100  158   36  ...     0   \n",
       "0     44679   134   248    35   149    3   45   21   71    4  ...     0   \n",
       "0     75982   512   879    33  1360   78  107  192  270   17  ...     0   \n",
       "0     67654   474   826    33  1287   72  112  165  238   17  ...     0   \n",
       "\n",
       "   lprect vcmpss mpsadbw phminposuw vpxor vpcmpeqd daa vpsrlw stosd  \n",
       "0       0      0       0          0     0        0   0      0     0  \n",
       "0       0      0       0          0     0        0   0      0     0  \n",
       "0       0      0       0          0     0        0   0      0     0  \n",
       "0       0      0       0          0     0        0   0      0     0  \n",
       "0       0      0       0          0     0        0   0      0     0  \n",
       "..    ...    ...     ...        ...   ...      ...  ..    ...   ...  \n",
       "0       0      0       0          0     0        0   0      0     0  \n",
       "0       0      0       0          0     0        0   0      0     0  \n",
       "0       0      0       0          0     0        0   0      0     0  \n",
       "0       0      0       0          0     0        0   0      0     0  \n",
       "0       0      0       0          0     0        0   0      0     0  \n",
       "\n",
       "[10868 rows x 719 columns]"
      ]
     },
     "execution_count": 222,
     "metadata": {},
     "output_type": "execute_result"
    }
   ],
   "source": [
    "DATA_FRAME"
   ]
  },
  {
   "cell_type": "code",
   "execution_count": 32,
   "id": "3e567de2",
   "metadata": {},
   "outputs": [],
   "source": [
    "DATA_FRAME.index = np.arange(DATA_FRAME.shape[0])"
   ]
  },
  {
   "cell_type": "code",
   "execution_count": 33,
   "id": "1b1e9eb3",
   "metadata": {},
   "outputs": [
    {
     "data": {
      "text/html": [
       "<div>\n",
       "<style scoped>\n",
       "    .dataframe tbody tr th:only-of-type {\n",
       "        vertical-align: middle;\n",
       "    }\n",
       "\n",
       "    .dataframe tbody tr th {\n",
       "        vertical-align: top;\n",
       "    }\n",
       "\n",
       "    .dataframe thead th {\n",
       "        text-align: right;\n",
       "    }\n",
       "</style>\n",
       "<table border=\"1\" class=\"dataframe\">\n",
       "  <thead>\n",
       "    <tr style=\"text-align: right;\">\n",
       "      <th></th>\n",
       "      <th>db</th>\n",
       "      <th>mov</th>\n",
       "      <th>push</th>\n",
       "      <th>call</th>\n",
       "      <th>jmp</th>\n",
       "      <th>test</th>\n",
       "      <th>cmp</th>\n",
       "      <th>sub</th>\n",
       "      <th>add</th>\n",
       "      <th>jz</th>\n",
       "      <th>...</th>\n",
       "      <th>pmxcd</th>\n",
       "      <th>lprect</th>\n",
       "      <th>vcmpss</th>\n",
       "      <th>mpsadbw</th>\n",
       "      <th>phminposuw</th>\n",
       "      <th>vpxor</th>\n",
       "      <th>vpcmpeqd</th>\n",
       "      <th>daa</th>\n",
       "      <th>vpsrlw</th>\n",
       "      <th>stosd</th>\n",
       "    </tr>\n",
       "  </thead>\n",
       "  <tbody>\n",
       "    <tr>\n",
       "      <th>0</th>\n",
       "      <td>1366877</td>\n",
       "      <td>5295</td>\n",
       "      <td>3208</td>\n",
       "      <td>1533</td>\n",
       "      <td>730</td>\n",
       "      <td>674</td>\n",
       "      <td>672</td>\n",
       "      <td>648</td>\n",
       "      <td>622</td>\n",
       "      <td>557</td>\n",
       "      <td>...</td>\n",
       "      <td>0</td>\n",
       "      <td>0</td>\n",
       "      <td>0</td>\n",
       "      <td>0</td>\n",
       "      <td>0</td>\n",
       "      <td>0</td>\n",
       "      <td>0</td>\n",
       "      <td>0</td>\n",
       "      <td>0</td>\n",
       "      <td>0</td>\n",
       "    </tr>\n",
       "    <tr>\n",
       "      <th>1</th>\n",
       "      <td>63354</td>\n",
       "      <td>2190</td>\n",
       "      <td>569</td>\n",
       "      <td>333</td>\n",
       "      <td>47</td>\n",
       "      <td>48</td>\n",
       "      <td>218</td>\n",
       "      <td>216</td>\n",
       "      <td>323</td>\n",
       "      <td>54</td>\n",
       "      <td>...</td>\n",
       "      <td>0</td>\n",
       "      <td>0</td>\n",
       "      <td>0</td>\n",
       "      <td>0</td>\n",
       "      <td>0</td>\n",
       "      <td>0</td>\n",
       "      <td>0</td>\n",
       "      <td>0</td>\n",
       "      <td>0</td>\n",
       "      <td>0</td>\n",
       "    </tr>\n",
       "    <tr>\n",
       "      <th>2</th>\n",
       "      <td>1226</td>\n",
       "      <td>31</td>\n",
       "      <td>442</td>\n",
       "      <td>125</td>\n",
       "      <td>1</td>\n",
       "      <td>73</td>\n",
       "      <td>127</td>\n",
       "      <td>91</td>\n",
       "      <td>32</td>\n",
       "      <td>44</td>\n",
       "      <td>...</td>\n",
       "      <td>0</td>\n",
       "      <td>0</td>\n",
       "      <td>0</td>\n",
       "      <td>0</td>\n",
       "      <td>0</td>\n",
       "      <td>0</td>\n",
       "      <td>0</td>\n",
       "      <td>0</td>\n",
       "      <td>0</td>\n",
       "      <td>0</td>\n",
       "    </tr>\n",
       "    <tr>\n",
       "      <th>3</th>\n",
       "      <td>105</td>\n",
       "      <td>89</td>\n",
       "      <td>81</td>\n",
       "      <td>53</td>\n",
       "      <td>12</td>\n",
       "      <td>14</td>\n",
       "      <td>15</td>\n",
       "      <td>5</td>\n",
       "      <td>11</td>\n",
       "      <td>13</td>\n",
       "      <td>...</td>\n",
       "      <td>0</td>\n",
       "      <td>0</td>\n",
       "      <td>0</td>\n",
       "      <td>0</td>\n",
       "      <td>0</td>\n",
       "      <td>0</td>\n",
       "      <td>0</td>\n",
       "      <td>0</td>\n",
       "      <td>0</td>\n",
       "      <td>0</td>\n",
       "    </tr>\n",
       "    <tr>\n",
       "      <th>4</th>\n",
       "      <td>5752</td>\n",
       "      <td>2535</td>\n",
       "      <td>402</td>\n",
       "      <td>194</td>\n",
       "      <td>72</td>\n",
       "      <td>6</td>\n",
       "      <td>182</td>\n",
       "      <td>363</td>\n",
       "      <td>427</td>\n",
       "      <td>78</td>\n",
       "      <td>...</td>\n",
       "      <td>0</td>\n",
       "      <td>0</td>\n",
       "      <td>0</td>\n",
       "      <td>0</td>\n",
       "      <td>0</td>\n",
       "      <td>0</td>\n",
       "      <td>0</td>\n",
       "      <td>0</td>\n",
       "      <td>0</td>\n",
       "      <td>0</td>\n",
       "    </tr>\n",
       "    <tr>\n",
       "      <th>...</th>\n",
       "      <td>...</td>\n",
       "      <td>...</td>\n",
       "      <td>...</td>\n",
       "      <td>...</td>\n",
       "      <td>...</td>\n",
       "      <td>...</td>\n",
       "      <td>...</td>\n",
       "      <td>...</td>\n",
       "      <td>...</td>\n",
       "      <td>...</td>\n",
       "      <td>...</td>\n",
       "      <td>...</td>\n",
       "      <td>...</td>\n",
       "      <td>...</td>\n",
       "      <td>...</td>\n",
       "      <td>...</td>\n",
       "      <td>...</td>\n",
       "      <td>...</td>\n",
       "      <td>...</td>\n",
       "      <td>...</td>\n",
       "      <td>...</td>\n",
       "    </tr>\n",
       "    <tr>\n",
       "      <th>10863</th>\n",
       "      <td>264480</td>\n",
       "      <td>152</td>\n",
       "      <td>284</td>\n",
       "      <td>91</td>\n",
       "      <td>2</td>\n",
       "      <td>24</td>\n",
       "      <td>39</td>\n",
       "      <td>46</td>\n",
       "      <td>126</td>\n",
       "      <td>11</td>\n",
       "      <td>...</td>\n",
       "      <td>0</td>\n",
       "      <td>0</td>\n",
       "      <td>0</td>\n",
       "      <td>0</td>\n",
       "      <td>0</td>\n",
       "      <td>0</td>\n",
       "      <td>0</td>\n",
       "      <td>0</td>\n",
       "      <td>0</td>\n",
       "      <td>0</td>\n",
       "    </tr>\n",
       "    <tr>\n",
       "      <th>10864</th>\n",
       "      <td>41915</td>\n",
       "      <td>281</td>\n",
       "      <td>462</td>\n",
       "      <td>112</td>\n",
       "      <td>286</td>\n",
       "      <td>40</td>\n",
       "      <td>78</td>\n",
       "      <td>100</td>\n",
       "      <td>158</td>\n",
       "      <td>36</td>\n",
       "      <td>...</td>\n",
       "      <td>0</td>\n",
       "      <td>0</td>\n",
       "      <td>0</td>\n",
       "      <td>0</td>\n",
       "      <td>0</td>\n",
       "      <td>0</td>\n",
       "      <td>0</td>\n",
       "      <td>0</td>\n",
       "      <td>0</td>\n",
       "      <td>0</td>\n",
       "    </tr>\n",
       "    <tr>\n",
       "      <th>10865</th>\n",
       "      <td>44679</td>\n",
       "      <td>134</td>\n",
       "      <td>248</td>\n",
       "      <td>35</td>\n",
       "      <td>149</td>\n",
       "      <td>3</td>\n",
       "      <td>45</td>\n",
       "      <td>21</td>\n",
       "      <td>71</td>\n",
       "      <td>4</td>\n",
       "      <td>...</td>\n",
       "      <td>0</td>\n",
       "      <td>0</td>\n",
       "      <td>0</td>\n",
       "      <td>0</td>\n",
       "      <td>0</td>\n",
       "      <td>0</td>\n",
       "      <td>0</td>\n",
       "      <td>0</td>\n",
       "      <td>0</td>\n",
       "      <td>0</td>\n",
       "    </tr>\n",
       "    <tr>\n",
       "      <th>10866</th>\n",
       "      <td>75982</td>\n",
       "      <td>512</td>\n",
       "      <td>879</td>\n",
       "      <td>33</td>\n",
       "      <td>1360</td>\n",
       "      <td>78</td>\n",
       "      <td>107</td>\n",
       "      <td>192</td>\n",
       "      <td>270</td>\n",
       "      <td>17</td>\n",
       "      <td>...</td>\n",
       "      <td>0</td>\n",
       "      <td>0</td>\n",
       "      <td>0</td>\n",
       "      <td>0</td>\n",
       "      <td>0</td>\n",
       "      <td>0</td>\n",
       "      <td>0</td>\n",
       "      <td>0</td>\n",
       "      <td>0</td>\n",
       "      <td>0</td>\n",
       "    </tr>\n",
       "    <tr>\n",
       "      <th>10867</th>\n",
       "      <td>67654</td>\n",
       "      <td>474</td>\n",
       "      <td>826</td>\n",
       "      <td>33</td>\n",
       "      <td>1287</td>\n",
       "      <td>72</td>\n",
       "      <td>112</td>\n",
       "      <td>165</td>\n",
       "      <td>238</td>\n",
       "      <td>17</td>\n",
       "      <td>...</td>\n",
       "      <td>0</td>\n",
       "      <td>0</td>\n",
       "      <td>0</td>\n",
       "      <td>0</td>\n",
       "      <td>0</td>\n",
       "      <td>0</td>\n",
       "      <td>0</td>\n",
       "      <td>0</td>\n",
       "      <td>0</td>\n",
       "      <td>0</td>\n",
       "    </tr>\n",
       "  </tbody>\n",
       "</table>\n",
       "<p>10868 rows × 719 columns</p>\n",
       "</div>"
      ],
      "text/plain": [
       "            db   mov  push  call   jmp test  cmp  sub  add   jz  ... pmxcd  \\\n",
       "0      1366877  5295  3208  1533   730  674  672  648  622  557  ...     0   \n",
       "1        63354  2190   569   333    47   48  218  216  323   54  ...     0   \n",
       "2         1226    31   442   125     1   73  127   91   32   44  ...     0   \n",
       "3          105    89    81    53    12   14   15    5   11   13  ...     0   \n",
       "4         5752  2535   402   194    72    6  182  363  427   78  ...     0   \n",
       "...        ...   ...   ...   ...   ...  ...  ...  ...  ...  ...  ...   ...   \n",
       "10863   264480   152   284    91     2   24   39   46  126   11  ...     0   \n",
       "10864    41915   281   462   112   286   40   78  100  158   36  ...     0   \n",
       "10865    44679   134   248    35   149    3   45   21   71    4  ...     0   \n",
       "10866    75982   512   879    33  1360   78  107  192  270   17  ...     0   \n",
       "10867    67654   474   826    33  1287   72  112  165  238   17  ...     0   \n",
       "\n",
       "      lprect vcmpss mpsadbw phminposuw vpxor vpcmpeqd daa vpsrlw stosd  \n",
       "0          0      0       0          0     0        0   0      0     0  \n",
       "1          0      0       0          0     0        0   0      0     0  \n",
       "2          0      0       0          0     0        0   0      0     0  \n",
       "3          0      0       0          0     0        0   0      0     0  \n",
       "4          0      0       0          0     0        0   0      0     0  \n",
       "...      ...    ...     ...        ...   ...      ...  ..    ...   ...  \n",
       "10863      0      0       0          0     0        0   0      0     0  \n",
       "10864      0      0       0          0     0        0   0      0     0  \n",
       "10865      0      0       0          0     0        0   0      0     0  \n",
       "10866      0      0       0          0     0        0   0      0     0  \n",
       "10867      0      0       0          0     0        0   0      0     0  \n",
       "\n",
       "[10868 rows x 719 columns]"
      ]
     },
     "execution_count": 33,
     "metadata": {},
     "output_type": "execute_result"
    }
   ],
   "source": [
    "DATA_FRAME"
   ]
  },
  {
   "cell_type": "code",
   "execution_count": 34,
   "id": "3a4b0086",
   "metadata": {},
   "outputs": [],
   "source": [
    "#saving the mentioned Dataframe\n",
    "filepath = \"DATA_FRAME.csv\"\n",
    "DATA_FRAME.to_csv(filepath)  \n"
   ]
  },
  {
   "cell_type": "code",
   "execution_count": 39,
   "id": "51bdfa02",
   "metadata": {},
   "outputs": [],
   "source": [
    "#saving Data frame which contains class related to files\n",
    "filepath = \"class_df.csv\"\n",
    "class_df.to_csv(filepath)  \n"
   ]
  },
  {
   "cell_type": "markdown",
   "id": "d4d0afa9",
   "metadata": {},
   "source": [
    "# DATA Final"
   ]
  },
  {
   "cell_type": "markdown",
   "id": "e86bc30a",
   "metadata": {},
   "source": [
    "### if you have already run these cells, you can skip this section"
   ]
  },
  {
   "cell_type": "code",
   "execution_count": 38,
   "id": "bc459278",
   "metadata": {},
   "outputs": [],
   "source": [
    "#reading the dataframe of OPcde counts\n",
    "DF_temp = pd.read_csv(\"DATA_FRAME.csv\") "
   ]
  },
  {
   "cell_type": "code",
   "execution_count": 40,
   "id": "fd443673",
   "metadata": {},
   "outputs": [],
   "source": [
    "#reading dataframe of labels\n",
    "class_df= pd.read_csv(\"class_df.csv\") \n"
   ]
  },
  {
   "cell_type": "code",
   "execution_count": null,
   "id": "9b4d7463",
   "metadata": {},
   "outputs": [],
   "source": []
  },
  {
   "cell_type": "code",
   "execution_count": 41,
   "id": "b409e078",
   "metadata": {},
   "outputs": [
    {
     "data": {
      "text/html": [
       "<div>\n",
       "<style scoped>\n",
       "    .dataframe tbody tr th:only-of-type {\n",
       "        vertical-align: middle;\n",
       "    }\n",
       "\n",
       "    .dataframe tbody tr th {\n",
       "        vertical-align: top;\n",
       "    }\n",
       "\n",
       "    .dataframe thead th {\n",
       "        text-align: right;\n",
       "    }\n",
       "</style>\n",
       "<table border=\"1\" class=\"dataframe\">\n",
       "  <thead>\n",
       "    <tr style=\"text-align: right;\">\n",
       "      <th></th>\n",
       "      <th>db</th>\n",
       "      <th>mov</th>\n",
       "      <th>push</th>\n",
       "      <th>call</th>\n",
       "      <th>jmp</th>\n",
       "      <th>test</th>\n",
       "      <th>cmp</th>\n",
       "      <th>sub</th>\n",
       "      <th>add</th>\n",
       "      <th>jz</th>\n",
       "      <th>...</th>\n",
       "      <th>lprect</th>\n",
       "      <th>vcmpss</th>\n",
       "      <th>mpsadbw</th>\n",
       "      <th>phminposuw</th>\n",
       "      <th>vpxor</th>\n",
       "      <th>vpcmpeqd</th>\n",
       "      <th>daa</th>\n",
       "      <th>vpsrlw</th>\n",
       "      <th>stosd</th>\n",
       "      <th>Class</th>\n",
       "    </tr>\n",
       "  </thead>\n",
       "  <tbody>\n",
       "    <tr>\n",
       "      <th>0</th>\n",
       "      <td>1366877</td>\n",
       "      <td>5295</td>\n",
       "      <td>3208</td>\n",
       "      <td>1533</td>\n",
       "      <td>730</td>\n",
       "      <td>674</td>\n",
       "      <td>672</td>\n",
       "      <td>648</td>\n",
       "      <td>622</td>\n",
       "      <td>557</td>\n",
       "      <td>...</td>\n",
       "      <td>0</td>\n",
       "      <td>0</td>\n",
       "      <td>0</td>\n",
       "      <td>0</td>\n",
       "      <td>0</td>\n",
       "      <td>0</td>\n",
       "      <td>0</td>\n",
       "      <td>0</td>\n",
       "      <td>0</td>\n",
       "      <td>9</td>\n",
       "    </tr>\n",
       "    <tr>\n",
       "      <th>1</th>\n",
       "      <td>63354</td>\n",
       "      <td>2190</td>\n",
       "      <td>569</td>\n",
       "      <td>333</td>\n",
       "      <td>47</td>\n",
       "      <td>48</td>\n",
       "      <td>218</td>\n",
       "      <td>216</td>\n",
       "      <td>323</td>\n",
       "      <td>54</td>\n",
       "      <td>...</td>\n",
       "      <td>0</td>\n",
       "      <td>0</td>\n",
       "      <td>0</td>\n",
       "      <td>0</td>\n",
       "      <td>0</td>\n",
       "      <td>0</td>\n",
       "      <td>0</td>\n",
       "      <td>0</td>\n",
       "      <td>0</td>\n",
       "      <td>2</td>\n",
       "    </tr>\n",
       "    <tr>\n",
       "      <th>2</th>\n",
       "      <td>1226</td>\n",
       "      <td>31</td>\n",
       "      <td>442</td>\n",
       "      <td>125</td>\n",
       "      <td>1</td>\n",
       "      <td>73</td>\n",
       "      <td>127</td>\n",
       "      <td>91</td>\n",
       "      <td>32</td>\n",
       "      <td>44</td>\n",
       "      <td>...</td>\n",
       "      <td>0</td>\n",
       "      <td>0</td>\n",
       "      <td>0</td>\n",
       "      <td>0</td>\n",
       "      <td>0</td>\n",
       "      <td>0</td>\n",
       "      <td>0</td>\n",
       "      <td>0</td>\n",
       "      <td>0</td>\n",
       "      <td>9</td>\n",
       "    </tr>\n",
       "    <tr>\n",
       "      <th>3</th>\n",
       "      <td>105</td>\n",
       "      <td>89</td>\n",
       "      <td>81</td>\n",
       "      <td>53</td>\n",
       "      <td>12</td>\n",
       "      <td>14</td>\n",
       "      <td>15</td>\n",
       "      <td>5</td>\n",
       "      <td>11</td>\n",
       "      <td>13</td>\n",
       "      <td>...</td>\n",
       "      <td>0</td>\n",
       "      <td>0</td>\n",
       "      <td>0</td>\n",
       "      <td>0</td>\n",
       "      <td>0</td>\n",
       "      <td>0</td>\n",
       "      <td>0</td>\n",
       "      <td>0</td>\n",
       "      <td>0</td>\n",
       "      <td>1</td>\n",
       "    </tr>\n",
       "    <tr>\n",
       "      <th>4</th>\n",
       "      <td>5752</td>\n",
       "      <td>2535</td>\n",
       "      <td>402</td>\n",
       "      <td>194</td>\n",
       "      <td>72</td>\n",
       "      <td>6</td>\n",
       "      <td>182</td>\n",
       "      <td>363</td>\n",
       "      <td>427</td>\n",
       "      <td>78</td>\n",
       "      <td>...</td>\n",
       "      <td>0</td>\n",
       "      <td>0</td>\n",
       "      <td>0</td>\n",
       "      <td>0</td>\n",
       "      <td>0</td>\n",
       "      <td>0</td>\n",
       "      <td>0</td>\n",
       "      <td>0</td>\n",
       "      <td>0</td>\n",
       "      <td>8</td>\n",
       "    </tr>\n",
       "    <tr>\n",
       "      <th>...</th>\n",
       "      <td>...</td>\n",
       "      <td>...</td>\n",
       "      <td>...</td>\n",
       "      <td>...</td>\n",
       "      <td>...</td>\n",
       "      <td>...</td>\n",
       "      <td>...</td>\n",
       "      <td>...</td>\n",
       "      <td>...</td>\n",
       "      <td>...</td>\n",
       "      <td>...</td>\n",
       "      <td>...</td>\n",
       "      <td>...</td>\n",
       "      <td>...</td>\n",
       "      <td>...</td>\n",
       "      <td>...</td>\n",
       "      <td>...</td>\n",
       "      <td>...</td>\n",
       "      <td>...</td>\n",
       "      <td>...</td>\n",
       "      <td>...</td>\n",
       "    </tr>\n",
       "    <tr>\n",
       "      <th>10863</th>\n",
       "      <td>264480</td>\n",
       "      <td>152</td>\n",
       "      <td>284</td>\n",
       "      <td>91</td>\n",
       "      <td>2</td>\n",
       "      <td>24</td>\n",
       "      <td>39</td>\n",
       "      <td>46</td>\n",
       "      <td>126</td>\n",
       "      <td>11</td>\n",
       "      <td>...</td>\n",
       "      <td>0</td>\n",
       "      <td>0</td>\n",
       "      <td>0</td>\n",
       "      <td>0</td>\n",
       "      <td>0</td>\n",
       "      <td>0</td>\n",
       "      <td>0</td>\n",
       "      <td>0</td>\n",
       "      <td>0</td>\n",
       "      <td>4</td>\n",
       "    </tr>\n",
       "    <tr>\n",
       "      <th>10864</th>\n",
       "      <td>41915</td>\n",
       "      <td>281</td>\n",
       "      <td>462</td>\n",
       "      <td>112</td>\n",
       "      <td>286</td>\n",
       "      <td>40</td>\n",
       "      <td>78</td>\n",
       "      <td>100</td>\n",
       "      <td>158</td>\n",
       "      <td>36</td>\n",
       "      <td>...</td>\n",
       "      <td>0</td>\n",
       "      <td>0</td>\n",
       "      <td>0</td>\n",
       "      <td>0</td>\n",
       "      <td>0</td>\n",
       "      <td>0</td>\n",
       "      <td>0</td>\n",
       "      <td>0</td>\n",
       "      <td>0</td>\n",
       "      <td>4</td>\n",
       "    </tr>\n",
       "    <tr>\n",
       "      <th>10865</th>\n",
       "      <td>44679</td>\n",
       "      <td>134</td>\n",
       "      <td>248</td>\n",
       "      <td>35</td>\n",
       "      <td>149</td>\n",
       "      <td>3</td>\n",
       "      <td>45</td>\n",
       "      <td>21</td>\n",
       "      <td>71</td>\n",
       "      <td>4</td>\n",
       "      <td>...</td>\n",
       "      <td>0</td>\n",
       "      <td>0</td>\n",
       "      <td>0</td>\n",
       "      <td>0</td>\n",
       "      <td>0</td>\n",
       "      <td>0</td>\n",
       "      <td>0</td>\n",
       "      <td>0</td>\n",
       "      <td>0</td>\n",
       "      <td>4</td>\n",
       "    </tr>\n",
       "    <tr>\n",
       "      <th>10866</th>\n",
       "      <td>75982</td>\n",
       "      <td>512</td>\n",
       "      <td>879</td>\n",
       "      <td>33</td>\n",
       "      <td>1360</td>\n",
       "      <td>78</td>\n",
       "      <td>107</td>\n",
       "      <td>192</td>\n",
       "      <td>270</td>\n",
       "      <td>17</td>\n",
       "      <td>...</td>\n",
       "      <td>0</td>\n",
       "      <td>0</td>\n",
       "      <td>0</td>\n",
       "      <td>0</td>\n",
       "      <td>0</td>\n",
       "      <td>0</td>\n",
       "      <td>0</td>\n",
       "      <td>0</td>\n",
       "      <td>0</td>\n",
       "      <td>4</td>\n",
       "    </tr>\n",
       "    <tr>\n",
       "      <th>10867</th>\n",
       "      <td>67654</td>\n",
       "      <td>474</td>\n",
       "      <td>826</td>\n",
       "      <td>33</td>\n",
       "      <td>1287</td>\n",
       "      <td>72</td>\n",
       "      <td>112</td>\n",
       "      <td>165</td>\n",
       "      <td>238</td>\n",
       "      <td>17</td>\n",
       "      <td>...</td>\n",
       "      <td>0</td>\n",
       "      <td>0</td>\n",
       "      <td>0</td>\n",
       "      <td>0</td>\n",
       "      <td>0</td>\n",
       "      <td>0</td>\n",
       "      <td>0</td>\n",
       "      <td>0</td>\n",
       "      <td>0</td>\n",
       "      <td>4</td>\n",
       "    </tr>\n",
       "  </tbody>\n",
       "</table>\n",
       "<p>10868 rows × 720 columns</p>\n",
       "</div>"
      ],
      "text/plain": [
       "            db   mov  push  call   jmp  test  cmp  sub  add   jz  ...  lprect  \\\n",
       "0      1366877  5295  3208  1533   730   674  672  648  622  557  ...       0   \n",
       "1        63354  2190   569   333    47    48  218  216  323   54  ...       0   \n",
       "2         1226    31   442   125     1    73  127   91   32   44  ...       0   \n",
       "3          105    89    81    53    12    14   15    5   11   13  ...       0   \n",
       "4         5752  2535   402   194    72     6  182  363  427   78  ...       0   \n",
       "...        ...   ...   ...   ...   ...   ...  ...  ...  ...  ...  ...     ...   \n",
       "10863   264480   152   284    91     2    24   39   46  126   11  ...       0   \n",
       "10864    41915   281   462   112   286    40   78  100  158   36  ...       0   \n",
       "10865    44679   134   248    35   149     3   45   21   71    4  ...       0   \n",
       "10866    75982   512   879    33  1360    78  107  192  270   17  ...       0   \n",
       "10867    67654   474   826    33  1287    72  112  165  238   17  ...       0   \n",
       "\n",
       "       vcmpss  mpsadbw  phminposuw  vpxor  vpcmpeqd  daa  vpsrlw  stosd  Class  \n",
       "0           0        0           0      0         0    0       0      0      9  \n",
       "1           0        0           0      0         0    0       0      0      2  \n",
       "2           0        0           0      0         0    0       0      0      9  \n",
       "3           0        0           0      0         0    0       0      0      1  \n",
       "4           0        0           0      0         0    0       0      0      8  \n",
       "...       ...      ...         ...    ...       ...  ...     ...    ...    ...  \n",
       "10863       0        0           0      0         0    0       0      0      4  \n",
       "10864       0        0           0      0         0    0       0      0      4  \n",
       "10865       0        0           0      0         0    0       0      0      4  \n",
       "10866       0        0           0      0         0    0       0      0      4  \n",
       "10867       0        0           0      0         0    0       0      0      4  \n",
       "\n",
       "[10868 rows x 720 columns]"
      ]
     },
     "execution_count": 41,
     "metadata": {},
     "output_type": "execute_result"
    }
   ],
   "source": [
    "# adding labels as last column of the main dataframe\n",
    "DF = pd.concat([DF_temp, class_df], axis=1).drop('Unnamed: 0', axis=1)\n",
    "DF"
   ]
  },
  {
   "cell_type": "code",
   "execution_count": 42,
   "id": "50473ec9",
   "metadata": {},
   "outputs": [],
   "source": [
    "filepath = \"DATA_FRAME_Final.csv\"\n",
    "DF.to_csv(filepath)  "
   ]
  },
  {
   "cell_type": "markdown",
   "id": "fa1f9bcd",
   "metadata": {},
   "source": [
    "# SPARK"
   ]
  },
  {
   "cell_type": "code",
   "execution_count": 2,
   "id": "89f06a75",
   "metadata": {},
   "outputs": [
    {
     "name": "stdout",
     "output_type": "stream",
     "text": [
      "23/01/01 10:33:19 WARN Utils: Your hostname, ERFAN resolves to a loopback address: 127.0.1.1; using 192.168.51.204 instead (on interface eth0)\n",
      "23/01/01 10:33:19 WARN Utils: Set SPARK_LOCAL_IP if you need to bind to another address\n"
     ]
    },
    {
     "name": "stderr",
     "output_type": "stream",
     "text": [
      "Setting default log level to \"WARN\".\n",
      "To adjust logging level use sc.setLogLevel(newLevel). For SparkR, use setLogLevel(newLevel).\n"
     ]
    },
    {
     "name": "stdout",
     "output_type": "stream",
     "text": [
      "23/01/01 10:33:20 WARN NativeCodeLoader: Unable to load native-hadoop library for your platform... using builtin-java classes where applicable\n"
     ]
    },
    {
     "name": "stderr",
     "output_type": "stream",
     "text": [
      "/home/erfan_wsl/.local/lib/python3.10/site-packages/pyspark/sql/pandas/conversion.py:474: FutureWarning: iteritems is deprecated and will be removed in a future version. Use .items instead.\n",
      "  for column, series in pdf.iteritems():\n",
      "/home/erfan_wsl/.local/lib/python3.10/site-packages/pyspark/sql/pandas/conversion.py:486: FutureWarning: iteritems is deprecated and will be removed in a future version. Use .items instead.\n",
      "  for column, series in pdf.iteritems():\n"
     ]
    }
   ],
   "source": [
    "#initializing and starting a pyspark session and transform pandas dataframe to spark dataframe\n",
    "\n",
    "from pyspark.sql import SparkSession #Import the pyspark\n",
    "from pyspark.conf import SparkConf #Import the SparkConf\n",
    "from pyspark.context import SparkContext #Import the SparkContext\n",
    "import time\n",
    "from pyspark.sql import SparkSession\n",
    "\n",
    "DF = pd.read_csv(\"DATA_FRAME_Final.csv\") \n",
    "DF = DF.drop('Unnamed: 0', axis=1)\n",
    "conf = SparkConf()\n",
    "conf.setMaster(\"local\").setAppName(\"HW2_1\") \n",
    "sc = SparkContext.getOrCreate(conf=conf)\n",
    "\n",
    "#Create PySpark SparkSession\n",
    "spark= SparkSession.builder.master(\"local\").getOrCreate()\n",
    "\n",
    "#Create PySpark DataFrame from Pandas\n",
    "sparkDF=spark.createDataFrame(DF) \n",
    "# sparkDF.printSchema()\n",
    "# sparkDF.show()\n"
   ]
  },
  {
   "cell_type": "code",
   "execution_count": 3,
   "id": "ded731da",
   "metadata": {},
   "outputs": [
    {
     "data": {
      "text/html": [
       "\n",
       "            <div>\n",
       "                <p><b>SparkSession - in-memory</b></p>\n",
       "                \n",
       "        <div>\n",
       "            <p><b>SparkContext</b></p>\n",
       "\n",
       "            <p><a href=\"http://192.168.51.204:4040\">Spark UI</a></p>\n",
       "\n",
       "            <dl>\n",
       "              <dt>Version</dt>\n",
       "                <dd><code>v3.3.1</code></dd>\n",
       "              <dt>Master</dt>\n",
       "                <dd><code>local</code></dd>\n",
       "              <dt>AppName</dt>\n",
       "                <dd><code>HW2_1</code></dd>\n",
       "            </dl>\n",
       "        </div>\n",
       "        \n",
       "            </div>\n",
       "        "
      ],
      "text/plain": [
       "<pyspark.sql.session.SparkSession at 0x7fbcf5bb2530>"
      ]
     },
     "execution_count": 3,
     "metadata": {},
     "output_type": "execute_result"
    }
   ],
   "source": [
    "spark"
   ]
  },
  {
   "cell_type": "code",
   "execution_count": 48,
   "id": "6e7c092a",
   "metadata": {},
   "outputs": [
    {
     "name": "stdout",
     "output_type": "stream",
     "text": [
      "23/01/01 01:11:06 WARN package: Truncated the string representation of a plan since it was too large. This behavior can be adjusted by setting 'spark.sql.debug.maxToStringFields'.\n",
      "23/01/01 01:11:07 WARN TaskSetManager: Stage 0 contains a task of very large size (15403 KiB). The maximum recommended task size is 1000 KiB.\n"
     ]
    },
    {
     "name": "stderr",
     "output_type": "stream",
     "text": [
      "                                                                                \r"
     ]
    }
   ],
   "source": [
    "sparkDF_pd = sparkDF.select(\"*\").toPandas()"
   ]
  },
  {
   "cell_type": "code",
   "execution_count": 49,
   "id": "99bea986",
   "metadata": {
    "collapsed": true
   },
   "outputs": [
    {
     "data": {
      "text/html": [
       "<div>\n",
       "<style scoped>\n",
       "    .dataframe tbody tr th:only-of-type {\n",
       "        vertical-align: middle;\n",
       "    }\n",
       "\n",
       "    .dataframe tbody tr th {\n",
       "        vertical-align: top;\n",
       "    }\n",
       "\n",
       "    .dataframe thead th {\n",
       "        text-align: right;\n",
       "    }\n",
       "</style>\n",
       "<table border=\"1\" class=\"dataframe\">\n",
       "  <thead>\n",
       "    <tr style=\"text-align: right;\">\n",
       "      <th></th>\n",
       "      <th>db</th>\n",
       "      <th>mov</th>\n",
       "      <th>push</th>\n",
       "      <th>call</th>\n",
       "      <th>jmp</th>\n",
       "      <th>test</th>\n",
       "      <th>cmp</th>\n",
       "      <th>sub</th>\n",
       "      <th>add</th>\n",
       "      <th>jz</th>\n",
       "      <th>...</th>\n",
       "      <th>lprect</th>\n",
       "      <th>vcmpss</th>\n",
       "      <th>mpsadbw</th>\n",
       "      <th>phminposuw</th>\n",
       "      <th>vpxor</th>\n",
       "      <th>vpcmpeqd</th>\n",
       "      <th>daa</th>\n",
       "      <th>vpsrlw</th>\n",
       "      <th>stosd</th>\n",
       "      <th>Class</th>\n",
       "    </tr>\n",
       "  </thead>\n",
       "  <tbody>\n",
       "    <tr>\n",
       "      <th>0</th>\n",
       "      <td>1366877</td>\n",
       "      <td>5295</td>\n",
       "      <td>3208</td>\n",
       "      <td>1533</td>\n",
       "      <td>730</td>\n",
       "      <td>674</td>\n",
       "      <td>672</td>\n",
       "      <td>648</td>\n",
       "      <td>622</td>\n",
       "      <td>557</td>\n",
       "      <td>...</td>\n",
       "      <td>0</td>\n",
       "      <td>0</td>\n",
       "      <td>0</td>\n",
       "      <td>0</td>\n",
       "      <td>0</td>\n",
       "      <td>0</td>\n",
       "      <td>0</td>\n",
       "      <td>0</td>\n",
       "      <td>0</td>\n",
       "      <td>9</td>\n",
       "    </tr>\n",
       "    <tr>\n",
       "      <th>1</th>\n",
       "      <td>63354</td>\n",
       "      <td>2190</td>\n",
       "      <td>569</td>\n",
       "      <td>333</td>\n",
       "      <td>47</td>\n",
       "      <td>48</td>\n",
       "      <td>218</td>\n",
       "      <td>216</td>\n",
       "      <td>323</td>\n",
       "      <td>54</td>\n",
       "      <td>...</td>\n",
       "      <td>0</td>\n",
       "      <td>0</td>\n",
       "      <td>0</td>\n",
       "      <td>0</td>\n",
       "      <td>0</td>\n",
       "      <td>0</td>\n",
       "      <td>0</td>\n",
       "      <td>0</td>\n",
       "      <td>0</td>\n",
       "      <td>2</td>\n",
       "    </tr>\n",
       "    <tr>\n",
       "      <th>2</th>\n",
       "      <td>1226</td>\n",
       "      <td>31</td>\n",
       "      <td>442</td>\n",
       "      <td>125</td>\n",
       "      <td>1</td>\n",
       "      <td>73</td>\n",
       "      <td>127</td>\n",
       "      <td>91</td>\n",
       "      <td>32</td>\n",
       "      <td>44</td>\n",
       "      <td>...</td>\n",
       "      <td>0</td>\n",
       "      <td>0</td>\n",
       "      <td>0</td>\n",
       "      <td>0</td>\n",
       "      <td>0</td>\n",
       "      <td>0</td>\n",
       "      <td>0</td>\n",
       "      <td>0</td>\n",
       "      <td>0</td>\n",
       "      <td>9</td>\n",
       "    </tr>\n",
       "    <tr>\n",
       "      <th>3</th>\n",
       "      <td>105</td>\n",
       "      <td>89</td>\n",
       "      <td>81</td>\n",
       "      <td>53</td>\n",
       "      <td>12</td>\n",
       "      <td>14</td>\n",
       "      <td>15</td>\n",
       "      <td>5</td>\n",
       "      <td>11</td>\n",
       "      <td>13</td>\n",
       "      <td>...</td>\n",
       "      <td>0</td>\n",
       "      <td>0</td>\n",
       "      <td>0</td>\n",
       "      <td>0</td>\n",
       "      <td>0</td>\n",
       "      <td>0</td>\n",
       "      <td>0</td>\n",
       "      <td>0</td>\n",
       "      <td>0</td>\n",
       "      <td>1</td>\n",
       "    </tr>\n",
       "    <tr>\n",
       "      <th>4</th>\n",
       "      <td>5752</td>\n",
       "      <td>2535</td>\n",
       "      <td>402</td>\n",
       "      <td>194</td>\n",
       "      <td>72</td>\n",
       "      <td>6</td>\n",
       "      <td>182</td>\n",
       "      <td>363</td>\n",
       "      <td>427</td>\n",
       "      <td>78</td>\n",
       "      <td>...</td>\n",
       "      <td>0</td>\n",
       "      <td>0</td>\n",
       "      <td>0</td>\n",
       "      <td>0</td>\n",
       "      <td>0</td>\n",
       "      <td>0</td>\n",
       "      <td>0</td>\n",
       "      <td>0</td>\n",
       "      <td>0</td>\n",
       "      <td>8</td>\n",
       "    </tr>\n",
       "    <tr>\n",
       "      <th>...</th>\n",
       "      <td>...</td>\n",
       "      <td>...</td>\n",
       "      <td>...</td>\n",
       "      <td>...</td>\n",
       "      <td>...</td>\n",
       "      <td>...</td>\n",
       "      <td>...</td>\n",
       "      <td>...</td>\n",
       "      <td>...</td>\n",
       "      <td>...</td>\n",
       "      <td>...</td>\n",
       "      <td>...</td>\n",
       "      <td>...</td>\n",
       "      <td>...</td>\n",
       "      <td>...</td>\n",
       "      <td>...</td>\n",
       "      <td>...</td>\n",
       "      <td>...</td>\n",
       "      <td>...</td>\n",
       "      <td>...</td>\n",
       "      <td>...</td>\n",
       "    </tr>\n",
       "    <tr>\n",
       "      <th>10863</th>\n",
       "      <td>264480</td>\n",
       "      <td>152</td>\n",
       "      <td>284</td>\n",
       "      <td>91</td>\n",
       "      <td>2</td>\n",
       "      <td>24</td>\n",
       "      <td>39</td>\n",
       "      <td>46</td>\n",
       "      <td>126</td>\n",
       "      <td>11</td>\n",
       "      <td>...</td>\n",
       "      <td>0</td>\n",
       "      <td>0</td>\n",
       "      <td>0</td>\n",
       "      <td>0</td>\n",
       "      <td>0</td>\n",
       "      <td>0</td>\n",
       "      <td>0</td>\n",
       "      <td>0</td>\n",
       "      <td>0</td>\n",
       "      <td>4</td>\n",
       "    </tr>\n",
       "    <tr>\n",
       "      <th>10864</th>\n",
       "      <td>41915</td>\n",
       "      <td>281</td>\n",
       "      <td>462</td>\n",
       "      <td>112</td>\n",
       "      <td>286</td>\n",
       "      <td>40</td>\n",
       "      <td>78</td>\n",
       "      <td>100</td>\n",
       "      <td>158</td>\n",
       "      <td>36</td>\n",
       "      <td>...</td>\n",
       "      <td>0</td>\n",
       "      <td>0</td>\n",
       "      <td>0</td>\n",
       "      <td>0</td>\n",
       "      <td>0</td>\n",
       "      <td>0</td>\n",
       "      <td>0</td>\n",
       "      <td>0</td>\n",
       "      <td>0</td>\n",
       "      <td>4</td>\n",
       "    </tr>\n",
       "    <tr>\n",
       "      <th>10865</th>\n",
       "      <td>44679</td>\n",
       "      <td>134</td>\n",
       "      <td>248</td>\n",
       "      <td>35</td>\n",
       "      <td>149</td>\n",
       "      <td>3</td>\n",
       "      <td>45</td>\n",
       "      <td>21</td>\n",
       "      <td>71</td>\n",
       "      <td>4</td>\n",
       "      <td>...</td>\n",
       "      <td>0</td>\n",
       "      <td>0</td>\n",
       "      <td>0</td>\n",
       "      <td>0</td>\n",
       "      <td>0</td>\n",
       "      <td>0</td>\n",
       "      <td>0</td>\n",
       "      <td>0</td>\n",
       "      <td>0</td>\n",
       "      <td>4</td>\n",
       "    </tr>\n",
       "    <tr>\n",
       "      <th>10866</th>\n",
       "      <td>75982</td>\n",
       "      <td>512</td>\n",
       "      <td>879</td>\n",
       "      <td>33</td>\n",
       "      <td>1360</td>\n",
       "      <td>78</td>\n",
       "      <td>107</td>\n",
       "      <td>192</td>\n",
       "      <td>270</td>\n",
       "      <td>17</td>\n",
       "      <td>...</td>\n",
       "      <td>0</td>\n",
       "      <td>0</td>\n",
       "      <td>0</td>\n",
       "      <td>0</td>\n",
       "      <td>0</td>\n",
       "      <td>0</td>\n",
       "      <td>0</td>\n",
       "      <td>0</td>\n",
       "      <td>0</td>\n",
       "      <td>4</td>\n",
       "    </tr>\n",
       "    <tr>\n",
       "      <th>10867</th>\n",
       "      <td>67654</td>\n",
       "      <td>474</td>\n",
       "      <td>826</td>\n",
       "      <td>33</td>\n",
       "      <td>1287</td>\n",
       "      <td>72</td>\n",
       "      <td>112</td>\n",
       "      <td>165</td>\n",
       "      <td>238</td>\n",
       "      <td>17</td>\n",
       "      <td>...</td>\n",
       "      <td>0</td>\n",
       "      <td>0</td>\n",
       "      <td>0</td>\n",
       "      <td>0</td>\n",
       "      <td>0</td>\n",
       "      <td>0</td>\n",
       "      <td>0</td>\n",
       "      <td>0</td>\n",
       "      <td>0</td>\n",
       "      <td>4</td>\n",
       "    </tr>\n",
       "  </tbody>\n",
       "</table>\n",
       "<p>10868 rows × 720 columns</p>\n",
       "</div>"
      ],
      "text/plain": [
       "            db   mov  push  call   jmp  test  cmp  sub  add   jz  ...  lprect  \\\n",
       "0      1366877  5295  3208  1533   730   674  672  648  622  557  ...       0   \n",
       "1        63354  2190   569   333    47    48  218  216  323   54  ...       0   \n",
       "2         1226    31   442   125     1    73  127   91   32   44  ...       0   \n",
       "3          105    89    81    53    12    14   15    5   11   13  ...       0   \n",
       "4         5752  2535   402   194    72     6  182  363  427   78  ...       0   \n",
       "...        ...   ...   ...   ...   ...   ...  ...  ...  ...  ...  ...     ...   \n",
       "10863   264480   152   284    91     2    24   39   46  126   11  ...       0   \n",
       "10864    41915   281   462   112   286    40   78  100  158   36  ...       0   \n",
       "10865    44679   134   248    35   149     3   45   21   71    4  ...       0   \n",
       "10866    75982   512   879    33  1360    78  107  192  270   17  ...       0   \n",
       "10867    67654   474   826    33  1287    72  112  165  238   17  ...       0   \n",
       "\n",
       "       vcmpss  mpsadbw  phminposuw  vpxor  vpcmpeqd  daa  vpsrlw  stosd  Class  \n",
       "0           0        0           0      0         0    0       0      0      9  \n",
       "1           0        0           0      0         0    0       0      0      2  \n",
       "2           0        0           0      0         0    0       0      0      9  \n",
       "3           0        0           0      0         0    0       0      0      1  \n",
       "4           0        0           0      0         0    0       0      0      8  \n",
       "...       ...      ...         ...    ...       ...  ...     ...    ...    ...  \n",
       "10863       0        0           0      0         0    0       0      0      4  \n",
       "10864       0        0           0      0         0    0       0      0      4  \n",
       "10865       0        0           0      0         0    0       0      0      4  \n",
       "10866       0        0           0      0         0    0       0      0      4  \n",
       "10867       0        0           0      0         0    0       0      0      4  \n",
       "\n",
       "[10868 rows x 720 columns]"
      ]
     },
     "execution_count": 49,
     "metadata": {},
     "output_type": "execute_result"
    }
   ],
   "source": [
    "sparkDF_pd"
   ]
  },
  {
   "cell_type": "code",
   "execution_count": 50,
   "id": "6bb9984f",
   "metadata": {},
   "outputs": [
    {
     "name": "stdout",
     "output_type": "stream",
     "text": [
      "num Total class  1  :  1541\n",
      "num Total class  2  :  2478\n",
      "num Total class  3  :  2942\n",
      "num Total class  4  :  475\n",
      "num Total class  5  :  42\n",
      "num Total class  6  :  751\n",
      "num Total class  7  :  398\n",
      "num Total class  8  :  1228\n",
      "num Total class  9  :  1013\n"
     ]
    }
   ],
   "source": [
    "#count of each class in the dataframe\n",
    "for i in range(9):\n",
    "    print(\"num Total class \",i+1,\" : \",sum(sparkDF_pd[\"Class\"]==i+1))"
   ]
  },
  {
   "cell_type": "code",
   "execution_count": 4,
   "id": "b283fb65",
   "metadata": {},
   "outputs": [],
   "source": [
    "#spliting the dataframe to TRAIN,TEST,VALID \n",
    "TRAIN,TEST,VALID = sparkDF.randomSplit([0.85,0.1,0.05])"
   ]
  },
  {
   "cell_type": "code",
   "execution_count": 5,
   "id": "790ba274",
   "metadata": {},
   "outputs": [
    {
     "name": "stdout",
     "output_type": "stream",
     "text": [
      "23/01/01 10:37:19 WARN package: Truncated the string representation of a plan since it was too large. This behavior can be adjusted by setting 'spark.sql.debug.maxToStringFields'.\n",
      "23/01/01 10:37:19 WARN TaskSetManager: Stage 0 contains a task of very large size (15403 KiB). The maximum recommended task size is 1000 KiB.\n"
     ]
    },
    {
     "name": "stderr",
     "output_type": "stream",
     "text": [
      "                                                                                \r"
     ]
    },
    {
     "name": "stdout",
     "output_type": "stream",
     "text": [
      "num TRAIN class  1  :  1327\n",
      "num TRAIN class  2  :  2126\n",
      "num TRAIN class  3  :  2491\n",
      "num TRAIN class  4  :  414\n",
      "num TRAIN class  5  :  39\n",
      "num TRAIN class  6  :  645\n",
      "num TRAIN class  7  :  330\n",
      "num TRAIN class  8  :  1032\n",
      "num TRAIN class  9  :  858\n"
     ]
    }
   ],
   "source": [
    "#count of each class in the TRAIN dataframe\n",
    "\n",
    "TRAIN_pd = TRAIN.select(\"*\").toPandas()\n",
    "for i in range(9):\n",
    "    print(\"num TRAIN class \",i+1,\" : \",sum(TRAIN_pd[\"Class\"]==i+1))"
   ]
  },
  {
   "cell_type": "code",
   "execution_count": 6,
   "id": "7d0ce931",
   "metadata": {},
   "outputs": [
    {
     "name": "stdout",
     "output_type": "stream",
     "text": [
      "23/01/01 10:37:42 WARN TaskSetManager: Stage 1 contains a task of very large size (15403 KiB). The maximum recommended task size is 1000 KiB.\n"
     ]
    },
    {
     "name": "stderr",
     "output_type": "stream",
     "text": [
      "                                                                                \r"
     ]
    },
    {
     "name": "stdout",
     "output_type": "stream",
     "text": [
      "num TEST class  1  :  151\n",
      "num TEST class  2  :  230\n",
      "num TEST class  3  :  293\n",
      "num TEST class  4  :  45\n",
      "num TEST class  5  :  3\n",
      "num TEST class  6  :  72\n",
      "num TEST class  7  :  39\n",
      "num TEST class  8  :  119\n",
      "num TEST class  9  :  113\n"
     ]
    }
   ],
   "source": [
    "#count of each class in the TEST dataframe\n",
    "\n",
    "TEST_pd = TEST.select(\"*\").toPandas()\n",
    "for i in range(9):\n",
    "    print(\"num TEST class \",i+1,\" : \",sum(TEST_pd[\"Class\"]==i+1))"
   ]
  },
  {
   "cell_type": "code",
   "execution_count": 7,
   "id": "31ab45c4",
   "metadata": {},
   "outputs": [
    {
     "name": "stdout",
     "output_type": "stream",
     "text": [
      "23/01/01 10:37:49 WARN TaskSetManager: Stage 2 contains a task of very large size (15403 KiB). The maximum recommended task size is 1000 KiB.\n"
     ]
    },
    {
     "name": "stderr",
     "output_type": "stream",
     "text": [
      "                                                                                \r"
     ]
    },
    {
     "name": "stdout",
     "output_type": "stream",
     "text": [
      "num VALID class  1  :  63\n",
      "num VALID class  2  :  122\n",
      "num VALID class  3  :  158\n",
      "num VALID class  4  :  16\n",
      "num VALID class  5  :  0\n",
      "num VALID class  6  :  34\n",
      "num VALID class  7  :  29\n",
      "num VALID class  8  :  77\n",
      "num VALID class  9  :  42\n"
     ]
    }
   ],
   "source": [
    "#count of each class in the VALID dataframe\n",
    "\n",
    "VALID_pd = VALID.select(\"*\").toPandas()\n",
    "for i in range(9):\n",
    "    print(\"num VALID class \",i+1,\" : \",sum(VALID_pd[\"Class\"]==i+1))"
   ]
  },
  {
   "cell_type": "code",
   "execution_count": 86,
   "id": "e57928c8",
   "metadata": {
    "collapsed": true
   },
   "outputs": [
    {
     "name": "stdout",
     "output_type": "stream",
     "text": [
      "22/12/31 13:58:02 WARN TaskSetManager: Stage 42 contains a task of very large size (15679 KiB). The maximum recommended task size is 1000 KiB.\n"
     ]
    },
    {
     "name": "stderr",
     "output_type": "stream",
     "text": [
      "                                                                                \r"
     ]
    },
    {
     "name": "stdout",
     "output_type": "stream",
     "text": [
      "22/12/31 13:58:06 WARN TaskSetManager: Stage 43 contains a task of very large size (15679 KiB). The maximum recommended task size is 1000 KiB.\n"
     ]
    },
    {
     "name": "stderr",
     "output_type": "stream",
     "text": [
      "[Stage 45:>                                                         (0 + 1) / 1]\r"
     ]
    },
    {
     "name": "stdout",
     "output_type": "stream",
     "text": [
      "(9246, 722)\n"
     ]
    },
    {
     "name": "stderr",
     "output_type": "stream",
     "text": [
      "\r",
      "                                                                                \r"
     ]
    }
   ],
   "source": [
    "# print((TRAIN.count(), len(TRAIN.columns)))"
   ]
  },
  {
   "cell_type": "code",
   "execution_count": 10,
   "id": "50ce2a3f",
   "metadata": {},
   "outputs": [],
   "source": [
    "from pyspark.sql.functions import rand \n",
    "# TRAIN,TEST,VALID shuffling\n",
    "TRAIN = TRAIN.orderBy(rand())\n",
    "TEST = TEST.orderBy(rand())\n",
    "VALID = VALID.orderBy(rand())"
   ]
  },
  {
   "cell_type": "markdown",
   "id": "7a9a03a5",
   "metadata": {},
   "source": [
    "# Preparing inputs for Random Forest"
   ]
  },
  {
   "cell_type": "code",
   "execution_count": 11,
   "id": "5e761bf6",
   "metadata": {},
   "outputs": [
    {
     "name": "stdout",
     "output_type": "stream",
     "text": [
      "23/01/01 10:38:08 WARN TaskSetManager: Stage 3 contains a task of very large size (15403 KiB). The maximum recommended task size is 1000 KiB.\n"
     ]
    },
    {
     "name": "stderr",
     "output_type": "stream",
     "text": [
      "                                                                                \r"
     ]
    },
    {
     "name": "stdout",
     "output_type": "stream",
     "text": [
      "23/01/01 10:38:10 WARN TaskSetManager: Stage 4 contains a task of very large size (15403 KiB). The maximum recommended task size is 1000 KiB.\n"
     ]
    },
    {
     "name": "stderr",
     "output_type": "stream",
     "text": [
      "                                                                                \r"
     ]
    },
    {
     "name": "stdout",
     "output_type": "stream",
     "text": [
      "Training Dataset Count: 9262\n",
      "23/01/01 10:38:14 WARN TaskSetManager: Stage 16 contains a task of very large size (15403 KiB). The maximum recommended task size is 1000 KiB.\n"
     ]
    },
    {
     "name": "stderr",
     "output_type": "stream",
     "text": [
      "                                                                                \r"
     ]
    },
    {
     "name": "stdout",
     "output_type": "stream",
     "text": [
      "23/01/01 10:38:15 WARN TaskSetManager: Stage 17 contains a task of very large size (15403 KiB). The maximum recommended task size is 1000 KiB.\n"
     ]
    },
    {
     "name": "stderr",
     "output_type": "stream",
     "text": [
      "                                                                                \r"
     ]
    },
    {
     "name": "stdout",
     "output_type": "stream",
     "text": [
      "Test Dataset Count: 1065\n",
      "23/01/01 10:38:18 WARN TaskSetManager: Stage 29 contains a task of very large size (15403 KiB). The maximum recommended task size is 1000 KiB.\n"
     ]
    },
    {
     "name": "stderr",
     "output_type": "stream",
     "text": [
      "                                                                                \r"
     ]
    },
    {
     "name": "stdout",
     "output_type": "stream",
     "text": [
      "23/01/01 10:38:19 WARN TaskSetManager: Stage 30 contains a task of very large size (15403 KiB). The maximum recommended task size is 1000 KiB.\n"
     ]
    },
    {
     "name": "stderr",
     "output_type": "stream",
     "text": [
      "                                                                                \r"
     ]
    },
    {
     "name": "stdout",
     "output_type": "stream",
     "text": [
      "Validation Dataset Count: 541\n"
     ]
    }
   ],
   "source": [
    "print(\"Training Dataset Count: \" + str(TRAIN.count()))\n",
    "print(\"Test Dataset Count: \" + str(TEST.count()))\n",
    "print(\"Validation Dataset Count: \" + str(VALID.count()))"
   ]
  },
  {
   "cell_type": "code",
   "execution_count": 13,
   "id": "03071873",
   "metadata": {},
   "outputs": [],
   "source": [
    "from pyspark.ml.feature import StringIndexer, VectorAssembler\n"
   ]
  },
  {
   "cell_type": "code",
   "execution_count": 15,
   "id": "ce4edf2e",
   "metadata": {},
   "outputs": [],
   "source": [
    "\n",
    "input_cols=VALID_pd.columns[:-1]\n",
    "output_cols=\"features\""
   ]
  },
  {
   "cell_type": "code",
   "execution_count": 16,
   "id": "6f831c4e",
   "metadata": {},
   "outputs": [],
   "source": [
    "#adding a features column which contains all the columns as a single list, except labels column, to all dataframes\n",
    "assembler = VectorAssembler(inputCols=input_cols.to_list(), outputCol=output_cols)\n",
    "TRAIN = assembler.transform(TRAIN)\n",
    "TEST = assembler.transform(TEST)\n",
    "VALID = assembler.transform(VALID)\n"
   ]
  },
  {
   "cell_type": "code",
   "execution_count": 17,
   "id": "0ac727d5",
   "metadata": {},
   "outputs": [
    {
     "name": "stdout",
     "output_type": "stream",
     "text": [
      "23/01/01 10:39:19 WARN TaskSetManager: Stage 42 contains a task of very large size (15403 KiB). The maximum recommended task size is 1000 KiB.\n"
     ]
    },
    {
     "name": "stderr",
     "output_type": "stream",
     "text": [
      "                                                                                \r"
     ]
    },
    {
     "name": "stdout",
     "output_type": "stream",
     "text": [
      "23/01/01 10:39:20 WARN TaskSetManager: Stage 43 contains a task of very large size (15403 KiB). The maximum recommended task size is 1000 KiB.\n"
     ]
    },
    {
     "name": "stderr",
     "output_type": "stream",
     "text": [
      "                                                                                \r"
     ]
    },
    {
     "data": {
      "text/html": [
       "<div>\n",
       "<style scoped>\n",
       "    .dataframe tbody tr th:only-of-type {\n",
       "        vertical-align: middle;\n",
       "    }\n",
       "\n",
       "    .dataframe tbody tr th {\n",
       "        vertical-align: top;\n",
       "    }\n",
       "\n",
       "    .dataframe thead th {\n",
       "        text-align: right;\n",
       "    }\n",
       "</style>\n",
       "<table border=\"1\" class=\"dataframe\">\n",
       "  <thead>\n",
       "    <tr style=\"text-align: right;\">\n",
       "      <th></th>\n",
       "      <th>db</th>\n",
       "      <th>mov</th>\n",
       "      <th>push</th>\n",
       "      <th>call</th>\n",
       "      <th>jmp</th>\n",
       "      <th>test</th>\n",
       "      <th>cmp</th>\n",
       "      <th>sub</th>\n",
       "      <th>add</th>\n",
       "      <th>jz</th>\n",
       "      <th>...</th>\n",
       "      <th>vcmpss</th>\n",
       "      <th>mpsadbw</th>\n",
       "      <th>phminposuw</th>\n",
       "      <th>vpxor</th>\n",
       "      <th>vpcmpeqd</th>\n",
       "      <th>daa</th>\n",
       "      <th>vpsrlw</th>\n",
       "      <th>stosd</th>\n",
       "      <th>Class</th>\n",
       "      <th>features</th>\n",
       "    </tr>\n",
       "  </thead>\n",
       "  <tbody>\n",
       "    <tr>\n",
       "      <th>0</th>\n",
       "      <td>986</td>\n",
       "      <td>158</td>\n",
       "      <td>367</td>\n",
       "      <td>172</td>\n",
       "      <td>1</td>\n",
       "      <td>6</td>\n",
       "      <td>1</td>\n",
       "      <td>51</td>\n",
       "      <td>189</td>\n",
       "      <td>1</td>\n",
       "      <td>...</td>\n",
       "      <td>0</td>\n",
       "      <td>0</td>\n",
       "      <td>0</td>\n",
       "      <td>0</td>\n",
       "      <td>0</td>\n",
       "      <td>0</td>\n",
       "      <td>0</td>\n",
       "      <td>0</td>\n",
       "      <td>3</td>\n",
       "      <td>(986.0, 158.0, 367.0, 172.0, 1.0, 6.0, 1.0, 51...</td>\n",
       "    </tr>\n",
       "    <tr>\n",
       "      <th>1</th>\n",
       "      <td>331</td>\n",
       "      <td>66</td>\n",
       "      <td>152</td>\n",
       "      <td>64</td>\n",
       "      <td>19</td>\n",
       "      <td>14</td>\n",
       "      <td>41</td>\n",
       "      <td>5</td>\n",
       "      <td>7</td>\n",
       "      <td>15</td>\n",
       "      <td>...</td>\n",
       "      <td>0</td>\n",
       "      <td>0</td>\n",
       "      <td>0</td>\n",
       "      <td>0</td>\n",
       "      <td>0</td>\n",
       "      <td>0</td>\n",
       "      <td>0</td>\n",
       "      <td>0</td>\n",
       "      <td>6</td>\n",
       "      <td>(331.0, 66.0, 152.0, 64.0, 19.0, 14.0, 41.0, 5...</td>\n",
       "    </tr>\n",
       "    <tr>\n",
       "      <th>2</th>\n",
       "      <td>3335549</td>\n",
       "      <td>1138</td>\n",
       "      <td>451</td>\n",
       "      <td>209</td>\n",
       "      <td>83</td>\n",
       "      <td>64</td>\n",
       "      <td>147</td>\n",
       "      <td>101</td>\n",
       "      <td>113</td>\n",
       "      <td>58</td>\n",
       "      <td>...</td>\n",
       "      <td>0</td>\n",
       "      <td>0</td>\n",
       "      <td>0</td>\n",
       "      <td>0</td>\n",
       "      <td>0</td>\n",
       "      <td>0</td>\n",
       "      <td>0</td>\n",
       "      <td>0</td>\n",
       "      <td>2</td>\n",
       "      <td>(3335549.0, 1138.0, 451.0, 209.0, 83.0, 64.0, ...</td>\n",
       "    </tr>\n",
       "    <tr>\n",
       "      <th>3</th>\n",
       "      <td>519248</td>\n",
       "      <td>2125</td>\n",
       "      <td>2806</td>\n",
       "      <td>967</td>\n",
       "      <td>217</td>\n",
       "      <td>325</td>\n",
       "      <td>548</td>\n",
       "      <td>102</td>\n",
       "      <td>540</td>\n",
       "      <td>361</td>\n",
       "      <td>...</td>\n",
       "      <td>0</td>\n",
       "      <td>0</td>\n",
       "      <td>0</td>\n",
       "      <td>0</td>\n",
       "      <td>0</td>\n",
       "      <td>0</td>\n",
       "      <td>0</td>\n",
       "      <td>0</td>\n",
       "      <td>6</td>\n",
       "      <td>(519248.0, 2125.0, 2806.0, 967.0, 217.0, 325.0...</td>\n",
       "    </tr>\n",
       "    <tr>\n",
       "      <th>4</th>\n",
       "      <td>1826</td>\n",
       "      <td>38</td>\n",
       "      <td>732</td>\n",
       "      <td>208</td>\n",
       "      <td>2</td>\n",
       "      <td>122</td>\n",
       "      <td>204</td>\n",
       "      <td>257</td>\n",
       "      <td>161</td>\n",
       "      <td>89</td>\n",
       "      <td>...</td>\n",
       "      <td>0</td>\n",
       "      <td>0</td>\n",
       "      <td>0</td>\n",
       "      <td>0</td>\n",
       "      <td>0</td>\n",
       "      <td>0</td>\n",
       "      <td>0</td>\n",
       "      <td>0</td>\n",
       "      <td>9</td>\n",
       "      <td>(1826.0, 38.0, 732.0, 208.0, 2.0, 122.0, 204.0...</td>\n",
       "    </tr>\n",
       "    <tr>\n",
       "      <th>...</th>\n",
       "      <td>...</td>\n",
       "      <td>...</td>\n",
       "      <td>...</td>\n",
       "      <td>...</td>\n",
       "      <td>...</td>\n",
       "      <td>...</td>\n",
       "      <td>...</td>\n",
       "      <td>...</td>\n",
       "      <td>...</td>\n",
       "      <td>...</td>\n",
       "      <td>...</td>\n",
       "      <td>...</td>\n",
       "      <td>...</td>\n",
       "      <td>...</td>\n",
       "      <td>...</td>\n",
       "      <td>...</td>\n",
       "      <td>...</td>\n",
       "      <td>...</td>\n",
       "      <td>...</td>\n",
       "      <td>...</td>\n",
       "      <td>...</td>\n",
       "    </tr>\n",
       "    <tr>\n",
       "      <th>536</th>\n",
       "      <td>1048199</td>\n",
       "      <td>1712</td>\n",
       "      <td>681</td>\n",
       "      <td>333</td>\n",
       "      <td>139</td>\n",
       "      <td>172</td>\n",
       "      <td>252</td>\n",
       "      <td>178</td>\n",
       "      <td>192</td>\n",
       "      <td>110</td>\n",
       "      <td>...</td>\n",
       "      <td>0</td>\n",
       "      <td>0</td>\n",
       "      <td>0</td>\n",
       "      <td>0</td>\n",
       "      <td>0</td>\n",
       "      <td>0</td>\n",
       "      <td>0</td>\n",
       "      <td>0</td>\n",
       "      <td>2</td>\n",
       "      <td>(1048199.0, 1712.0, 681.0, 333.0, 139.0, 172.0...</td>\n",
       "    </tr>\n",
       "    <tr>\n",
       "      <th>537</th>\n",
       "      <td>1043</td>\n",
       "      <td>70</td>\n",
       "      <td>177</td>\n",
       "      <td>78</td>\n",
       "      <td>0</td>\n",
       "      <td>1</td>\n",
       "      <td>3</td>\n",
       "      <td>30</td>\n",
       "      <td>45</td>\n",
       "      <td>1</td>\n",
       "      <td>...</td>\n",
       "      <td>0</td>\n",
       "      <td>0</td>\n",
       "      <td>0</td>\n",
       "      <td>0</td>\n",
       "      <td>0</td>\n",
       "      <td>0</td>\n",
       "      <td>0</td>\n",
       "      <td>0</td>\n",
       "      <td>3</td>\n",
       "      <td>(1043.0, 70.0, 177.0, 78.0, 0.0, 1.0, 3.0, 30....</td>\n",
       "    </tr>\n",
       "    <tr>\n",
       "      <th>538</th>\n",
       "      <td>1046</td>\n",
       "      <td>71</td>\n",
       "      <td>180</td>\n",
       "      <td>78</td>\n",
       "      <td>1</td>\n",
       "      <td>4</td>\n",
       "      <td>4</td>\n",
       "      <td>28</td>\n",
       "      <td>47</td>\n",
       "      <td>1</td>\n",
       "      <td>...</td>\n",
       "      <td>0</td>\n",
       "      <td>0</td>\n",
       "      <td>0</td>\n",
       "      <td>0</td>\n",
       "      <td>0</td>\n",
       "      <td>0</td>\n",
       "      <td>0</td>\n",
       "      <td>0</td>\n",
       "      <td>3</td>\n",
       "      <td>(1046.0, 71.0, 180.0, 78.0, 1.0, 4.0, 4.0, 28....</td>\n",
       "    </tr>\n",
       "    <tr>\n",
       "      <th>539</th>\n",
       "      <td>16246</td>\n",
       "      <td>2454</td>\n",
       "      <td>428</td>\n",
       "      <td>136</td>\n",
       "      <td>68</td>\n",
       "      <td>2</td>\n",
       "      <td>209</td>\n",
       "      <td>369</td>\n",
       "      <td>484</td>\n",
       "      <td>77</td>\n",
       "      <td>...</td>\n",
       "      <td>0</td>\n",
       "      <td>0</td>\n",
       "      <td>0</td>\n",
       "      <td>0</td>\n",
       "      <td>0</td>\n",
       "      <td>0</td>\n",
       "      <td>0</td>\n",
       "      <td>0</td>\n",
       "      <td>8</td>\n",
       "      <td>(16246.0, 2454.0, 428.0, 136.0, 68.0, 2.0, 209...</td>\n",
       "    </tr>\n",
       "    <tr>\n",
       "      <th>540</th>\n",
       "      <td>4324</td>\n",
       "      <td>2532</td>\n",
       "      <td>393</td>\n",
       "      <td>204</td>\n",
       "      <td>71</td>\n",
       "      <td>3</td>\n",
       "      <td>178</td>\n",
       "      <td>362</td>\n",
       "      <td>419</td>\n",
       "      <td>78</td>\n",
       "      <td>...</td>\n",
       "      <td>0</td>\n",
       "      <td>0</td>\n",
       "      <td>0</td>\n",
       "      <td>0</td>\n",
       "      <td>0</td>\n",
       "      <td>0</td>\n",
       "      <td>0</td>\n",
       "      <td>0</td>\n",
       "      <td>8</td>\n",
       "      <td>(4324.0, 2532.0, 393.0, 204.0, 71.0, 3.0, 178....</td>\n",
       "    </tr>\n",
       "  </tbody>\n",
       "</table>\n",
       "<p>541 rows × 721 columns</p>\n",
       "</div>"
      ],
      "text/plain": [
       "          db   mov  push  call  jmp  test  cmp  sub  add   jz  ...  vcmpss  \\\n",
       "0        986   158   367   172    1     6    1   51  189    1  ...       0   \n",
       "1        331    66   152    64   19    14   41    5    7   15  ...       0   \n",
       "2    3335549  1138   451   209   83    64  147  101  113   58  ...       0   \n",
       "3     519248  2125  2806   967  217   325  548  102  540  361  ...       0   \n",
       "4       1826    38   732   208    2   122  204  257  161   89  ...       0   \n",
       "..       ...   ...   ...   ...  ...   ...  ...  ...  ...  ...  ...     ...   \n",
       "536  1048199  1712   681   333  139   172  252  178  192  110  ...       0   \n",
       "537     1043    70   177    78    0     1    3   30   45    1  ...       0   \n",
       "538     1046    71   180    78    1     4    4   28   47    1  ...       0   \n",
       "539    16246  2454   428   136   68     2  209  369  484   77  ...       0   \n",
       "540     4324  2532   393   204   71     3  178  362  419   78  ...       0   \n",
       "\n",
       "     mpsadbw  phminposuw  vpxor  vpcmpeqd  daa  vpsrlw  stosd  Class  \\\n",
       "0          0           0      0         0    0       0      0      3   \n",
       "1          0           0      0         0    0       0      0      6   \n",
       "2          0           0      0         0    0       0      0      2   \n",
       "3          0           0      0         0    0       0      0      6   \n",
       "4          0           0      0         0    0       0      0      9   \n",
       "..       ...         ...    ...       ...  ...     ...    ...    ...   \n",
       "536        0           0      0         0    0       0      0      2   \n",
       "537        0           0      0         0    0       0      0      3   \n",
       "538        0           0      0         0    0       0      0      3   \n",
       "539        0           0      0         0    0       0      0      8   \n",
       "540        0           0      0         0    0       0      0      8   \n",
       "\n",
       "                                              features  \n",
       "0    (986.0, 158.0, 367.0, 172.0, 1.0, 6.0, 1.0, 51...  \n",
       "1    (331.0, 66.0, 152.0, 64.0, 19.0, 14.0, 41.0, 5...  \n",
       "2    (3335549.0, 1138.0, 451.0, 209.0, 83.0, 64.0, ...  \n",
       "3    (519248.0, 2125.0, 2806.0, 967.0, 217.0, 325.0...  \n",
       "4    (1826.0, 38.0, 732.0, 208.0, 2.0, 122.0, 204.0...  \n",
       "..                                                 ...  \n",
       "536  (1048199.0, 1712.0, 681.0, 333.0, 139.0, 172.0...  \n",
       "537  (1043.0, 70.0, 177.0, 78.0, 0.0, 1.0, 3.0, 30....  \n",
       "538  (1046.0, 71.0, 180.0, 78.0, 1.0, 4.0, 4.0, 28....  \n",
       "539  (16246.0, 2454.0, 428.0, 136.0, 68.0, 2.0, 209...  \n",
       "540  (4324.0, 2532.0, 393.0, 204.0, 71.0, 3.0, 178....  \n",
       "\n",
       "[541 rows x 721 columns]"
      ]
     },
     "execution_count": 17,
     "metadata": {},
     "output_type": "execute_result"
    }
   ],
   "source": [
    "# you can see the last column here\n",
    "VALID.select(\"*\").toPandas()\n"
   ]
  },
  {
   "cell_type": "markdown",
   "id": "c59cd1cf",
   "metadata": {},
   "source": [
    "# Random Forest | numTrees=10, maxDepth=10"
   ]
  },
  {
   "cell_type": "code",
   "execution_count": 64,
   "id": "3ba80b11",
   "metadata": {},
   "outputs": [],
   "source": [
    "from pyspark.ml.classification import RandomForestClassifier\n",
    "import time\n",
    "TIME = []\n",
    "ACC = []"
   ]
  },
  {
   "cell_type": "code",
   "execution_count": 65,
   "id": "a09dd976",
   "metadata": {},
   "outputs": [
    {
     "name": "stdout",
     "output_type": "stream",
     "text": [
      "23/01/01 12:01:24 WARN TaskSetManager: Stage 669 contains a task of very large size (15403 KiB). The maximum recommended task size is 1000 KiB.\n"
     ]
    },
    {
     "name": "stderr",
     "output_type": "stream",
     "text": [
      "                                                                                \r"
     ]
    },
    {
     "name": "stdout",
     "output_type": "stream",
     "text": [
      "23/01/01 12:01:25 WARN TaskSetManager: Stage 670 contains a task of very large size (15403 KiB). The maximum recommended task size is 1000 KiB.\n"
     ]
    },
    {
     "name": "stderr",
     "output_type": "stream",
     "text": [
      "                                                                                \r"
     ]
    },
    {
     "name": "stdout",
     "output_type": "stream",
     "text": [
      "23/01/01 12:01:51 WARN TaskSetManager: Stage 681 contains a task of very large size (15403 KiB). The maximum recommended task size is 1000 KiB.\n"
     ]
    },
    {
     "name": "stderr",
     "output_type": "stream",
     "text": [
      "                                                                                \r"
     ]
    },
    {
     "name": "stdout",
     "output_type": "stream",
     "text": [
      "23/01/01 12:01:52 WARN TaskSetManager: Stage 682 contains a task of very large size (15403 KiB). The maximum recommended task size is 1000 KiB.\n"
     ]
    },
    {
     "name": "stderr",
     "output_type": "stream",
     "text": [
      "                                                                                \r"
     ]
    },
    {
     "name": "stdout",
     "output_type": "stream",
     "text": [
      "23/01/01 12:01:54 WARN TaskSetManager: Stage 694 contains a task of very large size (15403 KiB). The maximum recommended task size is 1000 KiB.\n"
     ]
    },
    {
     "name": "stderr",
     "output_type": "stream",
     "text": [
      "                                                                                \r"
     ]
    },
    {
     "name": "stdout",
     "output_type": "stream",
     "text": [
      "23/01/01 12:01:55 WARN TaskSetManager: Stage 695 contains a task of very large size (15403 KiB). The maximum recommended task size is 1000 KiB.\n"
     ]
    },
    {
     "name": "stderr",
     "output_type": "stream",
     "text": [
      "                                                                                \r"
     ]
    },
    {
     "name": "stdout",
     "output_type": "stream",
     "text": [
      "23/01/01 12:02:04 WARN DAGScheduler: Broadcasting large task binary with size 1001.4 KiB\n",
      "23/01/01 12:02:05 WARN DAGScheduler: Broadcasting large task binary with size 1161.2 KiB\n",
      "23/01/01 12:02:06 WARN TaskSetManager: Stage 769 contains a task of very large size (15403 KiB). The maximum recommended task size is 1000 KiB.\n"
     ]
    },
    {
     "name": "stderr",
     "output_type": "stream",
     "text": [
      "                                                                                \r"
     ]
    },
    {
     "name": "stdout",
     "output_type": "stream",
     "text": [
      "23/01/01 12:02:07 WARN TaskSetManager: Stage 770 contains a task of very large size (15403 KiB). The maximum recommended task size is 1000 KiB.\n"
     ]
    },
    {
     "name": "stderr",
     "output_type": "stream",
     "text": [
      "                                                                                \r"
     ]
    }
   ],
   "source": [
    "#building and training a random forest classifier with numTrees=10, maxDepth=10\n",
    "\n",
    "rf = RandomForestClassifier(numTrees=10, maxDepth=10,featuresCol = \"features\", labelCol = \"Class\")\n",
    "s1 = time.time()\n",
    "rfModel = rf.fit(TRAIN)\n",
    "# testing the model\n",
    "predictions = rfModel.transform(TEST)\n",
    "s2 = time.time()\n",
    "\n",
    "# saving the training time in a list for ploting\n",
    "TIME.append(s2-s1)"
   ]
  },
  {
   "cell_type": "code",
   "execution_count": 66,
   "id": "1dd1553a",
   "metadata": {},
   "outputs": [],
   "source": [
    "# predictions.select(\"*\").toPandas()"
   ]
  },
  {
   "cell_type": "code",
   "execution_count": 67,
   "id": "f4b48682",
   "metadata": {},
   "outputs": [
    {
     "name": "stdout",
     "output_type": "stream",
     "text": [
      "23/01/01 12:04:26 WARN TaskSetManager: Stage 781 contains a task of very large size (15403 KiB). The maximum recommended task size is 1000 KiB.\n"
     ]
    },
    {
     "name": "stderr",
     "output_type": "stream",
     "text": [
      "                                                                                \r"
     ]
    },
    {
     "name": "stdout",
     "output_type": "stream",
     "text": [
      "23/01/01 12:04:27 WARN TaskSetManager: Stage 782 contains a task of very large size (15403 KiB). The maximum recommended task size is 1000 KiB.\n"
     ]
    },
    {
     "name": "stderr",
     "output_type": "stream",
     "text": [
      "                                                                                \r"
     ]
    },
    {
     "name": "stdout",
     "output_type": "stream",
     "text": [
      "+-----+----------+\n",
      "|Class|prediction|\n",
      "+-----+----------+\n",
      "|    6|       6.0|\n",
      "|    1|       1.0|\n",
      "|    4|       4.0|\n",
      "|    2|       2.0|\n",
      "|    9|       9.0|\n",
      "|    3|       3.0|\n",
      "|    3|       3.0|\n",
      "|    1|       1.0|\n",
      "|    9|       9.0|\n",
      "|    2|       2.0|\n",
      "+-----+----------+\n",
      "only showing top 10 rows\n",
      "\n"
     ]
    }
   ],
   "source": [
    "predictions.select(\"Class\", \"prediction\").show(10)"
   ]
  },
  {
   "cell_type": "code",
   "execution_count": 63,
   "id": "761746fe",
   "metadata": {},
   "outputs": [],
   "source": [
    "# from pyspark.ml.evaluation import MulticlassClassificationEvaluator\n"
   ]
  },
  {
   "cell_type": "code",
   "execution_count": 68,
   "id": "6e5b9961",
   "metadata": {},
   "outputs": [
    {
     "name": "stdout",
     "output_type": "stream",
     "text": [
      "23/01/01 12:04:38 WARN TaskSetManager: Stage 797 contains a task of very large size (15403 KiB). The maximum recommended task size is 1000 KiB.\n"
     ]
    },
    {
     "name": "stderr",
     "output_type": "stream",
     "text": [
      "                                                                                \r"
     ]
    },
    {
     "name": "stdout",
     "output_type": "stream",
     "text": [
      "23/01/01 12:04:39 WARN TaskSetManager: Stage 798 contains a task of very large size (15403 KiB). The maximum recommended task size is 1000 KiB.\n"
     ]
    },
    {
     "name": "stderr",
     "output_type": "stream",
     "text": [
      "                                                                                \r"
     ]
    },
    {
     "name": "stdout",
     "output_type": "stream",
     "text": [
      "Accuracy = 0.979054122324214\n",
      "Test Error = 0.02094587767578604\n"
     ]
    }
   ],
   "source": [
    "# calculating the accuracy and test error\n",
    "\n",
    "evaluator = MulticlassClassificationEvaluator(labelCol=\"Class\", predictionCol=\"prediction\")\n",
    "accuracy = evaluator.evaluate(predictions)\n",
    "print(\"Accuracy = %s\" % (accuracy))\n",
    "print(\"Test Error = %s\" % (1.0 - accuracy))\n",
    "\n",
    "# saving the accuracy in a list for ploting\n",
    "\n",
    "ACC.append(accuracy)"
   ]
  },
  {
   "cell_type": "code",
   "execution_count": 69,
   "id": "f02eeee0",
   "metadata": {},
   "outputs": [
    {
     "name": "stdout",
     "output_type": "stream",
     "text": [
      "23/01/01 12:04:54 WARN TaskSetManager: Stage 814 contains a task of very large size (15403 KiB). The maximum recommended task size is 1000 KiB.\n"
     ]
    },
    {
     "name": "stderr",
     "output_type": "stream",
     "text": [
      "                                                                                \r"
     ]
    },
    {
     "name": "stdout",
     "output_type": "stream",
     "text": [
      "23/01/01 12:04:55 WARN TaskSetManager: Stage 815 contains a task of very large size (15403 KiB). The maximum recommended task size is 1000 KiB.\n"
     ]
    },
    {
     "name": "stderr",
     "output_type": "stream",
     "text": [
      "/home/erfan_wsl/.local/lib/python3.10/site-packages/pyspark/sql/context.py:157: FutureWarning: Deprecated in 3.0.0. Use SparkSession.builder.getOrCreate() instead.\n",
      "  warnings.warn(\n"
     ]
    },
    {
     "name": "stdout",
     "output_type": "stream",
     "text": [
      "[[151.   0.   0.   0.   0.   0.   0.   0.   0.]\n",
      " [  3. 227.   0.   0.   0.   0.   0.   0.   0.]\n",
      " [  0.   0. 290.   2.   0.   1.   0.   0.   0.]\n",
      " [  0.   0.   0.  45.   0.   0.   0.   0.   0.]\n",
      " [  0.   1.   0.   0.   1.   1.   0.   0.   0.]\n",
      " [  2.   0.   0.   0.   0.  69.   0.   1.   0.]\n",
      " [  0.   0.   0.   1.   0.   0.  38.   0.   0.]\n",
      " [  6.   0.   0.   2.   0.   0.   0. 111.   0.]\n",
      " [  1.   0.   0.   0.   0.   1.   0.   0. 111.]]\n"
     ]
    }
   ],
   "source": [
    "from pyspark.mllib.evaluation import MulticlassMetrics\n",
    "from pyspark.sql.types import FloatType\n",
    "import pyspark.sql.functions as F\n",
    "\n",
    "# obtaining the confusion matrix\n",
    "\n",
    "preds_and_labels = predictions.select(['prediction','Class']).withColumn('Class', F.col('Class').cast(FloatType())).orderBy('prediction')\n",
    "preds_and_labels = preds_and_labels.select(['prediction','Class'])\n",
    "metrics = MulticlassMetrics(preds_and_labels.rdd.map(tuple))\n",
    "print(metrics.confusionMatrix().toArray())"
   ]
  },
  {
   "cell_type": "code",
   "execution_count": 70,
   "id": "3fb796ad",
   "metadata": {},
   "outputs": [
    {
     "name": "stdout",
     "output_type": "stream",
     "text": [
      "Summary Stats\n",
      "\n",
      "Precision = [0.9263803680981595, 0.9956140350877193, 1.0, 0.9, 1.0, 0.9583333333333334, 1.0, 0.9910714285714286, 1.0]\n",
      "\n",
      "Recall = [1.0, 0.9869565217391304, 0.9897610921501706, 1.0, 0.3333333333333333, 0.9583333333333334, 0.9743589743589743, 0.9327731092436975, 0.9823008849557522]\n",
      "\n",
      "F1 Score = [0.9617834394904459, 0.9912663755458515, 0.9948542024013721, 0.9473684210526316, 0.5, 0.9583333333333334, 0.9870129870129869, 0.961038961038961, 0.9910714285714286]\n",
      "\n",
      "True Positive Rate = [1.0, 0.9869565217391304, 0.9897610921501706, 1.0, 0.3333333333333333, 0.9583333333333334, 0.9743589743589743, 0.9327731092436975, 0.9823008849557522]\n",
      "\n",
      "False Positive Rate = [0.01312910284463895, 0.0011976047904191617, 0.0, 0.004901960784313725, 0.0, 0.0030211480362537764, 0.0, 0.0010570824524312897, 0.0]\n"
     ]
    }
   ],
   "source": [
    "# Overall statistics\n",
    "# calculating precision, recall, f1Score, True Positive Rate, False Positive Rate\n",
    "# mean of these metrics have been calculated just for num_trees=30 becuase it has the best result in accuracy\n",
    "\n",
    "precision = []\n",
    "recall = []\n",
    "f1Score = []\n",
    "tpr = []\n",
    "fpr = []\n",
    "\n",
    "for i in range(9):\n",
    "    precision.append(metrics.precision(i+1.) )\n",
    "    recall.append(metrics.recall(i+1.) )\n",
    "    f1Score.append(metrics.fMeasure(i+1.) )\n",
    "    tpr.append(metrics.truePositiveRate(i+1.) )\n",
    "    fpr.append(metrics.falsePositiveRate(i+1.) )\n",
    "print(\"Summary Stats\")\n",
    "print(\"\\nPrecision = %s\" % precision)\n",
    "print(\"\\nRecall = %s\" % recall)\n",
    "print(\"\\nF1 Score = %s\" % f1Score)\n",
    "print(\"\\nTrue Positive Rate = %s\" % tpr)\n",
    "print(\"\\nFalse Positive Rate = %s\" % fpr)\n",
    "\n",
    "\n"
   ]
  },
  {
   "cell_type": "code",
   "execution_count": null,
   "id": "37923997",
   "metadata": {},
   "outputs": [],
   "source": []
  },
  {
   "cell_type": "markdown",
   "id": "73208bc6",
   "metadata": {},
   "source": [
    "# Random Forest | numTrees=20, maxDepth=10"
   ]
  },
  {
   "cell_type": "code",
   "execution_count": 61,
   "id": "2b35bf9d",
   "metadata": {},
   "outputs": [],
   "source": [
    "# from pyspark.ml.classification import RandomForestClassifier\n"
   ]
  },
  {
   "cell_type": "code",
   "execution_count": 71,
   "id": "d2259a37",
   "metadata": {},
   "outputs": [
    {
     "name": "stdout",
     "output_type": "stream",
     "text": [
      "23/01/01 12:09:58 WARN TaskSetManager: Stage 845 contains a task of very large size (15403 KiB). The maximum recommended task size is 1000 KiB.\n"
     ]
    },
    {
     "name": "stderr",
     "output_type": "stream",
     "text": [
      "                                                                                \r"
     ]
    },
    {
     "name": "stdout",
     "output_type": "stream",
     "text": [
      "23/01/01 12:09:59 WARN TaskSetManager: Stage 846 contains a task of very large size (15403 KiB). The maximum recommended task size is 1000 KiB.\n"
     ]
    },
    {
     "name": "stderr",
     "output_type": "stream",
     "text": [
      "                                                                                \r"
     ]
    },
    {
     "name": "stdout",
     "output_type": "stream",
     "text": [
      "23/01/01 12:10:26 WARN TaskSetManager: Stage 857 contains a task of very large size (15403 KiB). The maximum recommended task size is 1000 KiB.\n"
     ]
    },
    {
     "name": "stderr",
     "output_type": "stream",
     "text": [
      "\r",
      "[Stage 857:>                                                        (0 + 1) / 1]\r",
      "\r",
      "                                                                                \r"
     ]
    },
    {
     "name": "stdout",
     "output_type": "stream",
     "text": [
      "23/01/01 12:10:26 WARN TaskSetManager: Stage 858 contains a task of very large size (15403 KiB). The maximum recommended task size is 1000 KiB.\n"
     ]
    },
    {
     "name": "stderr",
     "output_type": "stream",
     "text": [
      "                                                                                \r"
     ]
    },
    {
     "name": "stdout",
     "output_type": "stream",
     "text": [
      "23/01/01 12:10:28 WARN TaskSetManager: Stage 870 contains a task of very large size (15403 KiB). The maximum recommended task size is 1000 KiB.\n"
     ]
    },
    {
     "name": "stderr",
     "output_type": "stream",
     "text": [
      "                                                                                \r"
     ]
    },
    {
     "name": "stdout",
     "output_type": "stream",
     "text": [
      "23/01/01 12:10:29 WARN TaskSetManager: Stage 871 contains a task of very large size (15403 KiB). The maximum recommended task size is 1000 KiB.\n"
     ]
    },
    {
     "name": "stderr",
     "output_type": "stream",
     "text": [
      "                                                                                \r"
     ]
    },
    {
     "name": "stdout",
     "output_type": "stream",
     "text": [
      "23/01/01 12:10:38 WARN DAGScheduler: Broadcasting large task binary with size 1255.0 KiB\n",
      "23/01/01 12:10:39 WARN DAGScheduler: Broadcasting large task binary with size 1560.0 KiB\n",
      "23/01/01 12:10:40 WARN DAGScheduler: Broadcasting large task binary with size 1873.4 KiB\n",
      "23/01/01 12:10:42 WARN TaskSetManager: Stage 945 contains a task of very large size (15403 KiB). The maximum recommended task size is 1000 KiB.\n"
     ]
    },
    {
     "name": "stderr",
     "output_type": "stream",
     "text": [
      "                                                                                \r"
     ]
    },
    {
     "name": "stdout",
     "output_type": "stream",
     "text": [
      "23/01/01 12:10:43 WARN TaskSetManager: Stage 946 contains a task of very large size (15403 KiB). The maximum recommended task size is 1000 KiB.\n"
     ]
    },
    {
     "name": "stderr",
     "output_type": "stream",
     "text": [
      "                                                                                \r"
     ]
    }
   ],
   "source": [
    "rf = RandomForestClassifier(numTrees=20, maxDepth=10,featuresCol = \"features\", labelCol = \"Class\")\n",
    "s1 = time.time()\n",
    "rfModel = rf.fit(TRAIN)\n",
    "predictions = rfModel.transform(TEST)\n",
    "s2 = time.time()\n",
    "TIME.append(s2-s1)"
   ]
  },
  {
   "cell_type": "code",
   "execution_count": 168,
   "id": "7c8fce81",
   "metadata": {
    "collapsed": true
   },
   "outputs": [
    {
     "name": "stdout",
     "output_type": "stream",
     "text": [
      "22/12/31 15:37:49 WARN TaskSetManager: Stage 180 contains a task of very large size (15647 KiB). The maximum recommended task size is 1000 KiB.\n"
     ]
    },
    {
     "name": "stderr",
     "output_type": "stream",
     "text": [
      "                                                                                \r"
     ]
    },
    {
     "name": "stdout",
     "output_type": "stream",
     "text": [
      "22/12/31 15:37:50 WARN TaskSetManager: Stage 181 contains a task of very large size (15647 KiB). The maximum recommended task size is 1000 KiB.\n"
     ]
    },
    {
     "name": "stderr",
     "output_type": "stream",
     "text": [
      "                                                                                \r"
     ]
    },
    {
     "data": {
      "text/html": [
       "<div>\n",
       "<style scoped>\n",
       "    .dataframe tbody tr th:only-of-type {\n",
       "        vertical-align: middle;\n",
       "    }\n",
       "\n",
       "    .dataframe tbody tr th {\n",
       "        vertical-align: top;\n",
       "    }\n",
       "\n",
       "    .dataframe thead th {\n",
       "        text-align: right;\n",
       "    }\n",
       "</style>\n",
       "<table border=\"1\" class=\"dataframe\">\n",
       "  <thead>\n",
       "    <tr style=\"text-align: right;\">\n",
       "      <th></th>\n",
       "      <th>db</th>\n",
       "      <th>mov</th>\n",
       "      <th>push</th>\n",
       "      <th>call</th>\n",
       "      <th>jmp</th>\n",
       "      <th>test</th>\n",
       "      <th>cmp</th>\n",
       "      <th>sub</th>\n",
       "      <th>add</th>\n",
       "      <th>jz</th>\n",
       "      <th>...</th>\n",
       "      <th>vpcmpeqd</th>\n",
       "      <th>daa</th>\n",
       "      <th>vpsrlw</th>\n",
       "      <th>stosd</th>\n",
       "      <th>Id</th>\n",
       "      <th>Class</th>\n",
       "      <th>features</th>\n",
       "      <th>rawPrediction</th>\n",
       "      <th>probability</th>\n",
       "      <th>prediction</th>\n",
       "    </tr>\n",
       "  </thead>\n",
       "  <tbody>\n",
       "    <tr>\n",
       "      <th>0</th>\n",
       "      <td>1417101</td>\n",
       "      <td>6224</td>\n",
       "      <td>2370</td>\n",
       "      <td>922</td>\n",
       "      <td>918</td>\n",
       "      <td>827</td>\n",
       "      <td>1006</td>\n",
       "      <td>881</td>\n",
       "      <td>826</td>\n",
       "      <td>697</td>\n",
       "      <td>...</td>\n",
       "      <td>0</td>\n",
       "      <td>0</td>\n",
       "      <td>0</td>\n",
       "      <td>0</td>\n",
       "      <td>ecd3A46BQyk2SFJ7IMqb</td>\n",
       "      <td>8</td>\n",
       "      <td>(1417101.0, 6224.0, 2370.0, 922.0, 918.0, 827....</td>\n",
       "      <td>[0.0, 2.93246389296825, 4.7026962518154285, 5....</td>\n",
       "      <td>[0.0, 0.14662319464841253, 0.23513481259077146...</td>\n",
       "      <td>3.0</td>\n",
       "    </tr>\n",
       "    <tr>\n",
       "      <th>1</th>\n",
       "      <td>506008</td>\n",
       "      <td>2092</td>\n",
       "      <td>2741</td>\n",
       "      <td>1041</td>\n",
       "      <td>245</td>\n",
       "      <td>378</td>\n",
       "      <td>546</td>\n",
       "      <td>80</td>\n",
       "      <td>543</td>\n",
       "      <td>462</td>\n",
       "      <td>...</td>\n",
       "      <td>0</td>\n",
       "      <td>0</td>\n",
       "      <td>0</td>\n",
       "      <td>0</td>\n",
       "      <td>iVAMDtFgjQHusEGmWJCT</td>\n",
       "      <td>2</td>\n",
       "      <td>(506008.0, 2092.0, 2741.0, 1041.0, 245.0, 378....</td>\n",
       "      <td>[0.0, 2.8003635965720712, 4.688393468602078, 5...</td>\n",
       "      <td>[0.0, 0.14001817982860362, 0.23441967343010398...</td>\n",
       "      <td>3.0</td>\n",
       "    </tr>\n",
       "    <tr>\n",
       "      <th>2</th>\n",
       "      <td>934683</td>\n",
       "      <td>1236</td>\n",
       "      <td>776</td>\n",
       "      <td>386</td>\n",
       "      <td>270</td>\n",
       "      <td>391</td>\n",
       "      <td>285</td>\n",
       "      <td>180</td>\n",
       "      <td>127</td>\n",
       "      <td>315</td>\n",
       "      <td>...</td>\n",
       "      <td>0</td>\n",
       "      <td>0</td>\n",
       "      <td>0</td>\n",
       "      <td>0</td>\n",
       "      <td>gtiXlab7VqBfK2PYzdx6</td>\n",
       "      <td>3</td>\n",
       "      <td>(934683.0, 1236.0, 776.0, 386.0, 270.0, 391.0,...</td>\n",
       "      <td>[0.0, 2.8349880509799914, 4.624234393584697, 5...</td>\n",
       "      <td>[0.0, 0.14174940254899956, 0.23121171967923485...</td>\n",
       "      <td>3.0</td>\n",
       "    </tr>\n",
       "    <tr>\n",
       "      <th>3</th>\n",
       "      <td>14518</td>\n",
       "      <td>3087</td>\n",
       "      <td>1919</td>\n",
       "      <td>788</td>\n",
       "      <td>468</td>\n",
       "      <td>480</td>\n",
       "      <td>601</td>\n",
       "      <td>139</td>\n",
       "      <td>694</td>\n",
       "      <td>529</td>\n",
       "      <td>...</td>\n",
       "      <td>0</td>\n",
       "      <td>0</td>\n",
       "      <td>0</td>\n",
       "      <td>0</td>\n",
       "      <td>E5LXhtYsZMWfA4ebSVUk</td>\n",
       "      <td>3</td>\n",
       "      <td>(14518.0, 3087.0, 1919.0, 788.0, 468.0, 480.0,...</td>\n",
       "      <td>[0.0, 2.8443643749834537, 4.482604228622607, 5...</td>\n",
       "      <td>[0.0, 0.14221821874917268, 0.22413021143113038...</td>\n",
       "      <td>3.0</td>\n",
       "    </tr>\n",
       "    <tr>\n",
       "      <th>4</th>\n",
       "      <td>76924</td>\n",
       "      <td>489</td>\n",
       "      <td>860</td>\n",
       "      <td>33</td>\n",
       "      <td>1337</td>\n",
       "      <td>69</td>\n",
       "      <td>110</td>\n",
       "      <td>191</td>\n",
       "      <td>266</td>\n",
       "      <td>19</td>\n",
       "      <td>...</td>\n",
       "      <td>0</td>\n",
       "      <td>0</td>\n",
       "      <td>0</td>\n",
       "      <td>0</td>\n",
       "      <td>I2Rtqw5TSvPfYjFkXGKr</td>\n",
       "      <td>8</td>\n",
       "      <td>(76924.0, 489.0, 860.0, 33.0, 1337.0, 69.0, 11...</td>\n",
       "      <td>[0.0, 2.2545317939040976, 5.491689163622502, 4...</td>\n",
       "      <td>[0.0, 0.1127265896952049, 0.27458445818112515,...</td>\n",
       "      <td>2.0</td>\n",
       "    </tr>\n",
       "    <tr>\n",
       "      <th>...</th>\n",
       "      <td>...</td>\n",
       "      <td>...</td>\n",
       "      <td>...</td>\n",
       "      <td>...</td>\n",
       "      <td>...</td>\n",
       "      <td>...</td>\n",
       "      <td>...</td>\n",
       "      <td>...</td>\n",
       "      <td>...</td>\n",
       "      <td>...</td>\n",
       "      <td>...</td>\n",
       "      <td>...</td>\n",
       "      <td>...</td>\n",
       "      <td>...</td>\n",
       "      <td>...</td>\n",
       "      <td>...</td>\n",
       "      <td>...</td>\n",
       "      <td>...</td>\n",
       "      <td>...</td>\n",
       "      <td>...</td>\n",
       "      <td>...</td>\n",
       "    </tr>\n",
       "    <tr>\n",
       "      <th>1063</th>\n",
       "      <td>649</td>\n",
       "      <td>3924</td>\n",
       "      <td>211</td>\n",
       "      <td>305</td>\n",
       "      <td>298</td>\n",
       "      <td>345</td>\n",
       "      <td>367</td>\n",
       "      <td>274</td>\n",
       "      <td>465</td>\n",
       "      <td>253</td>\n",
       "      <td>...</td>\n",
       "      <td>0</td>\n",
       "      <td>0</td>\n",
       "      <td>0</td>\n",
       "      <td>0</td>\n",
       "      <td>6ZO9dMHY5JkCofwTSyvm</td>\n",
       "      <td>1</td>\n",
       "      <td>(649.0, 3924.0, 211.0, 305.0, 298.0, 345.0, 36...</td>\n",
       "      <td>[0.0, 2.7903251843666257, 4.615526141603453, 5...</td>\n",
       "      <td>[0.0, 0.13951625921833127, 0.23077630708017266...</td>\n",
       "      <td>3.0</td>\n",
       "    </tr>\n",
       "    <tr>\n",
       "      <th>1064</th>\n",
       "      <td>173150</td>\n",
       "      <td>5899</td>\n",
       "      <td>3472</td>\n",
       "      <td>1341</td>\n",
       "      <td>746</td>\n",
       "      <td>726</td>\n",
       "      <td>728</td>\n",
       "      <td>816</td>\n",
       "      <td>680</td>\n",
       "      <td>566</td>\n",
       "      <td>...</td>\n",
       "      <td>0</td>\n",
       "      <td>0</td>\n",
       "      <td>0</td>\n",
       "      <td>0</td>\n",
       "      <td>Ei92sQqeJWtwHkcx8ouK</td>\n",
       "      <td>8</td>\n",
       "      <td>(173150.0, 5899.0, 3472.0, 1341.0, 746.0, 726....</td>\n",
       "      <td>[0.0, 2.936369598391365, 4.73270969923399, 5.3...</td>\n",
       "      <td>[0.0, 0.14681847991956826, 0.23663548496169948...</td>\n",
       "      <td>3.0</td>\n",
       "    </tr>\n",
       "    <tr>\n",
       "      <th>1065</th>\n",
       "      <td>7310</td>\n",
       "      <td>2555</td>\n",
       "      <td>407</td>\n",
       "      <td>204</td>\n",
       "      <td>75</td>\n",
       "      <td>11</td>\n",
       "      <td>190</td>\n",
       "      <td>376</td>\n",
       "      <td>426</td>\n",
       "      <td>78</td>\n",
       "      <td>...</td>\n",
       "      <td>0</td>\n",
       "      <td>0</td>\n",
       "      <td>0</td>\n",
       "      <td>0</td>\n",
       "      <td>5FXu1yi9MvKsJIGPC72c</td>\n",
       "      <td>2</td>\n",
       "      <td>(7310.0, 2555.0, 407.0, 204.0, 75.0, 11.0, 190...</td>\n",
       "      <td>[0.0, 2.8606905950745176, 4.40337991911419, 5....</td>\n",
       "      <td>[0.0, 0.14303452975372585, 0.22016899595570946...</td>\n",
       "      <td>3.0</td>\n",
       "    </tr>\n",
       "    <tr>\n",
       "      <th>1066</th>\n",
       "      <td>7905</td>\n",
       "      <td>2295</td>\n",
       "      <td>393</td>\n",
       "      <td>132</td>\n",
       "      <td>71</td>\n",
       "      <td>6</td>\n",
       "      <td>174</td>\n",
       "      <td>327</td>\n",
       "      <td>390</td>\n",
       "      <td>70</td>\n",
       "      <td>...</td>\n",
       "      <td>0</td>\n",
       "      <td>0</td>\n",
       "      <td>0</td>\n",
       "      <td>0</td>\n",
       "      <td>75IA0ztPUf4HQJiacnoW</td>\n",
       "      <td>3</td>\n",
       "      <td>(7905.0, 2295.0, 393.0, 132.0, 71.0, 6.0, 174....</td>\n",
       "      <td>[0.0, 2.89521599003667, 4.485606767897073, 5.4...</td>\n",
       "      <td>[0.0, 0.1447607995018335, 0.22428033839485365,...</td>\n",
       "      <td>3.0</td>\n",
       "    </tr>\n",
       "    <tr>\n",
       "      <th>1067</th>\n",
       "      <td>1564</td>\n",
       "      <td>7571</td>\n",
       "      <td>5004</td>\n",
       "      <td>2377</td>\n",
       "      <td>416</td>\n",
       "      <td>1539</td>\n",
       "      <td>1263</td>\n",
       "      <td>446</td>\n",
       "      <td>2417</td>\n",
       "      <td>1370</td>\n",
       "      <td>...</td>\n",
       "      <td>0</td>\n",
       "      <td>0</td>\n",
       "      <td>0</td>\n",
       "      <td>0</td>\n",
       "      <td>19BtdpKYGOSyX3oZsirc</td>\n",
       "      <td>3</td>\n",
       "      <td>(1564.0, 7571.0, 5004.0, 2377.0, 416.0, 1539.0...</td>\n",
       "      <td>[0.0, 2.7837651503632332, 4.503392494625092, 5...</td>\n",
       "      <td>[0.0, 0.1391882575181617, 0.22516962473125463,...</td>\n",
       "      <td>3.0</td>\n",
       "    </tr>\n",
       "  </tbody>\n",
       "</table>\n",
       "<p>1068 rows × 725 columns</p>\n",
       "</div>"
      ],
      "text/plain": [
       "           db   mov  push  call   jmp  test   cmp  sub   add    jz  ...  \\\n",
       "0     1417101  6224  2370   922   918   827  1006  881   826   697  ...   \n",
       "1      506008  2092  2741  1041   245   378   546   80   543   462  ...   \n",
       "2      934683  1236   776   386   270   391   285  180   127   315  ...   \n",
       "3       14518  3087  1919   788   468   480   601  139   694   529  ...   \n",
       "4       76924   489   860    33  1337    69   110  191   266    19  ...   \n",
       "...       ...   ...   ...   ...   ...   ...   ...  ...   ...   ...  ...   \n",
       "1063      649  3924   211   305   298   345   367  274   465   253  ...   \n",
       "1064   173150  5899  3472  1341   746   726   728  816   680   566  ...   \n",
       "1065     7310  2555   407   204    75    11   190  376   426    78  ...   \n",
       "1066     7905  2295   393   132    71     6   174  327   390    70  ...   \n",
       "1067     1564  7571  5004  2377   416  1539  1263  446  2417  1370  ...   \n",
       "\n",
       "      vpcmpeqd  daa  vpsrlw  stosd                    Id  Class  \\\n",
       "0            0    0       0      0  ecd3A46BQyk2SFJ7IMqb      8   \n",
       "1            0    0       0      0  iVAMDtFgjQHusEGmWJCT      2   \n",
       "2            0    0       0      0  gtiXlab7VqBfK2PYzdx6      3   \n",
       "3            0    0       0      0  E5LXhtYsZMWfA4ebSVUk      3   \n",
       "4            0    0       0      0  I2Rtqw5TSvPfYjFkXGKr      8   \n",
       "...        ...  ...     ...    ...                   ...    ...   \n",
       "1063         0    0       0      0  6ZO9dMHY5JkCofwTSyvm      1   \n",
       "1064         0    0       0      0  Ei92sQqeJWtwHkcx8ouK      8   \n",
       "1065         0    0       0      0  5FXu1yi9MvKsJIGPC72c      2   \n",
       "1066         0    0       0      0  75IA0ztPUf4HQJiacnoW      3   \n",
       "1067         0    0       0      0  19BtdpKYGOSyX3oZsirc      3   \n",
       "\n",
       "                                               features  \\\n",
       "0     (1417101.0, 6224.0, 2370.0, 922.0, 918.0, 827....   \n",
       "1     (506008.0, 2092.0, 2741.0, 1041.0, 245.0, 378....   \n",
       "2     (934683.0, 1236.0, 776.0, 386.0, 270.0, 391.0,...   \n",
       "3     (14518.0, 3087.0, 1919.0, 788.0, 468.0, 480.0,...   \n",
       "4     (76924.0, 489.0, 860.0, 33.0, 1337.0, 69.0, 11...   \n",
       "...                                                 ...   \n",
       "1063  (649.0, 3924.0, 211.0, 305.0, 298.0, 345.0, 36...   \n",
       "1064  (173150.0, 5899.0, 3472.0, 1341.0, 746.0, 726....   \n",
       "1065  (7310.0, 2555.0, 407.0, 204.0, 75.0, 11.0, 190...   \n",
       "1066  (7905.0, 2295.0, 393.0, 132.0, 71.0, 6.0, 174....   \n",
       "1067  (1564.0, 7571.0, 5004.0, 2377.0, 416.0, 1539.0...   \n",
       "\n",
       "                                          rawPrediction  \\\n",
       "0     [0.0, 2.93246389296825, 4.7026962518154285, 5....   \n",
       "1     [0.0, 2.8003635965720712, 4.688393468602078, 5...   \n",
       "2     [0.0, 2.8349880509799914, 4.624234393584697, 5...   \n",
       "3     [0.0, 2.8443643749834537, 4.482604228622607, 5...   \n",
       "4     [0.0, 2.2545317939040976, 5.491689163622502, 4...   \n",
       "...                                                 ...   \n",
       "1063  [0.0, 2.7903251843666257, 4.615526141603453, 5...   \n",
       "1064  [0.0, 2.936369598391365, 4.73270969923399, 5.3...   \n",
       "1065  [0.0, 2.8606905950745176, 4.40337991911419, 5....   \n",
       "1066  [0.0, 2.89521599003667, 4.485606767897073, 5.4...   \n",
       "1067  [0.0, 2.7837651503632332, 4.503392494625092, 5...   \n",
       "\n",
       "                                            probability  prediction  \n",
       "0     [0.0, 0.14662319464841253, 0.23513481259077146...         3.0  \n",
       "1     [0.0, 0.14001817982860362, 0.23441967343010398...         3.0  \n",
       "2     [0.0, 0.14174940254899956, 0.23121171967923485...         3.0  \n",
       "3     [0.0, 0.14221821874917268, 0.22413021143113038...         3.0  \n",
       "4     [0.0, 0.1127265896952049, 0.27458445818112515,...         2.0  \n",
       "...                                                 ...         ...  \n",
       "1063  [0.0, 0.13951625921833127, 0.23077630708017266...         3.0  \n",
       "1064  [0.0, 0.14681847991956826, 0.23663548496169948...         3.0  \n",
       "1065  [0.0, 0.14303452975372585, 0.22016899595570946...         3.0  \n",
       "1066  [0.0, 0.1447607995018335, 0.22428033839485365,...         3.0  \n",
       "1067  [0.0, 0.1391882575181617, 0.22516962473125463,...         3.0  \n",
       "\n",
       "[1068 rows x 725 columns]"
      ]
     },
     "execution_count": 168,
     "metadata": {},
     "output_type": "execute_result"
    }
   ],
   "source": [
    "# predictions.select(\"*\").toPandas()"
   ]
  },
  {
   "cell_type": "code",
   "execution_count": 72,
   "id": "fc106e1c",
   "metadata": {},
   "outputs": [
    {
     "name": "stdout",
     "output_type": "stream",
     "text": [
      "23/01/01 12:10:55 WARN TaskSetManager: Stage 957 contains a task of very large size (15403 KiB). The maximum recommended task size is 1000 KiB.\n"
     ]
    },
    {
     "name": "stderr",
     "output_type": "stream",
     "text": [
      "                                                                                \r"
     ]
    },
    {
     "name": "stdout",
     "output_type": "stream",
     "text": [
      "23/01/01 12:10:56 WARN TaskSetManager: Stage 958 contains a task of very large size (15403 KiB). The maximum recommended task size is 1000 KiB.\n"
     ]
    },
    {
     "name": "stderr",
     "output_type": "stream",
     "text": [
      "                                                                                \r"
     ]
    },
    {
     "name": "stdout",
     "output_type": "stream",
     "text": [
      "23/01/01 12:10:58 WARN DAGScheduler: Broadcasting large task binary with size 1478.4 KiB\n",
      "+-----+----------+\n",
      "|Class|prediction|\n",
      "+-----+----------+\n",
      "|    6|       6.0|\n",
      "|    1|       1.0|\n",
      "|    4|       4.0|\n",
      "|    2|       2.0|\n",
      "|    9|       9.0|\n",
      "|    3|       3.0|\n",
      "|    3|       3.0|\n",
      "|    1|       1.0|\n",
      "|    9|       9.0|\n",
      "|    2|       2.0|\n",
      "+-----+----------+\n",
      "only showing top 10 rows\n",
      "\n"
     ]
    }
   ],
   "source": [
    "predictions.select(\"Class\", \"prediction\").show(10)"
   ]
  },
  {
   "cell_type": "code",
   "execution_count": 63,
   "id": "dd95a626",
   "metadata": {},
   "outputs": [],
   "source": [
    "# from pyspark.ml.evaluation import MulticlassClassificationEvaluator\n"
   ]
  },
  {
   "cell_type": "code",
   "execution_count": 73,
   "id": "75f7eec8",
   "metadata": {},
   "outputs": [
    {
     "name": "stdout",
     "output_type": "stream",
     "text": [
      "23/01/01 12:11:13 WARN TaskSetManager: Stage 973 contains a task of very large size (15403 KiB). The maximum recommended task size is 1000 KiB.\n"
     ]
    },
    {
     "name": "stderr",
     "output_type": "stream",
     "text": [
      "                                                                                \r"
     ]
    },
    {
     "name": "stdout",
     "output_type": "stream",
     "text": [
      "23/01/01 12:11:14 WARN TaskSetManager: Stage 974 contains a task of very large size (15403 KiB). The maximum recommended task size is 1000 KiB.\n"
     ]
    },
    {
     "name": "stderr",
     "output_type": "stream",
     "text": [
      "                                                                                \r"
     ]
    },
    {
     "name": "stdout",
     "output_type": "stream",
     "text": [
      "23/01/01 12:11:16 WARN DAGScheduler: Broadcasting large task binary with size 1495.5 KiB\n",
      "Accuracy = 0.9818416124499808\n",
      "Test Error = 0.018158387550019195\n"
     ]
    }
   ],
   "source": [
    "evaluator = MulticlassClassificationEvaluator(labelCol=\"Class\", predictionCol=\"prediction\")\n",
    "accuracy = evaluator.evaluate(predictions)\n",
    "print(\"Accuracy = %s\" % (accuracy))\n",
    "print(\"Test Error = %s\" % (1.0 - accuracy))\n",
    "ACC.append(accuracy)"
   ]
  },
  {
   "cell_type": "code",
   "execution_count": 74,
   "id": "490880bf",
   "metadata": {},
   "outputs": [
    {
     "name": "stdout",
     "output_type": "stream",
     "text": [
      "23/01/01 12:11:20 WARN TaskSetManager: Stage 990 contains a task of very large size (15403 KiB). The maximum recommended task size is 1000 KiB.\n"
     ]
    },
    {
     "name": "stderr",
     "output_type": "stream",
     "text": [
      "                                                                                \r"
     ]
    },
    {
     "name": "stdout",
     "output_type": "stream",
     "text": [
      "23/01/01 12:11:21 WARN TaskSetManager: Stage 991 contains a task of very large size (15403 KiB). The maximum recommended task size is 1000 KiB.\n"
     ]
    },
    {
     "name": "stderr",
     "output_type": "stream",
     "text": [
      "                                                                                \r"
     ]
    },
    {
     "name": "stdout",
     "output_type": "stream",
     "text": [
      "23/01/01 12:11:23 WARN DAGScheduler: Broadcasting large task binary with size 1479.7 KiB\n",
      "23/01/01 12:11:24 WARN DAGScheduler: Broadcasting large task binary with size 1479.7 KiB\n",
      "23/01/01 12:11:24 WARN DAGScheduler: Broadcasting large task binary with size 1482.7 KiB\n",
      "23/01/01 12:11:24 WARN DAGScheduler: Broadcasting large task binary with size 1492.2 KiB\n",
      "[[151.   0.   0.   0.   0.   0.   0.   0.   0.]\n",
      " [  2. 228.   0.   0.   0.   0.   0.   0.   0.]\n",
      " [  0.   0. 291.   1.   0.   0.   0.   1.   0.]\n",
      " [  0.   0.   0.  45.   0.   0.   0.   0.   0.]\n",
      " [  1.   0.   0.   0.   1.   0.   0.   1.   0.]\n",
      " [  1.   0.   0.   0.   0.  70.   0.   1.   0.]\n",
      " [  0.   0.   0.   1.   0.   0.  38.   0.   0.]\n",
      " [  7.   0.   0.   1.   0.   0.   0. 111.   0.]\n",
      " [  2.   0.   0.   0.   0.   0.   0.   0. 111.]]\n"
     ]
    }
   ],
   "source": [
    "from pyspark.mllib.evaluation import MulticlassMetrics\n",
    "from pyspark.sql.types import FloatType\n",
    "import pyspark.sql.functions as F\n",
    "\n",
    "preds_and_labels = predictions.select(['prediction','Class']).withColumn('Class', F.col('Class').cast(FloatType())).orderBy('prediction')\n",
    "preds_and_labels = preds_and_labels.select(['prediction','Class'])\n",
    "metrics = MulticlassMetrics(preds_and_labels.rdd.map(tuple))\n",
    "print(metrics.confusionMatrix().toArray())"
   ]
  },
  {
   "cell_type": "code",
   "execution_count": 75,
   "id": "d7857f7c",
   "metadata": {},
   "outputs": [
    {
     "name": "stdout",
     "output_type": "stream",
     "text": [
      "Summary Stats\n",
      "\n",
      "Precision = [0.9207317073170732, 1.0, 1.0, 0.9375, 1.0, 1.0, 1.0, 0.9736842105263158, 1.0]\n",
      "\n",
      "Recall = [1.0, 0.991304347826087, 0.9931740614334471, 1.0, 0.3333333333333333, 0.9722222222222222, 0.9743589743589743, 0.9327731092436975, 0.9823008849557522]\n",
      "\n",
      "F1 Score = [0.9587301587301587, 0.9956331877729258, 0.9965753424657535, 0.967741935483871, 0.5, 0.9859154929577464, 0.9870129870129869, 0.9527896995708156, 0.9910714285714286]\n",
      "\n",
      "True Positive Rate = [1.0, 0.991304347826087, 0.9931740614334471, 1.0, 0.3333333333333333, 0.9722222222222222, 0.9743589743589743, 0.9327731092436975, 0.9823008849557522]\n",
      "\n",
      "False Positive Rate = [0.014223194748358862, 0.0, 0.0, 0.0029411764705882353, 0.0, 0.0, 0.0, 0.003171247357293869, 0.0]\n"
     ]
    }
   ],
   "source": [
    "# Overall statistics\n",
    "\n",
    "precision = []\n",
    "recall = []\n",
    "f1Score = []\n",
    "tpr = []\n",
    "fpr = []\n",
    "# metrics.truePositiveRate\n",
    "# metrics.falsePositiveRate\n",
    "for i in range(9):\n",
    "    precision.append(metrics.precision(i+1.) )\n",
    "    recall.append(metrics.recall(i+1.) )\n",
    "    f1Score.append(metrics.fMeasure(i+1.) )\n",
    "    tpr.append(metrics.truePositiveRate(i+1.) )\n",
    "    fpr.append(metrics.falsePositiveRate(i+1.) )\n",
    "print(\"Summary Stats\")\n",
    "print(\"\\nPrecision = %s\" % precision)\n",
    "print(\"\\nRecall = %s\" % recall)\n",
    "print(\"\\nF1 Score = %s\" % f1Score)\n",
    "print(\"\\nTrue Positive Rate = %s\" % tpr)\n",
    "print(\"\\nFalse Positive Rate = %s\" % fpr)\n",
    "\n",
    "\n"
   ]
  },
  {
   "cell_type": "code",
   "execution_count": null,
   "id": "8b461c96",
   "metadata": {},
   "outputs": [],
   "source": []
  },
  {
   "cell_type": "markdown",
   "id": "bae332b8",
   "metadata": {},
   "source": [
    "# Random Forest | numTrees=30, maxDepth=10"
   ]
  },
  {
   "cell_type": "code",
   "execution_count": 18,
   "id": "ae058b61",
   "metadata": {},
   "outputs": [],
   "source": [
    "# from pyspark.ml.classification import RandomForestClassifier"
   ]
  },
  {
   "cell_type": "code",
   "execution_count": 76,
   "id": "c78bfa18",
   "metadata": {},
   "outputs": [
    {
     "name": "stdout",
     "output_type": "stream",
     "text": [
      "23/01/01 12:12:11 WARN TaskSetManager: Stage 1021 contains a task of very large size (15403 KiB). The maximum recommended task size is 1000 KiB.\n"
     ]
    },
    {
     "name": "stderr",
     "output_type": "stream",
     "text": [
      "                                                                                \r"
     ]
    },
    {
     "name": "stdout",
     "output_type": "stream",
     "text": [
      "23/01/01 12:12:12 WARN TaskSetManager: Stage 1022 contains a task of very large size (15403 KiB). The maximum recommended task size is 1000 KiB.\n"
     ]
    },
    {
     "name": "stderr",
     "output_type": "stream",
     "text": [
      "                                                                                \r"
     ]
    },
    {
     "name": "stdout",
     "output_type": "stream",
     "text": [
      "23/01/01 12:12:38 WARN TaskSetManager: Stage 1033 contains a task of very large size (15403 KiB). The maximum recommended task size is 1000 KiB.\n"
     ]
    },
    {
     "name": "stderr",
     "output_type": "stream",
     "text": [
      "\r",
      "[Stage 1033:>                                                       (0 + 1) / 1]\r",
      "\r",
      "                                                                                \r"
     ]
    },
    {
     "name": "stdout",
     "output_type": "stream",
     "text": [
      "23/01/01 12:12:39 WARN TaskSetManager: Stage 1034 contains a task of very large size (15403 KiB). The maximum recommended task size is 1000 KiB.\n"
     ]
    },
    {
     "name": "stderr",
     "output_type": "stream",
     "text": [
      "                                                                                \r"
     ]
    },
    {
     "name": "stdout",
     "output_type": "stream",
     "text": [
      "23/01/01 12:12:41 WARN TaskSetManager: Stage 1046 contains a task of very large size (15403 KiB). The maximum recommended task size is 1000 KiB.\n"
     ]
    },
    {
     "name": "stderr",
     "output_type": "stream",
     "text": [
      "                                                                                \r"
     ]
    },
    {
     "name": "stdout",
     "output_type": "stream",
     "text": [
      "23/01/01 12:12:42 WARN TaskSetManager: Stage 1047 contains a task of very large size (15403 KiB). The maximum recommended task size is 1000 KiB.\n"
     ]
    },
    {
     "name": "stderr",
     "output_type": "stream",
     "text": [
      "                                                                                \r"
     ]
    },
    {
     "name": "stdout",
     "output_type": "stream",
     "text": [
      "23/01/01 12:12:51 WARN DAGScheduler: Broadcasting large task binary with size 1234.5 KiB\n",
      "23/01/01 12:12:52 WARN DAGScheduler: Broadcasting large task binary with size 1637.3 KiB\n",
      "23/01/01 12:12:53 WARN DAGScheduler: Broadcasting large task binary with size 2.0 MiB\n",
      "23/01/01 12:12:54 WARN DAGScheduler: Broadcasting large task binary with size 2.5 MiB\n"
     ]
    },
    {
     "name": "stderr",
     "output_type": "stream",
     "text": [
      "                                                                                \r"
     ]
    },
    {
     "name": "stdout",
     "output_type": "stream",
     "text": [
      "23/01/01 12:12:56 WARN TaskSetManager: Stage 1121 contains a task of very large size (15403 KiB). The maximum recommended task size is 1000 KiB.\n"
     ]
    },
    {
     "name": "stderr",
     "output_type": "stream",
     "text": [
      "                                                                                \r"
     ]
    },
    {
     "name": "stdout",
     "output_type": "stream",
     "text": [
      "23/01/01 12:12:57 WARN TaskSetManager: Stage 1122 contains a task of very large size (15403 KiB). The maximum recommended task size is 1000 KiB.\n"
     ]
    },
    {
     "name": "stderr",
     "output_type": "stream",
     "text": [
      "                                                                                \r"
     ]
    }
   ],
   "source": [
    "rf = RandomForestClassifier(numTrees=30, maxDepth=10,featuresCol = \"features\", labelCol = \"Class\")\n",
    "s1 = time.time()\n",
    "rfModel = rf.fit(TRAIN)\n",
    "predictions = rfModel.transform(TEST)\n",
    "s2 = time.time()\n",
    "TIME.append(s2-s1)"
   ]
  },
  {
   "cell_type": "code",
   "execution_count": 77,
   "id": "7144c70f",
   "metadata": {},
   "outputs": [
    {
     "name": "stdout",
     "output_type": "stream",
     "text": [
      "23/01/01 12:14:01 WARN TaskSetManager: Stage 1133 contains a task of very large size (15403 KiB). The maximum recommended task size is 1000 KiB.\n"
     ]
    },
    {
     "name": "stderr",
     "output_type": "stream",
     "text": [
      "                                                                                \r"
     ]
    },
    {
     "name": "stdout",
     "output_type": "stream",
     "text": [
      "23/01/01 12:14:02 WARN TaskSetManager: Stage 1134 contains a task of very large size (15403 KiB). The maximum recommended task size is 1000 KiB.\n"
     ]
    },
    {
     "name": "stderr",
     "output_type": "stream",
     "text": [
      "                                                                                \r"
     ]
    },
    {
     "name": "stdout",
     "output_type": "stream",
     "text": [
      "23/01/01 12:14:04 WARN DAGScheduler: Broadcasting large task binary with size 1966.1 KiB\n",
      "+-----+----------+\n",
      "|Class|prediction|\n",
      "+-----+----------+\n",
      "|    6|       6.0|\n",
      "|    1|       1.0|\n",
      "|    4|       4.0|\n",
      "|    2|       2.0|\n",
      "|    9|       9.0|\n",
      "|    3|       3.0|\n",
      "|    3|       3.0|\n",
      "|    1|       1.0|\n",
      "|    9|       9.0|\n",
      "|    2|       2.0|\n",
      "+-----+----------+\n",
      "only showing top 10 rows\n",
      "\n"
     ]
    }
   ],
   "source": [
    "predictions.select(\"Class\", \"prediction\").show(10)"
   ]
  },
  {
   "cell_type": "code",
   "execution_count": 21,
   "id": "9b977867",
   "metadata": {},
   "outputs": [],
   "source": [
    "# from pyspark.ml.evaluation import MulticlassClassificationEvaluator\n"
   ]
  },
  {
   "cell_type": "code",
   "execution_count": 78,
   "id": "bc750c48",
   "metadata": {},
   "outputs": [
    {
     "name": "stdout",
     "output_type": "stream",
     "text": [
      "23/01/01 12:14:15 WARN TaskSetManager: Stage 1149 contains a task of very large size (15403 KiB). The maximum recommended task size is 1000 KiB.\n"
     ]
    },
    {
     "name": "stderr",
     "output_type": "stream",
     "text": [
      "                                                                                \r"
     ]
    },
    {
     "name": "stdout",
     "output_type": "stream",
     "text": [
      "23/01/01 12:14:16 WARN TaskSetManager: Stage 1150 contains a task of very large size (15403 KiB). The maximum recommended task size is 1000 KiB.\n"
     ]
    },
    {
     "name": "stderr",
     "output_type": "stream",
     "text": [
      "                                                                                \r"
     ]
    },
    {
     "name": "stdout",
     "output_type": "stream",
     "text": [
      "23/01/01 12:14:18 WARN DAGScheduler: Broadcasting large task binary with size 1983.3 KiB\n",
      "Accuracy = 0.9836834345632279\n",
      "Test Error = 0.016316565436772068\n"
     ]
    }
   ],
   "source": [
    "evaluator = MulticlassClassificationEvaluator(labelCol=\"Class\", predictionCol=\"prediction\")\n",
    "accuracy = evaluator.evaluate(predictions)\n",
    "print(\"Accuracy = %s\" % (accuracy))\n",
    "print(\"Test Error = %s\" % (1.0 - accuracy))\n",
    "ACC.append(accuracy)"
   ]
  },
  {
   "cell_type": "code",
   "execution_count": 79,
   "id": "32761e9b",
   "metadata": {},
   "outputs": [
    {
     "name": "stdout",
     "output_type": "stream",
     "text": [
      "23/01/01 12:14:32 WARN TaskSetManager: Stage 1166 contains a task of very large size (15403 KiB). The maximum recommended task size is 1000 KiB.\n"
     ]
    },
    {
     "name": "stderr",
     "output_type": "stream",
     "text": [
      "                                                                                \r"
     ]
    },
    {
     "name": "stdout",
     "output_type": "stream",
     "text": [
      "23/01/01 12:14:33 WARN TaskSetManager: Stage 1167 contains a task of very large size (15403 KiB). The maximum recommended task size is 1000 KiB.\n"
     ]
    },
    {
     "name": "stderr",
     "output_type": "stream",
     "text": [
      "                                                                                \r"
     ]
    },
    {
     "name": "stdout",
     "output_type": "stream",
     "text": [
      "23/01/01 12:14:35 WARN DAGScheduler: Broadcasting large task binary with size 1967.4 KiB\n",
      "23/01/01 12:14:35 WARN DAGScheduler: Broadcasting large task binary with size 1967.4 KiB\n",
      "23/01/01 12:14:36 WARN DAGScheduler: Broadcasting large task binary with size 1970.4 KiB\n",
      "23/01/01 12:14:36 WARN DAGScheduler: Broadcasting large task binary with size 1979.9 KiB\n",
      "[[151.   0.   0.   0.   0.   0.   0.   0.   0.]\n",
      " [  1. 229.   0.   0.   0.   0.   0.   0.   0.]\n",
      " [  0.   0. 292.   1.   0.   0.   0.   0.   0.]\n",
      " [  0.   0.   0.  44.   0.   1.   0.   0.   0.]\n",
      " [  1.   0.   0.   0.   1.   0.   0.   1.   0.]\n",
      " [  2.   0.   0.   0.   0.  69.   0.   1.   0.]\n",
      " [  0.   0.   0.   1.   0.   0.  38.   0.   0.]\n",
      " [  5.   0.   0.   1.   0.   0.   0. 113.   0.]\n",
      " [  2.   0.   0.   0.   0.   0.   0.   0. 111.]]\n"
     ]
    }
   ],
   "source": [
    "from pyspark.mllib.evaluation import MulticlassMetrics\n",
    "from pyspark.sql.types import FloatType\n",
    "import pyspark.sql.functions as F\n",
    "\n",
    "preds_and_labels = predictions.select(['prediction','Class']).withColumn('Class', F.col('Class').cast(FloatType())).orderBy('prediction')\n",
    "preds_and_labels = preds_and_labels.select(['prediction','Class'])\n",
    "metrics = MulticlassMetrics(preds_and_labels.rdd.map(tuple))\n",
    "print(metrics.confusionMatrix().toArray())"
   ]
  },
  {
   "cell_type": "code",
   "execution_count": 80,
   "id": "f775977e",
   "metadata": {},
   "outputs": [
    {
     "name": "stdout",
     "output_type": "stream",
     "text": [
      "Summary Stats\n",
      "\n",
      "Precision = [0.9320987654320988, 1.0, 1.0, 0.9361702127659575, 1.0, 0.9857142857142858, 1.0, 0.9826086956521739, 1.0]\n",
      "\n",
      "Recall = [1.0, 0.9956521739130435, 0.9965870307167235, 0.9777777777777777, 0.3333333333333333, 0.9583333333333334, 0.9743589743589743, 0.9495798319327731, 0.9823008849557522]\n",
      "\n",
      "F1 Score = [0.9648562300319489, 0.9978213507625272, 0.9982905982905983, 0.9565217391304347, 0.5, 0.971830985915493, 0.9870129870129869, 0.9658119658119659, 0.9910714285714286]\n",
      "\n",
      "True Positive Rate = [1.0, 0.9956521739130435, 0.9965870307167235, 0.9777777777777777, 0.3333333333333333, 0.9583333333333334, 0.9743589743589743, 0.9495798319327731, 0.9823008849557522]\n",
      "\n",
      "False Positive Rate = [0.012035010940919038, 0.0, 0.0, 0.0029411764705882353, 0.0, 0.0010070493454179255, 0.0, 0.0021141649048625794, 0.0]\n"
     ]
    }
   ],
   "source": [
    "# Overall statistics\n",
    "\n",
    "precision = []\n",
    "recall = []\n",
    "f1Score = []\n",
    "tpr = []\n",
    "fpr = []\n",
    "# metrics.truePositiveRate\n",
    "# metrics.falsePositiveRate\n",
    "for i in range(9):\n",
    "    precision.append(metrics.precision(i+1.) )\n",
    "    recall.append(metrics.recall(i+1.) )\n",
    "    f1Score.append(metrics.fMeasure(i+1.) )\n",
    "    tpr.append(metrics.truePositiveRate(i+1.) )\n",
    "    fpr.append(metrics.falsePositiveRate(i+1.) )\n",
    "print(\"Summary Stats\")\n",
    "print(\"\\nPrecision = %s\" % precision)\n",
    "print(\"\\nRecall = %s\" % recall)\n",
    "print(\"\\nF1 Score = %s\" % f1Score)\n",
    "print(\"\\nTrue Positive Rate = %s\" % tpr)\n",
    "print(\"\\nFalse Positive Rate = %s\" % fpr)\n",
    "\n",
    "\n"
   ]
  },
  {
   "cell_type": "code",
   "execution_count": 131,
   "id": "35721d61",
   "metadata": {},
   "outputs": [
    {
     "name": "stdout",
     "output_type": "stream",
     "text": [
      "Summary mean Stats\n",
      "\n",
      "Precision = 0.9818435510627239\n",
      "\n",
      "Recall = 0.9075470378135234\n",
      "\n",
      "F1 Score = 0.9259130317252647\n",
      "\n",
      "True Positive Rate = 0.9075470378135234\n",
      "\n",
      "False Positive Rate = 0.0020108224068653086\n"
     ]
    }
   ],
   "source": [
    "# calculaing the means for all the above metrics \n",
    "\n",
    "precision_m = np.mean(precision)\n",
    "recall_m = np.mean(recall)\n",
    "f1Score_m = np.mean(f1Score)\n",
    "tpr_m = np.mean(tpr)\n",
    "fpr_m = np.mean(fpr)\n",
    "\n",
    "print(\"Summary mean Stats\")\n",
    "print(\"\\nPrecision = %s\" % precision_m)\n",
    "print(\"\\nRecall = %s\" % recall_m)\n",
    "print(\"\\nF1 Score = %s\" % f1Score_m)\n",
    "print(\"\\nTrue Positive Rate = %s\" % tpr_m)\n",
    "print(\"\\nFalse Positive Rate = %s\" % fpr_m)\n",
    "\n",
    "\n"
   ]
  },
  {
   "cell_type": "markdown",
   "id": "1e22c89e",
   "metadata": {},
   "source": [
    "# Random Forest | numTrees=40, maxDepth=10"
   ]
  },
  {
   "cell_type": "code",
   "execution_count": 60,
   "id": "d2e68cbf",
   "metadata": {},
   "outputs": [],
   "source": [
    "# from pyspark.ml.classification import RandomForestClassifier"
   ]
  },
  {
   "cell_type": "code",
   "execution_count": 81,
   "id": "c3f07b3a",
   "metadata": {},
   "outputs": [
    {
     "name": "stdout",
     "output_type": "stream",
     "text": [
      "23/01/01 12:15:15 WARN TaskSetManager: Stage 1197 contains a task of very large size (15403 KiB). The maximum recommended task size is 1000 KiB.\n"
     ]
    },
    {
     "name": "stderr",
     "output_type": "stream",
     "text": [
      "                                                                                \r"
     ]
    },
    {
     "name": "stdout",
     "output_type": "stream",
     "text": [
      "23/01/01 12:15:16 WARN TaskSetManager: Stage 1198 contains a task of very large size (15403 KiB). The maximum recommended task size is 1000 KiB.\n"
     ]
    },
    {
     "name": "stderr",
     "output_type": "stream",
     "text": [
      "                                                                                \r"
     ]
    },
    {
     "name": "stdout",
     "output_type": "stream",
     "text": [
      "23/01/01 12:15:41 WARN TaskSetManager: Stage 1209 contains a task of very large size (15403 KiB). The maximum recommended task size is 1000 KiB.\n"
     ]
    },
    {
     "name": "stderr",
     "output_type": "stream",
     "text": [
      "\r",
      "[Stage 1209:>                                                       (0 + 1) / 1]\r",
      "\r",
      "                                                                                \r"
     ]
    },
    {
     "name": "stdout",
     "output_type": "stream",
     "text": [
      "23/01/01 12:15:42 WARN TaskSetManager: Stage 1210 contains a task of very large size (15403 KiB). The maximum recommended task size is 1000 KiB.\n"
     ]
    },
    {
     "name": "stderr",
     "output_type": "stream",
     "text": [
      "                                                                                \r"
     ]
    },
    {
     "name": "stdout",
     "output_type": "stream",
     "text": [
      "23/01/01 12:15:43 WARN TaskSetManager: Stage 1222 contains a task of very large size (15403 KiB). The maximum recommended task size is 1000 KiB.\n"
     ]
    },
    {
     "name": "stderr",
     "output_type": "stream",
     "text": [
      "                                                                                \r"
     ]
    },
    {
     "name": "stdout",
     "output_type": "stream",
     "text": [
      "23/01/01 12:15:44 WARN TaskSetManager: Stage 1223 contains a task of very large size (15403 KiB). The maximum recommended task size is 1000 KiB.\n"
     ]
    },
    {
     "name": "stderr",
     "output_type": "stream",
     "text": [
      "                                                                                \r"
     ]
    },
    {
     "name": "stdout",
     "output_type": "stream",
     "text": [
      "23/01/01 12:15:53 WARN DAGScheduler: Broadcasting large task binary with size 1084.0 KiB\n"
     ]
    },
    {
     "name": "stderr",
     "output_type": "stream",
     "text": [
      "                                                                                \r"
     ]
    },
    {
     "name": "stdout",
     "output_type": "stream",
     "text": [
      "23/01/01 12:15:54 WARN DAGScheduler: Broadcasting large task binary with size 1500.5 KiB\n"
     ]
    },
    {
     "name": "stderr",
     "output_type": "stream",
     "text": [
      "                                                                                \r"
     ]
    },
    {
     "name": "stdout",
     "output_type": "stream",
     "text": [
      "23/01/01 12:15:55 WARN DAGScheduler: Broadcasting large task binary with size 2.0 MiB\n"
     ]
    },
    {
     "name": "stderr",
     "output_type": "stream",
     "text": [
      "                                                                                \r"
     ]
    },
    {
     "name": "stdout",
     "output_type": "stream",
     "text": [
      "23/01/01 12:15:57 WARN DAGScheduler: Broadcasting large task binary with size 2.6 MiB\n"
     ]
    },
    {
     "name": "stderr",
     "output_type": "stream",
     "text": [
      "                                                                                \r"
     ]
    },
    {
     "name": "stdout",
     "output_type": "stream",
     "text": [
      "23/01/01 12:15:58 WARN DAGScheduler: Broadcasting large task binary with size 3.2 MiB\n"
     ]
    },
    {
     "name": "stderr",
     "output_type": "stream",
     "text": [
      "                                                                                \r"
     ]
    },
    {
     "name": "stdout",
     "output_type": "stream",
     "text": [
      "23/01/01 12:16:00 WARN TaskSetManager: Stage 1297 contains a task of very large size (15403 KiB). The maximum recommended task size is 1000 KiB.\n"
     ]
    },
    {
     "name": "stderr",
     "output_type": "stream",
     "text": [
      "                                                                                \r"
     ]
    },
    {
     "name": "stdout",
     "output_type": "stream",
     "text": [
      "23/01/01 12:16:01 WARN TaskSetManager: Stage 1298 contains a task of very large size (15403 KiB). The maximum recommended task size is 1000 KiB.\n"
     ]
    },
    {
     "name": "stderr",
     "output_type": "stream",
     "text": [
      "                                                                                \r"
     ]
    }
   ],
   "source": [
    "rf = RandomForestClassifier(numTrees=40, maxDepth=10,featuresCol = \"features\", labelCol = \"Class\")\n",
    "s1 = time.time()\n",
    "rfModel = rf.fit(TRAIN)\n",
    "predictions = rfModel.transform(TEST)\n",
    "s2 = time.time()\n",
    "TIME.append(s2-s1)"
   ]
  },
  {
   "cell_type": "code",
   "execution_count": 168,
   "id": "6b1803f3",
   "metadata": {
    "collapsed": true
   },
   "outputs": [
    {
     "name": "stdout",
     "output_type": "stream",
     "text": [
      "22/12/31 15:37:49 WARN TaskSetManager: Stage 180 contains a task of very large size (15647 KiB). The maximum recommended task size is 1000 KiB.\n"
     ]
    },
    {
     "name": "stderr",
     "output_type": "stream",
     "text": [
      "                                                                                \r"
     ]
    },
    {
     "name": "stdout",
     "output_type": "stream",
     "text": [
      "22/12/31 15:37:50 WARN TaskSetManager: Stage 181 contains a task of very large size (15647 KiB). The maximum recommended task size is 1000 KiB.\n"
     ]
    },
    {
     "name": "stderr",
     "output_type": "stream",
     "text": [
      "                                                                                \r"
     ]
    },
    {
     "data": {
      "text/html": [
       "<div>\n",
       "<style scoped>\n",
       "    .dataframe tbody tr th:only-of-type {\n",
       "        vertical-align: middle;\n",
       "    }\n",
       "\n",
       "    .dataframe tbody tr th {\n",
       "        vertical-align: top;\n",
       "    }\n",
       "\n",
       "    .dataframe thead th {\n",
       "        text-align: right;\n",
       "    }\n",
       "</style>\n",
       "<table border=\"1\" class=\"dataframe\">\n",
       "  <thead>\n",
       "    <tr style=\"text-align: right;\">\n",
       "      <th></th>\n",
       "      <th>db</th>\n",
       "      <th>mov</th>\n",
       "      <th>push</th>\n",
       "      <th>call</th>\n",
       "      <th>jmp</th>\n",
       "      <th>test</th>\n",
       "      <th>cmp</th>\n",
       "      <th>sub</th>\n",
       "      <th>add</th>\n",
       "      <th>jz</th>\n",
       "      <th>...</th>\n",
       "      <th>vpcmpeqd</th>\n",
       "      <th>daa</th>\n",
       "      <th>vpsrlw</th>\n",
       "      <th>stosd</th>\n",
       "      <th>Id</th>\n",
       "      <th>Class</th>\n",
       "      <th>features</th>\n",
       "      <th>rawPrediction</th>\n",
       "      <th>probability</th>\n",
       "      <th>prediction</th>\n",
       "    </tr>\n",
       "  </thead>\n",
       "  <tbody>\n",
       "    <tr>\n",
       "      <th>0</th>\n",
       "      <td>1417101</td>\n",
       "      <td>6224</td>\n",
       "      <td>2370</td>\n",
       "      <td>922</td>\n",
       "      <td>918</td>\n",
       "      <td>827</td>\n",
       "      <td>1006</td>\n",
       "      <td>881</td>\n",
       "      <td>826</td>\n",
       "      <td>697</td>\n",
       "      <td>...</td>\n",
       "      <td>0</td>\n",
       "      <td>0</td>\n",
       "      <td>0</td>\n",
       "      <td>0</td>\n",
       "      <td>ecd3A46BQyk2SFJ7IMqb</td>\n",
       "      <td>8</td>\n",
       "      <td>(1417101.0, 6224.0, 2370.0, 922.0, 918.0, 827....</td>\n",
       "      <td>[0.0, 2.93246389296825, 4.7026962518154285, 5....</td>\n",
       "      <td>[0.0, 0.14662319464841253, 0.23513481259077146...</td>\n",
       "      <td>3.0</td>\n",
       "    </tr>\n",
       "    <tr>\n",
       "      <th>1</th>\n",
       "      <td>506008</td>\n",
       "      <td>2092</td>\n",
       "      <td>2741</td>\n",
       "      <td>1041</td>\n",
       "      <td>245</td>\n",
       "      <td>378</td>\n",
       "      <td>546</td>\n",
       "      <td>80</td>\n",
       "      <td>543</td>\n",
       "      <td>462</td>\n",
       "      <td>...</td>\n",
       "      <td>0</td>\n",
       "      <td>0</td>\n",
       "      <td>0</td>\n",
       "      <td>0</td>\n",
       "      <td>iVAMDtFgjQHusEGmWJCT</td>\n",
       "      <td>2</td>\n",
       "      <td>(506008.0, 2092.0, 2741.0, 1041.0, 245.0, 378....</td>\n",
       "      <td>[0.0, 2.8003635965720712, 4.688393468602078, 5...</td>\n",
       "      <td>[0.0, 0.14001817982860362, 0.23441967343010398...</td>\n",
       "      <td>3.0</td>\n",
       "    </tr>\n",
       "    <tr>\n",
       "      <th>2</th>\n",
       "      <td>934683</td>\n",
       "      <td>1236</td>\n",
       "      <td>776</td>\n",
       "      <td>386</td>\n",
       "      <td>270</td>\n",
       "      <td>391</td>\n",
       "      <td>285</td>\n",
       "      <td>180</td>\n",
       "      <td>127</td>\n",
       "      <td>315</td>\n",
       "      <td>...</td>\n",
       "      <td>0</td>\n",
       "      <td>0</td>\n",
       "      <td>0</td>\n",
       "      <td>0</td>\n",
       "      <td>gtiXlab7VqBfK2PYzdx6</td>\n",
       "      <td>3</td>\n",
       "      <td>(934683.0, 1236.0, 776.0, 386.0, 270.0, 391.0,...</td>\n",
       "      <td>[0.0, 2.8349880509799914, 4.624234393584697, 5...</td>\n",
       "      <td>[0.0, 0.14174940254899956, 0.23121171967923485...</td>\n",
       "      <td>3.0</td>\n",
       "    </tr>\n",
       "    <tr>\n",
       "      <th>3</th>\n",
       "      <td>14518</td>\n",
       "      <td>3087</td>\n",
       "      <td>1919</td>\n",
       "      <td>788</td>\n",
       "      <td>468</td>\n",
       "      <td>480</td>\n",
       "      <td>601</td>\n",
       "      <td>139</td>\n",
       "      <td>694</td>\n",
       "      <td>529</td>\n",
       "      <td>...</td>\n",
       "      <td>0</td>\n",
       "      <td>0</td>\n",
       "      <td>0</td>\n",
       "      <td>0</td>\n",
       "      <td>E5LXhtYsZMWfA4ebSVUk</td>\n",
       "      <td>3</td>\n",
       "      <td>(14518.0, 3087.0, 1919.0, 788.0, 468.0, 480.0,...</td>\n",
       "      <td>[0.0, 2.8443643749834537, 4.482604228622607, 5...</td>\n",
       "      <td>[0.0, 0.14221821874917268, 0.22413021143113038...</td>\n",
       "      <td>3.0</td>\n",
       "    </tr>\n",
       "    <tr>\n",
       "      <th>4</th>\n",
       "      <td>76924</td>\n",
       "      <td>489</td>\n",
       "      <td>860</td>\n",
       "      <td>33</td>\n",
       "      <td>1337</td>\n",
       "      <td>69</td>\n",
       "      <td>110</td>\n",
       "      <td>191</td>\n",
       "      <td>266</td>\n",
       "      <td>19</td>\n",
       "      <td>...</td>\n",
       "      <td>0</td>\n",
       "      <td>0</td>\n",
       "      <td>0</td>\n",
       "      <td>0</td>\n",
       "      <td>I2Rtqw5TSvPfYjFkXGKr</td>\n",
       "      <td>8</td>\n",
       "      <td>(76924.0, 489.0, 860.0, 33.0, 1337.0, 69.0, 11...</td>\n",
       "      <td>[0.0, 2.2545317939040976, 5.491689163622502, 4...</td>\n",
       "      <td>[0.0, 0.1127265896952049, 0.27458445818112515,...</td>\n",
       "      <td>2.0</td>\n",
       "    </tr>\n",
       "    <tr>\n",
       "      <th>...</th>\n",
       "      <td>...</td>\n",
       "      <td>...</td>\n",
       "      <td>...</td>\n",
       "      <td>...</td>\n",
       "      <td>...</td>\n",
       "      <td>...</td>\n",
       "      <td>...</td>\n",
       "      <td>...</td>\n",
       "      <td>...</td>\n",
       "      <td>...</td>\n",
       "      <td>...</td>\n",
       "      <td>...</td>\n",
       "      <td>...</td>\n",
       "      <td>...</td>\n",
       "      <td>...</td>\n",
       "      <td>...</td>\n",
       "      <td>...</td>\n",
       "      <td>...</td>\n",
       "      <td>...</td>\n",
       "      <td>...</td>\n",
       "      <td>...</td>\n",
       "    </tr>\n",
       "    <tr>\n",
       "      <th>1063</th>\n",
       "      <td>649</td>\n",
       "      <td>3924</td>\n",
       "      <td>211</td>\n",
       "      <td>305</td>\n",
       "      <td>298</td>\n",
       "      <td>345</td>\n",
       "      <td>367</td>\n",
       "      <td>274</td>\n",
       "      <td>465</td>\n",
       "      <td>253</td>\n",
       "      <td>...</td>\n",
       "      <td>0</td>\n",
       "      <td>0</td>\n",
       "      <td>0</td>\n",
       "      <td>0</td>\n",
       "      <td>6ZO9dMHY5JkCofwTSyvm</td>\n",
       "      <td>1</td>\n",
       "      <td>(649.0, 3924.0, 211.0, 305.0, 298.0, 345.0, 36...</td>\n",
       "      <td>[0.0, 2.7903251843666257, 4.615526141603453, 5...</td>\n",
       "      <td>[0.0, 0.13951625921833127, 0.23077630708017266...</td>\n",
       "      <td>3.0</td>\n",
       "    </tr>\n",
       "    <tr>\n",
       "      <th>1064</th>\n",
       "      <td>173150</td>\n",
       "      <td>5899</td>\n",
       "      <td>3472</td>\n",
       "      <td>1341</td>\n",
       "      <td>746</td>\n",
       "      <td>726</td>\n",
       "      <td>728</td>\n",
       "      <td>816</td>\n",
       "      <td>680</td>\n",
       "      <td>566</td>\n",
       "      <td>...</td>\n",
       "      <td>0</td>\n",
       "      <td>0</td>\n",
       "      <td>0</td>\n",
       "      <td>0</td>\n",
       "      <td>Ei92sQqeJWtwHkcx8ouK</td>\n",
       "      <td>8</td>\n",
       "      <td>(173150.0, 5899.0, 3472.0, 1341.0, 746.0, 726....</td>\n",
       "      <td>[0.0, 2.936369598391365, 4.73270969923399, 5.3...</td>\n",
       "      <td>[0.0, 0.14681847991956826, 0.23663548496169948...</td>\n",
       "      <td>3.0</td>\n",
       "    </tr>\n",
       "    <tr>\n",
       "      <th>1065</th>\n",
       "      <td>7310</td>\n",
       "      <td>2555</td>\n",
       "      <td>407</td>\n",
       "      <td>204</td>\n",
       "      <td>75</td>\n",
       "      <td>11</td>\n",
       "      <td>190</td>\n",
       "      <td>376</td>\n",
       "      <td>426</td>\n",
       "      <td>78</td>\n",
       "      <td>...</td>\n",
       "      <td>0</td>\n",
       "      <td>0</td>\n",
       "      <td>0</td>\n",
       "      <td>0</td>\n",
       "      <td>5FXu1yi9MvKsJIGPC72c</td>\n",
       "      <td>2</td>\n",
       "      <td>(7310.0, 2555.0, 407.0, 204.0, 75.0, 11.0, 190...</td>\n",
       "      <td>[0.0, 2.8606905950745176, 4.40337991911419, 5....</td>\n",
       "      <td>[0.0, 0.14303452975372585, 0.22016899595570946...</td>\n",
       "      <td>3.0</td>\n",
       "    </tr>\n",
       "    <tr>\n",
       "      <th>1066</th>\n",
       "      <td>7905</td>\n",
       "      <td>2295</td>\n",
       "      <td>393</td>\n",
       "      <td>132</td>\n",
       "      <td>71</td>\n",
       "      <td>6</td>\n",
       "      <td>174</td>\n",
       "      <td>327</td>\n",
       "      <td>390</td>\n",
       "      <td>70</td>\n",
       "      <td>...</td>\n",
       "      <td>0</td>\n",
       "      <td>0</td>\n",
       "      <td>0</td>\n",
       "      <td>0</td>\n",
       "      <td>75IA0ztPUf4HQJiacnoW</td>\n",
       "      <td>3</td>\n",
       "      <td>(7905.0, 2295.0, 393.0, 132.0, 71.0, 6.0, 174....</td>\n",
       "      <td>[0.0, 2.89521599003667, 4.485606767897073, 5.4...</td>\n",
       "      <td>[0.0, 0.1447607995018335, 0.22428033839485365,...</td>\n",
       "      <td>3.0</td>\n",
       "    </tr>\n",
       "    <tr>\n",
       "      <th>1067</th>\n",
       "      <td>1564</td>\n",
       "      <td>7571</td>\n",
       "      <td>5004</td>\n",
       "      <td>2377</td>\n",
       "      <td>416</td>\n",
       "      <td>1539</td>\n",
       "      <td>1263</td>\n",
       "      <td>446</td>\n",
       "      <td>2417</td>\n",
       "      <td>1370</td>\n",
       "      <td>...</td>\n",
       "      <td>0</td>\n",
       "      <td>0</td>\n",
       "      <td>0</td>\n",
       "      <td>0</td>\n",
       "      <td>19BtdpKYGOSyX3oZsirc</td>\n",
       "      <td>3</td>\n",
       "      <td>(1564.0, 7571.0, 5004.0, 2377.0, 416.0, 1539.0...</td>\n",
       "      <td>[0.0, 2.7837651503632332, 4.503392494625092, 5...</td>\n",
       "      <td>[0.0, 0.1391882575181617, 0.22516962473125463,...</td>\n",
       "      <td>3.0</td>\n",
       "    </tr>\n",
       "  </tbody>\n",
       "</table>\n",
       "<p>1068 rows × 725 columns</p>\n",
       "</div>"
      ],
      "text/plain": [
       "           db   mov  push  call   jmp  test   cmp  sub   add    jz  ...  \\\n",
       "0     1417101  6224  2370   922   918   827  1006  881   826   697  ...   \n",
       "1      506008  2092  2741  1041   245   378   546   80   543   462  ...   \n",
       "2      934683  1236   776   386   270   391   285  180   127   315  ...   \n",
       "3       14518  3087  1919   788   468   480   601  139   694   529  ...   \n",
       "4       76924   489   860    33  1337    69   110  191   266    19  ...   \n",
       "...       ...   ...   ...   ...   ...   ...   ...  ...   ...   ...  ...   \n",
       "1063      649  3924   211   305   298   345   367  274   465   253  ...   \n",
       "1064   173150  5899  3472  1341   746   726   728  816   680   566  ...   \n",
       "1065     7310  2555   407   204    75    11   190  376   426    78  ...   \n",
       "1066     7905  2295   393   132    71     6   174  327   390    70  ...   \n",
       "1067     1564  7571  5004  2377   416  1539  1263  446  2417  1370  ...   \n",
       "\n",
       "      vpcmpeqd  daa  vpsrlw  stosd                    Id  Class  \\\n",
       "0            0    0       0      0  ecd3A46BQyk2SFJ7IMqb      8   \n",
       "1            0    0       0      0  iVAMDtFgjQHusEGmWJCT      2   \n",
       "2            0    0       0      0  gtiXlab7VqBfK2PYzdx6      3   \n",
       "3            0    0       0      0  E5LXhtYsZMWfA4ebSVUk      3   \n",
       "4            0    0       0      0  I2Rtqw5TSvPfYjFkXGKr      8   \n",
       "...        ...  ...     ...    ...                   ...    ...   \n",
       "1063         0    0       0      0  6ZO9dMHY5JkCofwTSyvm      1   \n",
       "1064         0    0       0      0  Ei92sQqeJWtwHkcx8ouK      8   \n",
       "1065         0    0       0      0  5FXu1yi9MvKsJIGPC72c      2   \n",
       "1066         0    0       0      0  75IA0ztPUf4HQJiacnoW      3   \n",
       "1067         0    0       0      0  19BtdpKYGOSyX3oZsirc      3   \n",
       "\n",
       "                                               features  \\\n",
       "0     (1417101.0, 6224.0, 2370.0, 922.0, 918.0, 827....   \n",
       "1     (506008.0, 2092.0, 2741.0, 1041.0, 245.0, 378....   \n",
       "2     (934683.0, 1236.0, 776.0, 386.0, 270.0, 391.0,...   \n",
       "3     (14518.0, 3087.0, 1919.0, 788.0, 468.0, 480.0,...   \n",
       "4     (76924.0, 489.0, 860.0, 33.0, 1337.0, 69.0, 11...   \n",
       "...                                                 ...   \n",
       "1063  (649.0, 3924.0, 211.0, 305.0, 298.0, 345.0, 36...   \n",
       "1064  (173150.0, 5899.0, 3472.0, 1341.0, 746.0, 726....   \n",
       "1065  (7310.0, 2555.0, 407.0, 204.0, 75.0, 11.0, 190...   \n",
       "1066  (7905.0, 2295.0, 393.0, 132.0, 71.0, 6.0, 174....   \n",
       "1067  (1564.0, 7571.0, 5004.0, 2377.0, 416.0, 1539.0...   \n",
       "\n",
       "                                          rawPrediction  \\\n",
       "0     [0.0, 2.93246389296825, 4.7026962518154285, 5....   \n",
       "1     [0.0, 2.8003635965720712, 4.688393468602078, 5...   \n",
       "2     [0.0, 2.8349880509799914, 4.624234393584697, 5...   \n",
       "3     [0.0, 2.8443643749834537, 4.482604228622607, 5...   \n",
       "4     [0.0, 2.2545317939040976, 5.491689163622502, 4...   \n",
       "...                                                 ...   \n",
       "1063  [0.0, 2.7903251843666257, 4.615526141603453, 5...   \n",
       "1064  [0.0, 2.936369598391365, 4.73270969923399, 5.3...   \n",
       "1065  [0.0, 2.8606905950745176, 4.40337991911419, 5....   \n",
       "1066  [0.0, 2.89521599003667, 4.485606767897073, 5.4...   \n",
       "1067  [0.0, 2.7837651503632332, 4.503392494625092, 5...   \n",
       "\n",
       "                                            probability  prediction  \n",
       "0     [0.0, 0.14662319464841253, 0.23513481259077146...         3.0  \n",
       "1     [0.0, 0.14001817982860362, 0.23441967343010398...         3.0  \n",
       "2     [0.0, 0.14174940254899956, 0.23121171967923485...         3.0  \n",
       "3     [0.0, 0.14221821874917268, 0.22413021143113038...         3.0  \n",
       "4     [0.0, 0.1127265896952049, 0.27458445818112515,...         2.0  \n",
       "...                                                 ...         ...  \n",
       "1063  [0.0, 0.13951625921833127, 0.23077630708017266...         3.0  \n",
       "1064  [0.0, 0.14681847991956826, 0.23663548496169948...         3.0  \n",
       "1065  [0.0, 0.14303452975372585, 0.22016899595570946...         3.0  \n",
       "1066  [0.0, 0.1447607995018335, 0.22428033839485365,...         3.0  \n",
       "1067  [0.0, 0.1391882575181617, 0.22516962473125463,...         3.0  \n",
       "\n",
       "[1068 rows x 725 columns]"
      ]
     },
     "execution_count": 168,
     "metadata": {},
     "output_type": "execute_result"
    }
   ],
   "source": [
    "# predictions.select(\"*\").toPandas()"
   ]
  },
  {
   "cell_type": "code",
   "execution_count": 82,
   "id": "269b85b5",
   "metadata": {},
   "outputs": [
    {
     "name": "stdout",
     "output_type": "stream",
     "text": [
      "23/01/01 12:17:51 WARN TaskSetManager: Stage 1309 contains a task of very large size (15403 KiB). The maximum recommended task size is 1000 KiB.\n"
     ]
    },
    {
     "name": "stderr",
     "output_type": "stream",
     "text": [
      "                                                                                \r"
     ]
    },
    {
     "name": "stdout",
     "output_type": "stream",
     "text": [
      "23/01/01 12:17:52 WARN TaskSetManager: Stage 1310 contains a task of very large size (15403 KiB). The maximum recommended task size is 1000 KiB.\n"
     ]
    },
    {
     "name": "stderr",
     "output_type": "stream",
     "text": [
      "                                                                                \r"
     ]
    },
    {
     "name": "stdout",
     "output_type": "stream",
     "text": [
      "23/01/01 12:17:54 WARN DAGScheduler: Broadcasting large task binary with size 2.4 MiB\n",
      "+-----+----------+\n",
      "|Class|prediction|\n",
      "+-----+----------+\n",
      "|    6|       6.0|\n",
      "|    1|       1.0|\n",
      "|    4|       4.0|\n",
      "|    2|       2.0|\n",
      "|    9|       9.0|\n",
      "|    3|       3.0|\n",
      "|    3|       3.0|\n",
      "|    1|       1.0|\n",
      "|    9|       9.0|\n",
      "|    2|       2.0|\n",
      "+-----+----------+\n",
      "only showing top 10 rows\n",
      "\n"
     ]
    }
   ],
   "source": [
    "predictions.select(\"Class\", \"prediction\").show(10)"
   ]
  },
  {
   "cell_type": "code",
   "execution_count": 63,
   "id": "d4020e0b",
   "metadata": {},
   "outputs": [],
   "source": [
    "# from pyspark.ml.evaluation import MulticlassClassificationEvaluator\n"
   ]
  },
  {
   "cell_type": "code",
   "execution_count": 83,
   "id": "c9330da1",
   "metadata": {},
   "outputs": [
    {
     "name": "stdout",
     "output_type": "stream",
     "text": [
      "23/01/01 12:18:03 WARN TaskSetManager: Stage 1325 contains a task of very large size (15403 KiB). The maximum recommended task size is 1000 KiB.\n"
     ]
    },
    {
     "name": "stderr",
     "output_type": "stream",
     "text": [
      "                                                                                \r"
     ]
    },
    {
     "name": "stdout",
     "output_type": "stream",
     "text": [
      "23/01/01 12:18:04 WARN TaskSetManager: Stage 1326 contains a task of very large size (15403 KiB). The maximum recommended task size is 1000 KiB.\n"
     ]
    },
    {
     "name": "stderr",
     "output_type": "stream",
     "text": [
      "                                                                                \r"
     ]
    },
    {
     "name": "stdout",
     "output_type": "stream",
     "text": [
      "23/01/01 12:18:05 WARN DAGScheduler: Broadcasting large task binary with size 2.4 MiB\n",
      "Accuracy = 0.9827820210291215\n",
      "Test Error = 0.01721797897087851\n"
     ]
    }
   ],
   "source": [
    "evaluator = MulticlassClassificationEvaluator(labelCol=\"Class\", predictionCol=\"prediction\")\n",
    "accuracy = evaluator.evaluate(predictions)\n",
    "print(\"Accuracy = %s\" % (accuracy))\n",
    "print(\"Test Error = %s\" % (1.0 - accuracy))\n",
    "ACC.append(accuracy)"
   ]
  },
  {
   "cell_type": "code",
   "execution_count": 84,
   "id": "73050b95",
   "metadata": {},
   "outputs": [
    {
     "name": "stdout",
     "output_type": "stream",
     "text": [
      "23/01/01 12:18:25 WARN TaskSetManager: Stage 1342 contains a task of very large size (15403 KiB). The maximum recommended task size is 1000 KiB.\n"
     ]
    },
    {
     "name": "stderr",
     "output_type": "stream",
     "text": [
      "                                                                                \r"
     ]
    },
    {
     "name": "stdout",
     "output_type": "stream",
     "text": [
      "23/01/01 12:18:26 WARN TaskSetManager: Stage 1343 contains a task of very large size (15403 KiB). The maximum recommended task size is 1000 KiB.\n"
     ]
    },
    {
     "name": "stderr",
     "output_type": "stream",
     "text": [
      "                                                                                \r"
     ]
    },
    {
     "name": "stdout",
     "output_type": "stream",
     "text": [
      "23/01/01 12:18:30 WARN DAGScheduler: Broadcasting large task binary with size 2.4 MiB\n",
      "23/01/01 12:18:30 WARN DAGScheduler: Broadcasting large task binary with size 2.4 MiB\n",
      "23/01/01 12:18:31 WARN DAGScheduler: Broadcasting large task binary with size 2.4 MiB\n",
      "23/01/01 12:18:31 WARN DAGScheduler: Broadcasting large task binary with size 2.4 MiB\n",
      "[[151.   0.   0.   0.   0.   0.   0.   0.   0.]\n",
      " [  1. 229.   0.   0.   0.   0.   0.   0.   0.]\n",
      " [  0.   0. 291.   1.   0.   1.   0.   0.   0.]\n",
      " [  0.   0.   0.  45.   0.   0.   0.   0.   0.]\n",
      " [  1.   0.   0.   0.   1.   0.   0.   1.   0.]\n",
      " [  2.   0.   0.   1.   0.  69.   0.   0.   0.]\n",
      " [  0.   0.   0.   1.   0.   0.  38.   0.   0.]\n",
      " [  6.   0.   0.   1.   0.   0.   0. 112.   0.]\n",
      " [  2.   0.   0.   0.   0.   0.   0.   0. 111.]]\n"
     ]
    }
   ],
   "source": [
    "from pyspark.mllib.evaluation import MulticlassMetrics\n",
    "from pyspark.sql.types import FloatType\n",
    "import pyspark.sql.functions as F\n",
    "\n",
    "preds_and_labels = predictions.select(['prediction','Class']).withColumn('Class', F.col('Class').cast(FloatType())).orderBy('prediction')\n",
    "preds_and_labels = preds_and_labels.select(['prediction','Class'])\n",
    "metrics = MulticlassMetrics(preds_and_labels.rdd.map(tuple))\n",
    "print(metrics.confusionMatrix().toArray())"
   ]
  },
  {
   "cell_type": "code",
   "execution_count": 85,
   "id": "0f197c3a",
   "metadata": {},
   "outputs": [
    {
     "name": "stdout",
     "output_type": "stream",
     "text": [
      "Summary Stats\n",
      "\n",
      "Precision = [0.9263803680981595, 1.0, 1.0, 0.9183673469387755, 1.0, 0.9857142857142858, 1.0, 0.9911504424778761, 1.0]\n",
      "\n",
      "Recall = [1.0, 0.9956521739130435, 0.9931740614334471, 1.0, 0.3333333333333333, 0.9583333333333334, 0.9743589743589743, 0.9411764705882353, 0.9823008849557522]\n",
      "\n",
      "F1 Score = [0.9617834394904459, 0.9978213507625272, 0.9965753424657535, 0.9574468085106383, 0.5, 0.971830985915493, 0.9870129870129869, 0.9655172413793104, 0.9910714285714286]\n",
      "\n",
      "True Positive Rate = [1.0, 0.9956521739130435, 0.9931740614334471, 1.0, 0.3333333333333333, 0.9583333333333334, 0.9743589743589743, 0.9411764705882353, 0.9823008849557522]\n",
      "\n",
      "False Positive Rate = [0.01312910284463895, 0.0, 0.0, 0.00392156862745098, 0.0, 0.0010070493454179255, 0.0, 0.0010570824524312897, 0.0]\n"
     ]
    }
   ],
   "source": [
    "# Overall statistics\n",
    "\n",
    "precision = []\n",
    "recall = []\n",
    "f1Score = []\n",
    "tpr = []\n",
    "fpr = []\n",
    "# metrics.truePositiveRate\n",
    "# metrics.falsePositiveRate\n",
    "for i in range(9):\n",
    "    precision.append(metrics.precision(i+1.) )\n",
    "    recall.append(metrics.recall(i+1.) )\n",
    "    f1Score.append(metrics.fMeasure(i+1.) )\n",
    "    tpr.append(metrics.truePositiveRate(i+1.) )\n",
    "    fpr.append(metrics.falsePositiveRate(i+1.) )\n",
    "print(\"Summary Stats\")\n",
    "print(\"\\nPrecision = %s\" % precision)\n",
    "print(\"\\nRecall = %s\" % recall)\n",
    "print(\"\\nF1 Score = %s\" % f1Score)\n",
    "print(\"\\nTrue Positive Rate = %s\" % tpr)\n",
    "print(\"\\nFalse Positive Rate = %s\" % fpr)\n",
    "\n",
    "\n"
   ]
  },
  {
   "cell_type": "code",
   "execution_count": null,
   "id": "71952836",
   "metadata": {},
   "outputs": [],
   "source": []
  },
  {
   "cell_type": "markdown",
   "id": "18456607",
   "metadata": {},
   "source": [
    "# Random Forest | numTrees=50, maxDepth=10"
   ]
  },
  {
   "cell_type": "code",
   "execution_count": 60,
   "id": "33e924a9",
   "metadata": {},
   "outputs": [],
   "source": [
    "# from pyspark.ml.classification import RandomForestClassifier"
   ]
  },
  {
   "cell_type": "code",
   "execution_count": 86,
   "id": "a6e89310",
   "metadata": {},
   "outputs": [
    {
     "name": "stdout",
     "output_type": "stream",
     "text": [
      "23/01/01 12:19:55 WARN TaskSetManager: Stage 1373 contains a task of very large size (15403 KiB). The maximum recommended task size is 1000 KiB.\n"
     ]
    },
    {
     "name": "stderr",
     "output_type": "stream",
     "text": [
      "                                                                                \r"
     ]
    },
    {
     "name": "stdout",
     "output_type": "stream",
     "text": [
      "23/01/01 12:19:56 WARN TaskSetManager: Stage 1374 contains a task of very large size (15403 KiB). The maximum recommended task size is 1000 KiB.\n"
     ]
    },
    {
     "name": "stderr",
     "output_type": "stream",
     "text": [
      "                                                                                \r"
     ]
    },
    {
     "name": "stdout",
     "output_type": "stream",
     "text": [
      "23/01/01 12:20:24 WARN TaskSetManager: Stage 1385 contains a task of very large size (15403 KiB). The maximum recommended task size is 1000 KiB.\n"
     ]
    },
    {
     "name": "stderr",
     "output_type": "stream",
     "text": [
      "                                                                                \r"
     ]
    },
    {
     "name": "stdout",
     "output_type": "stream",
     "text": [
      "23/01/01 12:20:25 WARN TaskSetManager: Stage 1386 contains a task of very large size (15403 KiB). The maximum recommended task size is 1000 KiB.\n"
     ]
    },
    {
     "name": "stderr",
     "output_type": "stream",
     "text": [
      "                                                                                \r"
     ]
    },
    {
     "name": "stdout",
     "output_type": "stream",
     "text": [
      "23/01/01 12:20:26 WARN TaskSetManager: Stage 1398 contains a task of very large size (15403 KiB). The maximum recommended task size is 1000 KiB.\n"
     ]
    },
    {
     "name": "stderr",
     "output_type": "stream",
     "text": [
      "                                                                                \r"
     ]
    },
    {
     "name": "stdout",
     "output_type": "stream",
     "text": [
      "23/01/01 12:20:27 WARN TaskSetManager: Stage 1399 contains a task of very large size (15403 KiB). The maximum recommended task size is 1000 KiB.\n"
     ]
    },
    {
     "name": "stderr",
     "output_type": "stream",
     "text": [
      "                                                                                \r"
     ]
    },
    {
     "name": "stdout",
     "output_type": "stream",
     "text": [
      "23/01/01 12:20:36 WARN DAGScheduler: Broadcasting large task binary with size 1235.8 KiB\n"
     ]
    },
    {
     "name": "stderr",
     "output_type": "stream",
     "text": [
      "                                                                                \r"
     ]
    },
    {
     "name": "stdout",
     "output_type": "stream",
     "text": [
      "23/01/01 12:20:37 WARN DAGScheduler: Broadcasting large task binary with size 1745.2 KiB\n"
     ]
    },
    {
     "name": "stderr",
     "output_type": "stream",
     "text": [
      "                                                                                \r"
     ]
    },
    {
     "name": "stdout",
     "output_type": "stream",
     "text": [
      "23/01/01 12:20:39 WARN DAGScheduler: Broadcasting large task binary with size 2.4 MiB\n"
     ]
    },
    {
     "name": "stderr",
     "output_type": "stream",
     "text": [
      "                                                                                \r"
     ]
    },
    {
     "name": "stdout",
     "output_type": "stream",
     "text": [
      "23/01/01 12:20:40 WARN DAGScheduler: Broadcasting large task binary with size 3.1 MiB\n"
     ]
    },
    {
     "name": "stderr",
     "output_type": "stream",
     "text": [
      "                                                                                \r"
     ]
    },
    {
     "name": "stdout",
     "output_type": "stream",
     "text": [
      "23/01/01 12:20:42 WARN DAGScheduler: Broadcasting large task binary with size 3.9 MiB\n"
     ]
    },
    {
     "name": "stderr",
     "output_type": "stream",
     "text": [
      "                                                                                \r"
     ]
    },
    {
     "name": "stdout",
     "output_type": "stream",
     "text": [
      "23/01/01 12:20:45 WARN TaskSetManager: Stage 1473 contains a task of very large size (15403 KiB). The maximum recommended task size is 1000 KiB.\n"
     ]
    },
    {
     "name": "stderr",
     "output_type": "stream",
     "text": [
      "                                                                                \r"
     ]
    },
    {
     "name": "stdout",
     "output_type": "stream",
     "text": [
      "23/01/01 12:20:46 WARN TaskSetManager: Stage 1474 contains a task of very large size (15403 KiB). The maximum recommended task size is 1000 KiB.\n"
     ]
    },
    {
     "name": "stderr",
     "output_type": "stream",
     "text": [
      "                                                                                \r"
     ]
    }
   ],
   "source": [
    "rf = RandomForestClassifier(numTrees=50, maxDepth=10,featuresCol = \"features\", labelCol = \"Class\")\n",
    "s1 = time.time()\n",
    "rfModel = rf.fit(TRAIN)\n",
    "predictions = rfModel.transform(TEST)\n",
    "s2 = time.time()\n",
    "TIME.append(s2-s1)"
   ]
  },
  {
   "cell_type": "code",
   "execution_count": 168,
   "id": "2f900b35",
   "metadata": {
    "collapsed": true
   },
   "outputs": [
    {
     "name": "stdout",
     "output_type": "stream",
     "text": [
      "22/12/31 15:37:49 WARN TaskSetManager: Stage 180 contains a task of very large size (15647 KiB). The maximum recommended task size is 1000 KiB.\n"
     ]
    },
    {
     "name": "stderr",
     "output_type": "stream",
     "text": [
      "                                                                                \r"
     ]
    },
    {
     "name": "stdout",
     "output_type": "stream",
     "text": [
      "22/12/31 15:37:50 WARN TaskSetManager: Stage 181 contains a task of very large size (15647 KiB). The maximum recommended task size is 1000 KiB.\n"
     ]
    },
    {
     "name": "stderr",
     "output_type": "stream",
     "text": [
      "                                                                                \r"
     ]
    },
    {
     "data": {
      "text/html": [
       "<div>\n",
       "<style scoped>\n",
       "    .dataframe tbody tr th:only-of-type {\n",
       "        vertical-align: middle;\n",
       "    }\n",
       "\n",
       "    .dataframe tbody tr th {\n",
       "        vertical-align: top;\n",
       "    }\n",
       "\n",
       "    .dataframe thead th {\n",
       "        text-align: right;\n",
       "    }\n",
       "</style>\n",
       "<table border=\"1\" class=\"dataframe\">\n",
       "  <thead>\n",
       "    <tr style=\"text-align: right;\">\n",
       "      <th></th>\n",
       "      <th>db</th>\n",
       "      <th>mov</th>\n",
       "      <th>push</th>\n",
       "      <th>call</th>\n",
       "      <th>jmp</th>\n",
       "      <th>test</th>\n",
       "      <th>cmp</th>\n",
       "      <th>sub</th>\n",
       "      <th>add</th>\n",
       "      <th>jz</th>\n",
       "      <th>...</th>\n",
       "      <th>vpcmpeqd</th>\n",
       "      <th>daa</th>\n",
       "      <th>vpsrlw</th>\n",
       "      <th>stosd</th>\n",
       "      <th>Id</th>\n",
       "      <th>Class</th>\n",
       "      <th>features</th>\n",
       "      <th>rawPrediction</th>\n",
       "      <th>probability</th>\n",
       "      <th>prediction</th>\n",
       "    </tr>\n",
       "  </thead>\n",
       "  <tbody>\n",
       "    <tr>\n",
       "      <th>0</th>\n",
       "      <td>1417101</td>\n",
       "      <td>6224</td>\n",
       "      <td>2370</td>\n",
       "      <td>922</td>\n",
       "      <td>918</td>\n",
       "      <td>827</td>\n",
       "      <td>1006</td>\n",
       "      <td>881</td>\n",
       "      <td>826</td>\n",
       "      <td>697</td>\n",
       "      <td>...</td>\n",
       "      <td>0</td>\n",
       "      <td>0</td>\n",
       "      <td>0</td>\n",
       "      <td>0</td>\n",
       "      <td>ecd3A46BQyk2SFJ7IMqb</td>\n",
       "      <td>8</td>\n",
       "      <td>(1417101.0, 6224.0, 2370.0, 922.0, 918.0, 827....</td>\n",
       "      <td>[0.0, 2.93246389296825, 4.7026962518154285, 5....</td>\n",
       "      <td>[0.0, 0.14662319464841253, 0.23513481259077146...</td>\n",
       "      <td>3.0</td>\n",
       "    </tr>\n",
       "    <tr>\n",
       "      <th>1</th>\n",
       "      <td>506008</td>\n",
       "      <td>2092</td>\n",
       "      <td>2741</td>\n",
       "      <td>1041</td>\n",
       "      <td>245</td>\n",
       "      <td>378</td>\n",
       "      <td>546</td>\n",
       "      <td>80</td>\n",
       "      <td>543</td>\n",
       "      <td>462</td>\n",
       "      <td>...</td>\n",
       "      <td>0</td>\n",
       "      <td>0</td>\n",
       "      <td>0</td>\n",
       "      <td>0</td>\n",
       "      <td>iVAMDtFgjQHusEGmWJCT</td>\n",
       "      <td>2</td>\n",
       "      <td>(506008.0, 2092.0, 2741.0, 1041.0, 245.0, 378....</td>\n",
       "      <td>[0.0, 2.8003635965720712, 4.688393468602078, 5...</td>\n",
       "      <td>[0.0, 0.14001817982860362, 0.23441967343010398...</td>\n",
       "      <td>3.0</td>\n",
       "    </tr>\n",
       "    <tr>\n",
       "      <th>2</th>\n",
       "      <td>934683</td>\n",
       "      <td>1236</td>\n",
       "      <td>776</td>\n",
       "      <td>386</td>\n",
       "      <td>270</td>\n",
       "      <td>391</td>\n",
       "      <td>285</td>\n",
       "      <td>180</td>\n",
       "      <td>127</td>\n",
       "      <td>315</td>\n",
       "      <td>...</td>\n",
       "      <td>0</td>\n",
       "      <td>0</td>\n",
       "      <td>0</td>\n",
       "      <td>0</td>\n",
       "      <td>gtiXlab7VqBfK2PYzdx6</td>\n",
       "      <td>3</td>\n",
       "      <td>(934683.0, 1236.0, 776.0, 386.0, 270.0, 391.0,...</td>\n",
       "      <td>[0.0, 2.8349880509799914, 4.624234393584697, 5...</td>\n",
       "      <td>[0.0, 0.14174940254899956, 0.23121171967923485...</td>\n",
       "      <td>3.0</td>\n",
       "    </tr>\n",
       "    <tr>\n",
       "      <th>3</th>\n",
       "      <td>14518</td>\n",
       "      <td>3087</td>\n",
       "      <td>1919</td>\n",
       "      <td>788</td>\n",
       "      <td>468</td>\n",
       "      <td>480</td>\n",
       "      <td>601</td>\n",
       "      <td>139</td>\n",
       "      <td>694</td>\n",
       "      <td>529</td>\n",
       "      <td>...</td>\n",
       "      <td>0</td>\n",
       "      <td>0</td>\n",
       "      <td>0</td>\n",
       "      <td>0</td>\n",
       "      <td>E5LXhtYsZMWfA4ebSVUk</td>\n",
       "      <td>3</td>\n",
       "      <td>(14518.0, 3087.0, 1919.0, 788.0, 468.0, 480.0,...</td>\n",
       "      <td>[0.0, 2.8443643749834537, 4.482604228622607, 5...</td>\n",
       "      <td>[0.0, 0.14221821874917268, 0.22413021143113038...</td>\n",
       "      <td>3.0</td>\n",
       "    </tr>\n",
       "    <tr>\n",
       "      <th>4</th>\n",
       "      <td>76924</td>\n",
       "      <td>489</td>\n",
       "      <td>860</td>\n",
       "      <td>33</td>\n",
       "      <td>1337</td>\n",
       "      <td>69</td>\n",
       "      <td>110</td>\n",
       "      <td>191</td>\n",
       "      <td>266</td>\n",
       "      <td>19</td>\n",
       "      <td>...</td>\n",
       "      <td>0</td>\n",
       "      <td>0</td>\n",
       "      <td>0</td>\n",
       "      <td>0</td>\n",
       "      <td>I2Rtqw5TSvPfYjFkXGKr</td>\n",
       "      <td>8</td>\n",
       "      <td>(76924.0, 489.0, 860.0, 33.0, 1337.0, 69.0, 11...</td>\n",
       "      <td>[0.0, 2.2545317939040976, 5.491689163622502, 4...</td>\n",
       "      <td>[0.0, 0.1127265896952049, 0.27458445818112515,...</td>\n",
       "      <td>2.0</td>\n",
       "    </tr>\n",
       "    <tr>\n",
       "      <th>...</th>\n",
       "      <td>...</td>\n",
       "      <td>...</td>\n",
       "      <td>...</td>\n",
       "      <td>...</td>\n",
       "      <td>...</td>\n",
       "      <td>...</td>\n",
       "      <td>...</td>\n",
       "      <td>...</td>\n",
       "      <td>...</td>\n",
       "      <td>...</td>\n",
       "      <td>...</td>\n",
       "      <td>...</td>\n",
       "      <td>...</td>\n",
       "      <td>...</td>\n",
       "      <td>...</td>\n",
       "      <td>...</td>\n",
       "      <td>...</td>\n",
       "      <td>...</td>\n",
       "      <td>...</td>\n",
       "      <td>...</td>\n",
       "      <td>...</td>\n",
       "    </tr>\n",
       "    <tr>\n",
       "      <th>1063</th>\n",
       "      <td>649</td>\n",
       "      <td>3924</td>\n",
       "      <td>211</td>\n",
       "      <td>305</td>\n",
       "      <td>298</td>\n",
       "      <td>345</td>\n",
       "      <td>367</td>\n",
       "      <td>274</td>\n",
       "      <td>465</td>\n",
       "      <td>253</td>\n",
       "      <td>...</td>\n",
       "      <td>0</td>\n",
       "      <td>0</td>\n",
       "      <td>0</td>\n",
       "      <td>0</td>\n",
       "      <td>6ZO9dMHY5JkCofwTSyvm</td>\n",
       "      <td>1</td>\n",
       "      <td>(649.0, 3924.0, 211.0, 305.0, 298.0, 345.0, 36...</td>\n",
       "      <td>[0.0, 2.7903251843666257, 4.615526141603453, 5...</td>\n",
       "      <td>[0.0, 0.13951625921833127, 0.23077630708017266...</td>\n",
       "      <td>3.0</td>\n",
       "    </tr>\n",
       "    <tr>\n",
       "      <th>1064</th>\n",
       "      <td>173150</td>\n",
       "      <td>5899</td>\n",
       "      <td>3472</td>\n",
       "      <td>1341</td>\n",
       "      <td>746</td>\n",
       "      <td>726</td>\n",
       "      <td>728</td>\n",
       "      <td>816</td>\n",
       "      <td>680</td>\n",
       "      <td>566</td>\n",
       "      <td>...</td>\n",
       "      <td>0</td>\n",
       "      <td>0</td>\n",
       "      <td>0</td>\n",
       "      <td>0</td>\n",
       "      <td>Ei92sQqeJWtwHkcx8ouK</td>\n",
       "      <td>8</td>\n",
       "      <td>(173150.0, 5899.0, 3472.0, 1341.0, 746.0, 726....</td>\n",
       "      <td>[0.0, 2.936369598391365, 4.73270969923399, 5.3...</td>\n",
       "      <td>[0.0, 0.14681847991956826, 0.23663548496169948...</td>\n",
       "      <td>3.0</td>\n",
       "    </tr>\n",
       "    <tr>\n",
       "      <th>1065</th>\n",
       "      <td>7310</td>\n",
       "      <td>2555</td>\n",
       "      <td>407</td>\n",
       "      <td>204</td>\n",
       "      <td>75</td>\n",
       "      <td>11</td>\n",
       "      <td>190</td>\n",
       "      <td>376</td>\n",
       "      <td>426</td>\n",
       "      <td>78</td>\n",
       "      <td>...</td>\n",
       "      <td>0</td>\n",
       "      <td>0</td>\n",
       "      <td>0</td>\n",
       "      <td>0</td>\n",
       "      <td>5FXu1yi9MvKsJIGPC72c</td>\n",
       "      <td>2</td>\n",
       "      <td>(7310.0, 2555.0, 407.0, 204.0, 75.0, 11.0, 190...</td>\n",
       "      <td>[0.0, 2.8606905950745176, 4.40337991911419, 5....</td>\n",
       "      <td>[0.0, 0.14303452975372585, 0.22016899595570946...</td>\n",
       "      <td>3.0</td>\n",
       "    </tr>\n",
       "    <tr>\n",
       "      <th>1066</th>\n",
       "      <td>7905</td>\n",
       "      <td>2295</td>\n",
       "      <td>393</td>\n",
       "      <td>132</td>\n",
       "      <td>71</td>\n",
       "      <td>6</td>\n",
       "      <td>174</td>\n",
       "      <td>327</td>\n",
       "      <td>390</td>\n",
       "      <td>70</td>\n",
       "      <td>...</td>\n",
       "      <td>0</td>\n",
       "      <td>0</td>\n",
       "      <td>0</td>\n",
       "      <td>0</td>\n",
       "      <td>75IA0ztPUf4HQJiacnoW</td>\n",
       "      <td>3</td>\n",
       "      <td>(7905.0, 2295.0, 393.0, 132.0, 71.0, 6.0, 174....</td>\n",
       "      <td>[0.0, 2.89521599003667, 4.485606767897073, 5.4...</td>\n",
       "      <td>[0.0, 0.1447607995018335, 0.22428033839485365,...</td>\n",
       "      <td>3.0</td>\n",
       "    </tr>\n",
       "    <tr>\n",
       "      <th>1067</th>\n",
       "      <td>1564</td>\n",
       "      <td>7571</td>\n",
       "      <td>5004</td>\n",
       "      <td>2377</td>\n",
       "      <td>416</td>\n",
       "      <td>1539</td>\n",
       "      <td>1263</td>\n",
       "      <td>446</td>\n",
       "      <td>2417</td>\n",
       "      <td>1370</td>\n",
       "      <td>...</td>\n",
       "      <td>0</td>\n",
       "      <td>0</td>\n",
       "      <td>0</td>\n",
       "      <td>0</td>\n",
       "      <td>19BtdpKYGOSyX3oZsirc</td>\n",
       "      <td>3</td>\n",
       "      <td>(1564.0, 7571.0, 5004.0, 2377.0, 416.0, 1539.0...</td>\n",
       "      <td>[0.0, 2.7837651503632332, 4.503392494625092, 5...</td>\n",
       "      <td>[0.0, 0.1391882575181617, 0.22516962473125463,...</td>\n",
       "      <td>3.0</td>\n",
       "    </tr>\n",
       "  </tbody>\n",
       "</table>\n",
       "<p>1068 rows × 725 columns</p>\n",
       "</div>"
      ],
      "text/plain": [
       "           db   mov  push  call   jmp  test   cmp  sub   add    jz  ...  \\\n",
       "0     1417101  6224  2370   922   918   827  1006  881   826   697  ...   \n",
       "1      506008  2092  2741  1041   245   378   546   80   543   462  ...   \n",
       "2      934683  1236   776   386   270   391   285  180   127   315  ...   \n",
       "3       14518  3087  1919   788   468   480   601  139   694   529  ...   \n",
       "4       76924   489   860    33  1337    69   110  191   266    19  ...   \n",
       "...       ...   ...   ...   ...   ...   ...   ...  ...   ...   ...  ...   \n",
       "1063      649  3924   211   305   298   345   367  274   465   253  ...   \n",
       "1064   173150  5899  3472  1341   746   726   728  816   680   566  ...   \n",
       "1065     7310  2555   407   204    75    11   190  376   426    78  ...   \n",
       "1066     7905  2295   393   132    71     6   174  327   390    70  ...   \n",
       "1067     1564  7571  5004  2377   416  1539  1263  446  2417  1370  ...   \n",
       "\n",
       "      vpcmpeqd  daa  vpsrlw  stosd                    Id  Class  \\\n",
       "0            0    0       0      0  ecd3A46BQyk2SFJ7IMqb      8   \n",
       "1            0    0       0      0  iVAMDtFgjQHusEGmWJCT      2   \n",
       "2            0    0       0      0  gtiXlab7VqBfK2PYzdx6      3   \n",
       "3            0    0       0      0  E5LXhtYsZMWfA4ebSVUk      3   \n",
       "4            0    0       0      0  I2Rtqw5TSvPfYjFkXGKr      8   \n",
       "...        ...  ...     ...    ...                   ...    ...   \n",
       "1063         0    0       0      0  6ZO9dMHY5JkCofwTSyvm      1   \n",
       "1064         0    0       0      0  Ei92sQqeJWtwHkcx8ouK      8   \n",
       "1065         0    0       0      0  5FXu1yi9MvKsJIGPC72c      2   \n",
       "1066         0    0       0      0  75IA0ztPUf4HQJiacnoW      3   \n",
       "1067         0    0       0      0  19BtdpKYGOSyX3oZsirc      3   \n",
       "\n",
       "                                               features  \\\n",
       "0     (1417101.0, 6224.0, 2370.0, 922.0, 918.0, 827....   \n",
       "1     (506008.0, 2092.0, 2741.0, 1041.0, 245.0, 378....   \n",
       "2     (934683.0, 1236.0, 776.0, 386.0, 270.0, 391.0,...   \n",
       "3     (14518.0, 3087.0, 1919.0, 788.0, 468.0, 480.0,...   \n",
       "4     (76924.0, 489.0, 860.0, 33.0, 1337.0, 69.0, 11...   \n",
       "...                                                 ...   \n",
       "1063  (649.0, 3924.0, 211.0, 305.0, 298.0, 345.0, 36...   \n",
       "1064  (173150.0, 5899.0, 3472.0, 1341.0, 746.0, 726....   \n",
       "1065  (7310.0, 2555.0, 407.0, 204.0, 75.0, 11.0, 190...   \n",
       "1066  (7905.0, 2295.0, 393.0, 132.0, 71.0, 6.0, 174....   \n",
       "1067  (1564.0, 7571.0, 5004.0, 2377.0, 416.0, 1539.0...   \n",
       "\n",
       "                                          rawPrediction  \\\n",
       "0     [0.0, 2.93246389296825, 4.7026962518154285, 5....   \n",
       "1     [0.0, 2.8003635965720712, 4.688393468602078, 5...   \n",
       "2     [0.0, 2.8349880509799914, 4.624234393584697, 5...   \n",
       "3     [0.0, 2.8443643749834537, 4.482604228622607, 5...   \n",
       "4     [0.0, 2.2545317939040976, 5.491689163622502, 4...   \n",
       "...                                                 ...   \n",
       "1063  [0.0, 2.7903251843666257, 4.615526141603453, 5...   \n",
       "1064  [0.0, 2.936369598391365, 4.73270969923399, 5.3...   \n",
       "1065  [0.0, 2.8606905950745176, 4.40337991911419, 5....   \n",
       "1066  [0.0, 2.89521599003667, 4.485606767897073, 5.4...   \n",
       "1067  [0.0, 2.7837651503632332, 4.503392494625092, 5...   \n",
       "\n",
       "                                            probability  prediction  \n",
       "0     [0.0, 0.14662319464841253, 0.23513481259077146...         3.0  \n",
       "1     [0.0, 0.14001817982860362, 0.23441967343010398...         3.0  \n",
       "2     [0.0, 0.14174940254899956, 0.23121171967923485...         3.0  \n",
       "3     [0.0, 0.14221821874917268, 0.22413021143113038...         3.0  \n",
       "4     [0.0, 0.1127265896952049, 0.27458445818112515,...         2.0  \n",
       "...                                                 ...         ...  \n",
       "1063  [0.0, 0.13951625921833127, 0.23077630708017266...         3.0  \n",
       "1064  [0.0, 0.14681847991956826, 0.23663548496169948...         3.0  \n",
       "1065  [0.0, 0.14303452975372585, 0.22016899595570946...         3.0  \n",
       "1066  [0.0, 0.1447607995018335, 0.22428033839485365,...         3.0  \n",
       "1067  [0.0, 0.1391882575181617, 0.22516962473125463,...         3.0  \n",
       "\n",
       "[1068 rows x 725 columns]"
      ]
     },
     "execution_count": 168,
     "metadata": {},
     "output_type": "execute_result"
    }
   ],
   "source": [
    "# predictions.select(\"*\").toPandas()"
   ]
  },
  {
   "cell_type": "code",
   "execution_count": 87,
   "id": "8871d889",
   "metadata": {},
   "outputs": [
    {
     "name": "stdout",
     "output_type": "stream",
     "text": [
      "23/01/01 12:21:24 WARN TaskSetManager: Stage 1485 contains a task of very large size (15403 KiB). The maximum recommended task size is 1000 KiB.\n"
     ]
    },
    {
     "name": "stderr",
     "output_type": "stream",
     "text": [
      "                                                                                \r"
     ]
    },
    {
     "name": "stdout",
     "output_type": "stream",
     "text": [
      "23/01/01 12:21:25 WARN TaskSetManager: Stage 1486 contains a task of very large size (15403 KiB). The maximum recommended task size is 1000 KiB.\n"
     ]
    },
    {
     "name": "stderr",
     "output_type": "stream",
     "text": [
      "                                                                                \r"
     ]
    },
    {
     "name": "stdout",
     "output_type": "stream",
     "text": [
      "23/01/01 12:21:29 WARN DAGScheduler: Broadcasting large task binary with size 2.9 MiB\n",
      "+-----+----------+\n",
      "|Class|prediction|\n",
      "+-----+----------+\n",
      "|    6|       6.0|\n",
      "|    1|       1.0|\n",
      "|    4|       4.0|\n",
      "|    2|       2.0|\n",
      "|    9|       9.0|\n",
      "|    3|       3.0|\n",
      "|    3|       3.0|\n",
      "|    1|       1.0|\n",
      "|    9|       9.0|\n",
      "|    2|       2.0|\n",
      "+-----+----------+\n",
      "only showing top 10 rows\n",
      "\n"
     ]
    }
   ],
   "source": [
    "predictions.select(\"Class\", \"prediction\").show(10)"
   ]
  },
  {
   "cell_type": "code",
   "execution_count": 63,
   "id": "19c6b994",
   "metadata": {},
   "outputs": [],
   "source": [
    "# from pyspark.ml.evaluation import MulticlassClassificationEvaluator\n"
   ]
  },
  {
   "cell_type": "code",
   "execution_count": 88,
   "id": "1d33d940",
   "metadata": {},
   "outputs": [
    {
     "name": "stdout",
     "output_type": "stream",
     "text": [
      "23/01/01 12:21:37 WARN TaskSetManager: Stage 1501 contains a task of very large size (15403 KiB). The maximum recommended task size is 1000 KiB.\n"
     ]
    },
    {
     "name": "stderr",
     "output_type": "stream",
     "text": [
      "\r",
      "[Stage 1501:>                                                       (0 + 1) / 1]\r",
      "\r",
      "                                                                                \r"
     ]
    },
    {
     "name": "stdout",
     "output_type": "stream",
     "text": [
      "23/01/01 12:21:37 WARN TaskSetManager: Stage 1502 contains a task of very large size (15403 KiB). The maximum recommended task size is 1000 KiB.\n"
     ]
    },
    {
     "name": "stderr",
     "output_type": "stream",
     "text": [
      "                                                                                \r"
     ]
    },
    {
     "name": "stdout",
     "output_type": "stream",
     "text": [
      "23/01/01 12:21:39 WARN DAGScheduler: Broadcasting large task binary with size 2.9 MiB\n",
      "Accuracy = 0.9818302143699189\n",
      "Test Error = 0.018169785630081092\n"
     ]
    }
   ],
   "source": [
    "evaluator = MulticlassClassificationEvaluator(labelCol=\"Class\", predictionCol=\"prediction\")\n",
    "accuracy = evaluator.evaluate(predictions)\n",
    "print(\"Accuracy = %s\" % (accuracy))\n",
    "print(\"Test Error = %s\" % (1.0 - accuracy))\n",
    "ACC.append(accuracy)"
   ]
  },
  {
   "cell_type": "code",
   "execution_count": 89,
   "id": "290714fb",
   "metadata": {},
   "outputs": [
    {
     "name": "stdout",
     "output_type": "stream",
     "text": [
      "23/01/01 12:21:44 WARN TaskSetManager: Stage 1518 contains a task of very large size (15403 KiB). The maximum recommended task size is 1000 KiB.\n"
     ]
    },
    {
     "name": "stderr",
     "output_type": "stream",
     "text": [
      "\r",
      "[Stage 1518:>                                                       (0 + 1) / 1]\r",
      "\r",
      "                                                                                \r"
     ]
    },
    {
     "name": "stdout",
     "output_type": "stream",
     "text": [
      "23/01/01 12:21:44 WARN TaskSetManager: Stage 1519 contains a task of very large size (15403 KiB). The maximum recommended task size is 1000 KiB.\n"
     ]
    },
    {
     "name": "stderr",
     "output_type": "stream",
     "text": [
      "                                                                                \r"
     ]
    },
    {
     "name": "stdout",
     "output_type": "stream",
     "text": [
      "23/01/01 12:21:46 WARN DAGScheduler: Broadcasting large task binary with size 2.9 MiB\n",
      "23/01/01 12:21:47 WARN DAGScheduler: Broadcasting large task binary with size 2.9 MiB\n",
      "23/01/01 12:21:47 WARN DAGScheduler: Broadcasting large task binary with size 2.9 MiB\n",
      "23/01/01 12:21:48 WARN DAGScheduler: Broadcasting large task binary with size 2.9 MiB\n",
      "[[151.   0.   0.   0.   0.   0.   0.   0.   0.]\n",
      " [  2. 228.   0.   0.   0.   0.   0.   0.   0.]\n",
      " [  0.   0. 291.   0.   0.   0.   1.   1.   0.]\n",
      " [  0.   0.   0.  45.   0.   0.   0.   0.   0.]\n",
      " [  0.   0.   0.   0.   1.   0.   0.   2.   0.]\n",
      " [  3.   0.   0.   0.   0.  68.   0.   1.   0.]\n",
      " [  0.   0.   0.   0.   0.   0.  39.   0.   0.]\n",
      " [  6.   0.   0.   0.   0.   0.   1. 112.   0.]\n",
      " [  2.   0.   0.   0.   0.   0.   0.   0. 111.]]\n"
     ]
    }
   ],
   "source": [
    "from pyspark.mllib.evaluation import MulticlassMetrics\n",
    "from pyspark.sql.types import FloatType\n",
    "import pyspark.sql.functions as F\n",
    "\n",
    "preds_and_labels = predictions.select(['prediction','Class']).withColumn('Class', F.col('Class').cast(FloatType())).orderBy('prediction')\n",
    "preds_and_labels = preds_and_labels.select(['prediction','Class'])\n",
    "metrics = MulticlassMetrics(preds_and_labels.rdd.map(tuple))\n",
    "print(metrics.confusionMatrix().toArray())"
   ]
  },
  {
   "cell_type": "code",
   "execution_count": 90,
   "id": "acf6b859",
   "metadata": {},
   "outputs": [
    {
     "name": "stdout",
     "output_type": "stream",
     "text": [
      "Summary Stats\n",
      "\n",
      "Precision = [0.9207317073170732, 1.0, 1.0, 1.0, 1.0, 1.0, 0.9512195121951219, 0.9655172413793104, 1.0]\n",
      "\n",
      "Recall = [1.0, 0.991304347826087, 0.9931740614334471, 1.0, 0.3333333333333333, 0.9444444444444444, 1.0, 0.9411764705882353, 0.9823008849557522]\n",
      "\n",
      "F1 Score = [0.9587301587301587, 0.9956331877729258, 0.9965753424657535, 1.0, 0.5, 0.9714285714285714, 0.975, 0.9531914893617022, 0.9910714285714286]\n",
      "\n",
      "True Positive Rate = [1.0, 0.991304347826087, 0.9931740614334471, 1.0, 0.3333333333333333, 0.9444444444444444, 1.0, 0.9411764705882353, 0.9823008849557522]\n",
      "\n",
      "False Positive Rate = [0.014223194748358862, 0.0, 0.0, 0.0, 0.0, 0.0, 0.001949317738791423, 0.004228329809725159, 0.0]\n"
     ]
    }
   ],
   "source": [
    "# Overall statistics\n",
    "\n",
    "precision = []\n",
    "recall = []\n",
    "f1Score = []\n",
    "tpr = []\n",
    "fpr = []\n",
    "# metrics.truePositiveRate\n",
    "# metrics.falsePositiveRate\n",
    "for i in range(9):\n",
    "    precision.append(metrics.precision(i+1.) )\n",
    "    recall.append(metrics.recall(i+1.) )\n",
    "    f1Score.append(metrics.fMeasure(i+1.) )\n",
    "    tpr.append(metrics.truePositiveRate(i+1.) )\n",
    "    fpr.append(metrics.falsePositiveRate(i+1.) )\n",
    "print(\"Summary Stats\")\n",
    "print(\"\\nPrecision = %s\" % precision)\n",
    "print(\"\\nRecall = %s\" % recall)\n",
    "print(\"\\nF1 Score = %s\" % f1Score)\n",
    "print(\"\\nTrue Positive Rate = %s\" % tpr)\n",
    "print(\"\\nFalse Positive Rate = %s\" % fpr)\n",
    "\n",
    "\n"
   ]
  },
  {
   "cell_type": "markdown",
   "id": "280024da",
   "metadata": {},
   "source": [
    "# ACC and time plots"
   ]
  },
  {
   "cell_type": "code",
   "execution_count": 91,
   "id": "7d68d7a1",
   "metadata": {},
   "outputs": [
    {
     "data": {
      "text/plain": [
       "[60.8727753162384,\n",
       " 58.80563688278198,\n",
       " 61.73721790313721,\n",
       " 63.06793761253357,\n",
       " 67.4094226360321]"
      ]
     },
     "execution_count": 91,
     "metadata": {},
     "output_type": "execute_result"
    }
   ],
   "source": [
    "TIME"
   ]
  },
  {
   "cell_type": "code",
   "execution_count": 92,
   "id": "733894a1",
   "metadata": {},
   "outputs": [
    {
     "data": {
      "text/plain": [
       "[0.979054122324214,\n",
       " 0.9818416124499808,\n",
       " 0.9836834345632279,\n",
       " 0.9827820210291215,\n",
       " 0.9818302143699189]"
      ]
     },
     "execution_count": 92,
     "metadata": {},
     "output_type": "execute_result"
    }
   ],
   "source": [
    "ACC"
   ]
  },
  {
   "cell_type": "code",
   "execution_count": 93,
   "id": "8aa2aa46",
   "metadata": {},
   "outputs": [
    {
     "data": {
      "text/plain": [
       "[10, 20, 30, 40, 50]"
      ]
     },
     "execution_count": 93,
     "metadata": {},
     "output_type": "execute_result"
    }
   ],
   "source": [
    "TREES = [10, 20, 30, 40, 50]\n",
    "TREES"
   ]
  },
  {
   "cell_type": "code",
   "execution_count": 111,
   "id": "b3e2f5c9",
   "metadata": {},
   "outputs": [
    {
     "data": {
      "image/png": "[encoded data removed]",
      "text/plain": [
       "<Figure size 432x288 with 1 Axes>"
      ]
     },
     "metadata": {
      "needs_background": "light"
     },
     "output_type": "display_data"
    }
   ],
   "source": [
    "# plotting the duration of training for each num_trees in experiments\n",
    "\n",
    "import matplotlib.pyplot as plt\n",
    "plt.plot(TREES, TIME,\"go-\")\n",
    "plt.title(\"Time vs num Trees\")\n",
    "plt.xlabel(\"num Trees\")\n",
    "plt.ylabel(\"Time\")\n",
    "plt.savefig(\"Time vs num_Trees.png\")"
   ]
  },
  {
   "cell_type": "code",
   "execution_count": 124,
   "id": "7ccbce64",
   "metadata": {},
   "outputs": [
    {
     "data": {
      "image/png": "[encoded data removed]",
      "text/plain": [
       "<Figure size 432x288 with 1 Axes>"
      ]
     },
     "metadata": {
      "needs_background": "light"
     },
     "output_type": "display_data"
    }
   ],
   "source": [
    "# plotting the the accuracy of models for each num_trees in experiments\n",
    "\n",
    "plt.plot(TREES, ACC,\"mo-\")\n",
    "plt.title(\"Accuracy vs num Trees\")\n",
    "plt.xlabel(\"num Trees\")\n",
    "plt.ylabel(\"Accuracy\")\n",
    "plt.savefig(\"Accuracy vs num_Trees.png\")"
   ]
  }
 ],
 "metadata": {
  "kernelspec": {
   "display_name": "Python 3 (ipykernel)",
   "language": "python",
   "name": "python3"
  },
  "language_info": {
   "codemirror_mode": {
    "name": "ipython",
    "version": 3
   },
   "file_extension": ".py",
   "mimetype": "text/x-python",
   "name": "python",
   "nbconvert_exporter": "python",
   "pygments_lexer": "ipython3",
   "version": "3.10.6"
  }
 },
 "nbformat": 4,
 "nbformat_minor": 5
}
